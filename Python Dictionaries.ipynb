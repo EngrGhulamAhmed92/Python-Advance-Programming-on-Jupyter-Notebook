{
 "cells": [
  {
   "cell_type": "markdown",
   "id": "488e4ec9-9059-42ca-bcd8-92ae2cf5e508",
   "metadata": {},
   "source": [
    "Dictionaries"
   ]
  },
  {
   "cell_type": "markdown",
   "id": "546518a1-58e6-40b9-b9d1-4f5ec61d86ae",
   "metadata": {},
   "source": [
    "Dictionaries are used to store data values in key:value pairs.\n",
    "\n",
    "A dictionary is a collection which is ordered*, changeable and do not allow duplicates.\n",
    "\n",
    "As of Python version 3.7, dictionaries are ordered. In Python 3.6 and earlier, dictionaries are unordered.\n",
    "\n",
    "Dictionaries are written with curly brackets, and have keys and values:\n",
    "\n"
   ]
  },
  {
   "cell_type": "markdown",
   "id": "a54de401-6489-4234-8347-ab7befe40a04",
   "metadata": {},
   "source": [
    "Create Empty Dictionary"
   ]
  },
  {
   "cell_type": "code",
   "execution_count": 97,
   "id": "76741890-d93a-4f08-bd40-6fca88896c82",
   "metadata": {},
   "outputs": [
    {
     "name": "stdout",
     "output_type": "stream",
     "text": [
      "<class 'dict'>\n"
     ]
    }
   ],
   "source": [
    "#Dictionaries we use curly bracket\n",
    "emp_d={}\n",
    "print(type(emp_d))"
   ]
  },
  {
   "cell_type": "code",
   "execution_count": 109,
   "id": "f24e548a-7868-4a76-9be8-cbd7657aa485",
   "metadata": {},
   "outputs": [
    {
     "name": "stdout",
     "output_type": "stream",
     "text": [
      "<class 'dict'>\n"
     ]
    }
   ],
   "source": [
    "#Dictionaries we use curly bracket\n",
    "emp_d={}\n",
    "print(type(emp_d))"
   ]
  },
  {
   "cell_type": "markdown",
   "id": "d6ee7385-76c7-40b3-a2e4-a83054d4274d",
   "metadata": {},
   "source": [
    "Creat Empty Dictionary"
   ]
  },
  {
   "cell_type": "code",
   "execution_count": 111,
   "id": "065d8c5f-17b2-41aa-9dfb-6f744bf77a77",
   "metadata": {},
   "outputs": [
    {
     "name": "stdout",
     "output_type": "stream",
     "text": [
      "<class 'dict'>\n"
     ]
    }
   ],
   "source": [
    "imp={}\n",
    "print(type(imp))"
   ]
  },
  {
   "cell_type": "code",
   "execution_count": 105,
   "id": "5c75cebd-3439-4cb8-bb14-2822b7934a52",
   "metadata": {},
   "outputs": [
    {
     "name": "stdout",
     "output_type": "stream",
     "text": [
      "{'Name': 'Ahmed', 'Gender': 'Male', 'Skills': ['Data Science', 'ML', 'AI'], 'Age': 31, 'height': 5.1}\n",
      "<class 'dict'>\n"
     ]
    }
   ],
   "source": [
    "person = {'Name':'Ahmed',\n",
    "          'Gender':'Male',\n",
    "          'Skills':['Data Science','ML','AI'],\n",
    "          'Age':31,\n",
    "         \"height\":5.1,}\n",
    "print(person)\n",
    "print(type(person))"
   ]
  },
  {
   "cell_type": "markdown",
   "id": "67e26753-1a7c-4c52-b7e2-3ce5cfd67830",
   "metadata": {},
   "source": [
    "In Dictionaries there are two things keys and values"
   ]
  },
  {
   "cell_type": "markdown",
   "id": "0ed19faf-6018-49c2-80c2-a14bf2a0a108",
   "metadata": {},
   "source": [
    "Code for keys"
   ]
  },
  {
   "cell_type": "code",
   "execution_count": 103,
   "id": "8ff3acee-31d0-4212-9dc6-c5d7081c89f1",
   "metadata": {},
   "outputs": [
    {
     "data": {
      "text/plain": [
       "dict_keys(['Name', 'Skills', 'Age', 'height', 'Marks', 'Organization', 'Roll'])"
      ]
     },
     "execution_count": 103,
     "metadata": {},
     "output_type": "execute_result"
    }
   ],
   "source": [
    "# Keys of a dictionary\n",
    "person.keys()"
   ]
  },
  {
   "cell_type": "markdown",
   "id": "9fa3ab73-3dcb-4577-911b-1c8607bf802d",
   "metadata": {},
   "source": [
    "Code for Values"
   ]
  },
  {
   "cell_type": "code",
   "execution_count": 115,
   "id": "f821be6e-3c7b-44f1-ab63-23475d819137",
   "metadata": {},
   "outputs": [
    {
     "data": {
      "text/plain": [
       "dict_values(['Ahmed', 'Male', ['Data Science', 'ML', 'AI'], 31, 5.1])"
      ]
     },
     "execution_count": 115,
     "metadata": {},
     "output_type": "execute_result"
    }
   ],
   "source": [
    "# Keys of a dictionary\n",
    "person.values()"
   ]
  },
  {
   "cell_type": "code",
   "execution_count": 117,
   "id": "9500bf9f-e802-4502-a52b-40a62a5d192b",
   "metadata": {},
   "outputs": [
    {
     "data": {
      "text/plain": [
       "dict_values(['Ahmed', 'Male', ['Data Science', 'ML', 'AI'], 31, 5.1])"
      ]
     },
     "execution_count": 117,
     "metadata": {},
     "output_type": "execute_result"
    }
   ],
   "source": [
    "# Values in your dictionary \n",
    "person.values()"
   ]
  },
  {
   "cell_type": "code",
   "execution_count": 119,
   "id": "71e74a42-759f-471c-9ce9-cd9e605e8c40",
   "metadata": {},
   "outputs": [
    {
     "data": {
      "text/plain": [
       "dict_values(['Ahmed', 'Male', ['Data Science', 'ML', 'AI'], 31, 5.1])"
      ]
     },
     "execution_count": 119,
     "metadata": {},
     "output_type": "execute_result"
    }
   ],
   "source": [
    "# keys and values together\n",
    "person.values()"
   ]
  },
  {
   "cell_type": "code",
   "execution_count": 121,
   "id": "bfa5afa4-23b7-4af1-aefb-69d7f5569b05",
   "metadata": {},
   "outputs": [
    {
     "data": {
      "text/plain": [
       "{'Name': 'Ahmed',\n",
       " 'Gender': 'Male',\n",
       " 'Skills': ['Data Science', 'ML', 'AI'],\n",
       " 'Age': 31,\n",
       " 'height': 5.1}"
      ]
     },
     "execution_count": 121,
     "metadata": {},
     "output_type": "execute_result"
    }
   ],
   "source": [
    "# keys and values together\n",
    "person.copy()"
   ]
  },
  {
   "cell_type": "code",
   "execution_count": 123,
   "id": "2244b92a-6e6e-4506-a2d2-d9248ca43af1",
   "metadata": {},
   "outputs": [
    {
     "data": {
      "text/plain": [
       "['Data Science', 'ML', 'AI']"
      ]
     },
     "execution_count": 123,
     "metadata": {},
     "output_type": "execute_result"
    }
   ],
   "source": [
    "#key with get function\n",
    "person.get('Skills')"
   ]
  },
  {
   "cell_type": "code",
   "execution_count": 125,
   "id": "d334b338-0d9b-4f87-9469-53b91c2c00b1",
   "metadata": {},
   "outputs": [
    {
     "name": "stdout",
     "output_type": "stream",
     "text": [
      "{'Name': 'Ahmed', 'Gender': 'Male', 'Marks': {'Python': 70, 'JS': 75, 'Java': 89}, 'Age': 31}\n",
      "<class 'dict'>\n"
     ]
    }
   ],
   "source": [
    "person1 = {'Name':'Ahmed',\n",
    "          'Gender':'Male',\n",
    "          'Marks':{'Python':70,'JS':75,'Java':89},\n",
    "          'Age':31}\n",
    "print(person1)\n",
    "print(type(person1))"
   ]
  },
  {
   "cell_type": "markdown",
   "id": "47e389fa-9105-4152-b2a4-01f8b5967995",
   "metadata": {},
   "source": [
    "To see the marks in one subject Java"
   ]
  },
  {
   "cell_type": "code",
   "execution_count": 127,
   "id": "e5d64ce0-04a3-4495-bfa3-42eae3221899",
   "metadata": {},
   "outputs": [
    {
     "data": {
      "text/plain": [
       "89"
      ]
     },
     "execution_count": 127,
     "metadata": {},
     "output_type": "execute_result"
    }
   ],
   "source": [
    "person1.get('Marks')['Java']"
   ]
  },
  {
   "cell_type": "markdown",
   "id": "ccdf543f-c664-49c8-a94d-a894e3bdfc53",
   "metadata": {},
   "source": [
    "Check the person lenght and person1 length"
   ]
  },
  {
   "cell_type": "code",
   "execution_count": 129,
   "id": "d8e63ecb-a696-40ef-9da7-9e04e987cc54",
   "metadata": {},
   "outputs": [
    {
     "name": "stdout",
     "output_type": "stream",
     "text": [
      "5\n",
      "4\n"
     ]
    }
   ],
   "source": [
    "print(len(person))\n",
    "print(len(person1))"
   ]
  },
  {
   "cell_type": "markdown",
   "id": "ae5e55ce-c222-4673-a2a7-6f8e9e579d98",
   "metadata": {},
   "source": [
    "To do update in person one"
   ]
  },
  {
   "cell_type": "code",
   "execution_count": 132,
   "id": "7f2df1ac-cb9f-4e15-ba79-b0cbef05abb4",
   "metadata": {},
   "outputs": [
    {
     "name": "stdout",
     "output_type": "stream",
     "text": [
      "{'Name': 'Ahmed', 'Gender': 'Male', 'Skills': ['Data Science', 'ML', 'AI'], 'Age': 31, 'height': 5.1, 'Marks': {'Python': 70, 'JS': 75, 'Java': 89}}\n"
     ]
    }
   ],
   "source": [
    "person.update(person1)\n",
    "print(person)"
   ]
  },
  {
   "cell_type": "markdown",
   "id": "3bb0096f-06c7-4faf-b14c-63b8494cf7ab",
   "metadata": {},
   "source": [
    "To add another key and value in old person variable in dictionary for instance organization is key and the value is institute of space"
   ]
  },
  {
   "cell_type": "code",
   "execution_count": 136,
   "id": "faefc636-e857-4c69-8af0-5aaba13427ba",
   "metadata": {},
   "outputs": [
    {
     "name": "stdout",
     "output_type": "stream",
     "text": [
      "{'Name': 'Ahmed', 'Gender': 'Male', 'Skills': ['Data Science', 'ML', 'AI'], 'Age': 31, 'height': 5.1, 'Marks': {'Python': 70, 'JS': 75, 'Java': 89}, 'Organization': 'Institute of Space Technology'}\n"
     ]
    }
   ],
   "source": [
    "person['Organization']='Institute of Space Technology'\n",
    "print(person)"
   ]
  },
  {
   "cell_type": "code",
   "execution_count": 138,
   "id": "c40bef20-800e-4148-a451-60fb6bf9fb08",
   "metadata": {},
   "outputs": [
    {
     "name": "stdout",
     "output_type": "stream",
     "text": [
      "{'Name': 'Ahmed', 'Gender': 'Male', 'Skills': ['Data Science', 'ML', 'AI'], 'Age': 31, 'height': 5.1, 'Marks': {'Python': 70, 'JS': 75, 'Java': 89}, 'Organization': 'Institute of Space Technology'}\n"
     ]
    }
   ],
   "source": [
    "print(person)"
   ]
  },
  {
   "cell_type": "markdown",
   "id": "782f3ee1-cced-4785-b304-92401bcd1395",
   "metadata": {},
   "source": [
    "To add another key and value in old person variable in dictionary for instance Roll and Address is key and the value is 32 ,Pakistan"
   ]
  },
  {
   "cell_type": "code",
   "execution_count": 142,
   "id": "9f5d2aee-e619-40a2-86ab-e22264bc5521",
   "metadata": {},
   "outputs": [
    {
     "name": "stdout",
     "output_type": "stream",
     "text": [
      "{'Name': 'Ahmed', 'Gender': 'Male', 'Skills': ['Data Science', 'ML', 'AI'], 'Age': 31, 'height': 5.1, 'Marks': {'Python': 70, 'JS': 75, 'Java': 89}, 'Organization': 'Institute of Space Technology', 'Roll': 32, 'Address': 'Pakistan'}\n"
     ]
    }
   ],
   "source": [
    "person.update({'Roll':32,'Address':'Pakistan'})\n",
    "print(person)"
   ]
  },
  {
   "cell_type": "markdown",
   "id": "cd144665-484c-4156-9f2e-fd7f1efe8285",
   "metadata": {},
   "source": [
    "The (get) function is used to get the marks of any subject we required for instance Marks of JS"
   ]
  },
  {
   "cell_type": "code",
   "execution_count": 63,
   "id": "77a9780e-33c1-4d81-83bd-f0ea99aaaa30",
   "metadata": {},
   "outputs": [
    {
     "data": {
      "text/plain": [
       "75"
      ]
     },
     "execution_count": 63,
     "metadata": {},
     "output_type": "execute_result"
    }
   ],
   "source": [
    "person.get('Marks')['JS']"
   ]
  },
  {
   "cell_type": "markdown",
   "id": "317cfa87-eaae-4afe-a317-e6ff6cd92b12",
   "metadata": {},
   "source": [
    "It is use for vertical display of Dictionary"
   ]
  },
  {
   "cell_type": "code",
   "execution_count": 144,
   "id": "944bd305-655a-4b61-9cf0-29e0564b0cfb",
   "metadata": {},
   "outputs": [
    {
     "data": {
      "text/plain": [
       "['Address',\n",
       " 'Age',\n",
       " 'Gender',\n",
       " 'Marks',\n",
       " 'Name',\n",
       " 'Organization',\n",
       " 'Roll',\n",
       " 'Skills',\n",
       " 'height']"
      ]
     },
     "execution_count": 144,
     "metadata": {},
     "output_type": "execute_result"
    }
   ],
   "source": [
    "sorted(person)"
   ]
  },
  {
   "cell_type": "markdown",
   "id": "fcb1035d-141c-4a1b-b484-beb3cefc11e0",
   "metadata": {},
   "source": [
    "Pop is used for keys and its values"
   ]
  },
  {
   "cell_type": "code",
   "execution_count": 146,
   "id": "8c05acb0-a723-4efd-9289-f696918d31aa",
   "metadata": {},
   "outputs": [
    {
     "data": {
      "text/plain": [
       "'Male'"
      ]
     },
     "execution_count": 146,
     "metadata": {},
     "output_type": "execute_result"
    }
   ],
   "source": [
    "person.pop('Gender')"
   ]
  },
  {
   "cell_type": "code",
   "execution_count": 148,
   "id": "59629a05-adcc-4d61-9d00-6ca8d5592acc",
   "metadata": {},
   "outputs": [
    {
     "name": "stdout",
     "output_type": "stream",
     "text": [
      "{'Name': 'Ahmed', 'Skills': ['Data Science', 'ML', 'AI'], 'Age': 31, 'height': 5.1, 'Marks': {'Python': 70, 'JS': 75, 'Java': 89}, 'Organization': 'Institute of Space Technology', 'Roll': 32, 'Address': 'Pakistan'}\n"
     ]
    }
   ],
   "source": [
    "print(person)"
   ]
  },
  {
   "cell_type": "code",
   "execution_count": 150,
   "id": "cc3cc6e5-d8e9-4b3f-8d58-7b66e22be96b",
   "metadata": {},
   "outputs": [
    {
     "data": {
      "text/plain": [
       "('Address', 'Pakistan')"
      ]
     },
     "execution_count": 150,
     "metadata": {},
     "output_type": "execute_result"
    }
   ],
   "source": [
    "# working with keys\n",
    "person.popitem()"
   ]
  },
  {
   "cell_type": "code",
   "execution_count": 152,
   "id": "df87d7d0-015a-4e4d-b7f0-9b2703404944",
   "metadata": {},
   "outputs": [
    {
     "data": {
      "text/plain": [
       "{'Name': 'Ahmed',\n",
       " 'Skills': ['Data Science', 'ML', 'AI'],\n",
       " 'Age': 31,\n",
       " 'height': 5.1,\n",
       " 'Marks': {'Python': 70, 'JS': 75, 'Java': 89},\n",
       " 'Organization': 'Institute of Space Technology',\n",
       " 'Roll': 32}"
      ]
     },
     "execution_count": 152,
     "metadata": {},
     "output_type": "execute_result"
    }
   ],
   "source": [
    "person"
   ]
  },
  {
   "cell_type": "code",
   "execution_count": 75,
   "id": "fbb3bd86-6ef5-400e-9f5c-1d3a28f889dd",
   "metadata": {},
   "outputs": [
    {
     "name": "stdout",
     "output_type": "stream",
     "text": [
      "Farooq\n"
     ]
    },
    {
     "data": {
      "text/plain": [
       "{'brand': 'Mercedies', 'teacher': 'Farooq', 'year': 1964}"
      ]
     },
     "execution_count": 75,
     "metadata": {},
     "output_type": "execute_result"
    }
   ],
   "source": [
    "python = {\n",
    "  \"brand\": \"Mercedies\",\n",
    "  'teacher':'Farooq',\n",
    "  \"year\": 1964\n",
    "}\n",
    "x = python.setdefault(\"teacher\", \"Sajid\")\n",
    "\n",
    "print(x)\n",
    "python"
   ]
  },
  {
   "cell_type": "markdown",
   "id": "11b0bb1f-8734-4751-9fc9-0c61a1d61d8c",
   "metadata": {},
   "source": [
    "Import math library"
   ]
  },
  {
   "cell_type": "code",
   "execution_count": 77,
   "id": "7592387f-fe8a-48fe-8f44-0ca4b16e910c",
   "metadata": {},
   "outputs": [
    {
     "name": "stdout",
     "output_type": "stream",
     "text": [
      "['__doc__', '__loader__', '__name__', '__package__', '__spec__', 'acos', 'acosh', 'asin', 'asinh', 'atan', 'atan2', 'atanh', 'cbrt', 'ceil', 'comb', 'copysign', 'cos', 'cosh', 'degrees', 'dist', 'e', 'erf', 'erfc', 'exp', 'exp2', 'expm1', 'fabs', 'factorial', 'floor', 'fmod', 'frexp', 'fsum', 'gamma', 'gcd', 'hypot', 'inf', 'isclose', 'isfinite', 'isinf', 'isnan', 'isqrt', 'lcm', 'ldexp', 'lgamma', 'log', 'log10', 'log1p', 'log2', 'modf', 'nan', 'nextafter', 'perm', 'pi', 'pow', 'prod', 'radians', 'remainder', 'sin', 'sinh', 'sqrt', 'sumprod', 'tan', 'tanh', 'tau', 'trunc', 'ulp']\n"
     ]
    }
   ],
   "source": [
    "import math\n",
    "print(dir(math))"
   ]
  },
  {
   "cell_type": "code",
   "execution_count": 79,
   "id": "160a2ec3-1f8c-4637-aa50-6df53063c8d2",
   "metadata": {},
   "outputs": [
    {
     "data": {
      "text/plain": [
       "4"
      ]
     },
     "execution_count": 79,
     "metadata": {},
     "output_type": "execute_result"
    }
   ],
   "source": [
    "math.ceil(3.5)"
   ]
  },
  {
   "cell_type": "code",
   "execution_count": 81,
   "id": "44b08cdd-f758-41b8-b522-8f84e7aeb667",
   "metadata": {},
   "outputs": [
    {
     "data": {
      "text/plain": [
       "2.0"
      ]
     },
     "execution_count": 81,
     "metadata": {},
     "output_type": "execute_result"
    }
   ],
   "source": [
    "math.sqrt(4)"
   ]
  },
  {
   "cell_type": "code",
   "execution_count": 83,
   "id": "26dc6fd8-21fa-4c47-9614-8877916090d6",
   "metadata": {},
   "outputs": [
    {
     "data": {
      "text/plain": [
       "4.0"
      ]
     },
     "execution_count": 83,
     "metadata": {},
     "output_type": "execute_result"
    }
   ],
   "source": [
    "math.sqrt(16)"
   ]
  },
  {
   "cell_type": "code",
   "execution_count": 85,
   "id": "c63c628d-92f8-4de3-a399-ce72cb13244d",
   "metadata": {},
   "outputs": [
    {
     "data": {
      "text/plain": [
       "8.0"
      ]
     },
     "execution_count": 85,
     "metadata": {},
     "output_type": "execute_result"
    }
   ],
   "source": [
    "math.pow(2,3)"
   ]
  },
  {
   "cell_type": "code",
   "execution_count": 87,
   "id": "a1699757-ef07-4a67-b1b4-3952b77887f8",
   "metadata": {},
   "outputs": [
    {
     "data": {
      "text/plain": [
       "720"
      ]
     },
     "execution_count": 87,
     "metadata": {},
     "output_type": "execute_result"
    }
   ],
   "source": [
    "math.factorial(6)"
   ]
  },
  {
   "cell_type": "code",
   "execution_count": 89,
   "id": "72722a15-bfd1-43b9-9df4-76d08fb48c9f",
   "metadata": {},
   "outputs": [
    {
     "data": {
      "text/plain": [
       "['AddPackagePath',\n",
       " 'Module',\n",
       " 'ModuleFinder',\n",
       " 'ReplacePackage',\n",
       " '_C_BUILTIN',\n",
       " '_C_EXTENSION',\n",
       " '_PKG_DIRECTORY',\n",
       " '_PY_COMPILED',\n",
       " '_PY_FROZEN',\n",
       " '_PY_SOURCE',\n",
       " '_SEARCH_ERROR',\n",
       " '__builtins__',\n",
       " '__cached__',\n",
       " '__doc__',\n",
       " '__file__',\n",
       " '__loader__',\n",
       " '__name__',\n",
       " '__package__',\n",
       " '__spec__',\n",
       " '_find_module',\n",
       " 'dis',\n",
       " 'importlib',\n",
       " 'io',\n",
       " 'marshal',\n",
       " 'os',\n",
       " 'packagePathMap',\n",
       " 'replacePackageMap',\n",
       " 'sys',\n",
       " 'test']"
      ]
     },
     "execution_count": 89,
     "metadata": {},
     "output_type": "execute_result"
    }
   ],
   "source": [
    "import modulefinder\n",
    "dir(modulefinder)"
   ]
  },
  {
   "cell_type": "code",
   "execution_count": 91,
   "id": "8dcb1099-3ad5-4cbd-a7d1-e72ae4995ac6",
   "metadata": {},
   "outputs": [
    {
     "name": "stdout",
     "output_type": "stream",
     "text": [
      "['__all__', '__builtins__', '__cached__', '__doc__', '__file__', '__loader__', '__name__', '__package__', '__spec__', 'iskeyword', 'issoftkeyword', 'kwlist', 'softkwlist']\n"
     ]
    }
   ],
   "source": [
    "import keyword\n",
    "print(dir(keyword))"
   ]
  },
  {
   "cell_type": "markdown",
   "id": "1d8e3950-6a82-4047-9b0b-ba243a5fe65d",
   "metadata": {},
   "source": [
    "Import Random Functions"
   ]
  },
  {
   "cell_type": "code",
   "execution_count": 93,
   "id": "0ecfb61c-b28c-42c2-b380-45fcbfb49552",
   "metadata": {},
   "outputs": [],
   "source": [
    "import random"
   ]
  },
  {
   "cell_type": "markdown",
   "id": "d2370bc3-8d78-4a0c-b6b7-a77878919f2a",
   "metadata": {},
   "source": [
    "Import a numbers from 1 to 15 and every time new number comes"
   ]
  },
  {
   "cell_type": "code",
   "execution_count": 156,
   "id": "65e80752-42fd-4535-bce1-8bc79af33d81",
   "metadata": {},
   "outputs": [
    {
     "data": {
      "text/plain": [
       "7"
      ]
     },
     "execution_count": 156,
     "metadata": {},
     "output_type": "execute_result"
    }
   ],
   "source": [
    "random.randint(1,15)\n"
   ]
  },
  {
   "cell_type": "code",
   "execution_count": null,
   "id": "2c387507-3f65-42b0-aa87-68f4b1d9f932",
   "metadata": {},
   "outputs": [],
   "source": []
  }
 ],
 "metadata": {
  "kernelspec": {
   "display_name": "Python 3 (ipykernel)",
   "language": "python",
   "name": "python3"
  },
  "language_info": {
   "codemirror_mode": {
    "name": "ipython",
    "version": 3
   },
   "file_extension": ".py",
   "mimetype": "text/x-python",
   "name": "python",
   "nbconvert_exporter": "python",
   "pygments_lexer": "ipython3",
   "version": "3.12.4"
  }
 },
 "nbformat": 4,
 "nbformat_minor": 5
}
