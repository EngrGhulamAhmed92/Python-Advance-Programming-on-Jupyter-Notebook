{
 "cells": [
  {
   "cell_type": "code",
   "execution_count": 3,
   "id": "bd0a038e-1159-4c7b-bf6f-de0f7dd50006",
   "metadata": {},
   "outputs": [
    {
     "name": "stdout",
     "output_type": "stream",
     "text": [
      "Select operation:\n",
      "1. Addition\n",
      "2. Subtraction\n",
      "3. Multiplication\n",
      "4. Division\n",
      "5. Remainder\n",
      "6. Square\n",
      "7. Power\n",
      "8. Square Root\n",
      "9. Absolute Value\n",
      "10. Floor Division\n",
      "11. Cube\n"
     ]
    },
    {
     "name": "stdin",
     "output_type": "stream",
     "text": [
      "Enter choice (1/2/3/4/5/6/7/8/9/10/11):  1\n",
      "Enter first number:  20\n",
      "Enter second number:  30\n"
     ]
    },
    {
     "name": "stdout",
     "output_type": "stream",
     "text": [
      "20.0 + 30.0 = 50.0\n"
     ]
    }
   ],
   "source": [
    "# for addition\n",
    "def addition(x, y):\n",
    "    return x + y\n",
    "\n",
    "# for subtraction\n",
    "def subtraction(x, y):\n",
    "    return x - y\n",
    "\n",
    "# for multiplication\n",
    "def multiplication(x, y):\n",
    "    return x * y\n",
    "\n",
    "# for division\n",
    "def division(x, y):\n",
    "    if y != 0:\n",
    "        return x / y\n",
    "    else:\n",
    "        return \"Error! Division by zero.\"\n",
    "\n",
    "# for remainder\n",
    "def remainder(x, y):\n",
    "    return x % y\n",
    "\n",
    "# for square of a number\n",
    "def square(x):\n",
    "    return x ** 2\n",
    "\n",
    "# for power of a number\n",
    "def power(x, y):\n",
    "    return x ** y\n",
    "\n",
    "# for square root of a number\n",
    "import math\n",
    "def square_root(x):\n",
    "    if x >= 0:\n",
    "        return math.sqrt(x)\n",
    "    else:\n",
    "        return \"Error! Cannot calculate square root of negative number.\"\n",
    "\n",
    "# for absolute value\n",
    "def absolute(x):\n",
    "    return abs(x)\n",
    "\n",
    "# for floor division\n",
    "def floor_division(x, y):\n",
    "    if y != 0:\n",
    "        return x // y\n",
    "    else:\n",
    "        return \"Error! Division by zero.\"\n",
    "\n",
    "# for cube of a number\n",
    "def cube(x):\n",
    "    return x ** 3\n",
    "\n",
    "# Function to display options\n",
    "def display_operations():\n",
    "    print(\"Select operation:\")\n",
    "    print(\"1. Addition\")\n",
    "    print(\"2. Subtraction\")\n",
    "    print(\"3. Multiplication\")\n",
    "    print(\"4. Division\")\n",
    "    print(\"5. Remainder\")\n",
    "    print(\"6. Square\")\n",
    "    print(\"7. Power\")\n",
    "    print(\"8. Square Root\")\n",
    "    print(\"9. Absolute Value\")\n",
    "    print(\"10. Floor Division\")\n",
    "    print(\"11. Cube\")\n",
    "    \n",
    "# Main program to execute operations\n",
    "def main():\n",
    "    display_operations()\n",
    "    choice = input(\"Enter choice (1/2/3/4/5/6/7/8/9/10/11): \")\n",
    "    \n",
    "    if choice in ['1', '2', '3', '4', '5', '6', '7', '10']:\n",
    "        x = float(input(\"Enter first number: \"))\n",
    "        if choice in ['1', '2', '3', '4', '5', '10']:\n",
    "            y = float(input(\"Enter second number: \"))\n",
    "    \n",
    "    if choice == '1':\n",
    "        print(f\"{x} + {y} = {addition(x, y)}\")\n",
    "    elif choice == '2':\n",
    "        print(f\"{x} - {y} = {subtraction(x, y)}\")\n",
    "    elif choice == '3':\n",
    "        print(f\"{x} * {y} = {multiplication(x, y)}\")\n",
    "    elif choice == '4':\n",
    "        print(f\"{x} / {y} = {division(x, y)}\")\n",
    "    elif choice == '5':\n",
    "        print(f\"{x} % {y} = {remainder(x, y)}\")\n",
    "    elif choice == '6':\n",
    "        print(f\"The square of {x} is {square(x)}\")\n",
    "    elif choice == '7':\n",
    "        y = float(input(\"Enter exponent: \"))\n",
    "        print(f\"{x} raised to the power of {y} is {power(x, y)}\")\n",
    "    elif choice == '8':\n",
    "        print(f\"The square root of {x} is {square_root(x)}\")\n",
    "    elif choice == '9':\n",
    "        print(f\"The absolute value of {x} is {absolute(x)}\")\n",
    "    elif choice == '10':\n",
    "        print(f\"{x} // {y} = {floor_division(x, y)}\")\n",
    "    elif choice == '11':\n",
    "        print(f\"The cube of {x} is {cube(x)}\")\n",
    "    else:\n",
    "        print(\"Invalid Input\")\n",
    "\n",
    "# Run the main program\n",
    "if __name__ == \"__main__\":\n",
    "    main()"
   ]
  },
  {
   "cell_type": "code",
   "execution_count": 3,
   "id": "2fe4a311-c742-4df6-b4d9-be5cb80e1263",
   "metadata": {},
   "outputs": [
    {
     "name": "stdout",
     "output_type": "stream",
     "text": [
      "5\n",
      "6\n",
      "5\n"
     ]
    }
   ],
   "source": [
    "def g(y):\n",
    "    print(x)\n",
    "    print(x+1)\n",
    "x=5\n",
    "g(x)\n",
    "print(x)"
   ]
  },
  {
   "cell_type": "code",
   "execution_count": 9,
   "id": "3c744f56-82de-4953-b631-9efcbc2d0e80",
   "metadata": {},
   "outputs": [
    {
     "name": "stdout",
     "output_type": "stream",
     "text": [
      "5\n",
      "5\n"
     ]
    }
   ],
   "source": [
    "def f(y):\n",
    "    x=1\n",
    "    x+=1\n",
    "    print(y)\n",
    "x=5\n",
    "f(x)\n",
    "print(x)"
   ]
  },
  {
   "cell_type": "code",
   "execution_count": 19,
   "id": "a9a235f7-7fad-4597-90a6-15b444a37a8c",
   "metadata": {},
   "outputs": [
    {
     "name": "stdout",
     "output_type": "stream",
     "text": [
      "2\n",
      "5\n"
     ]
    }
   ],
   "source": [
    "def h(y):\n",
    "    x=1\n",
    "    x+=1\n",
    "    print(x)\n",
    "x=5\n",
    "h(x)\n",
    "print(x)"
   ]
  },
  {
   "cell_type": "code",
   "execution_count": 21,
   "id": "17599cd3-7207-46e2-9622-1c33e7fa5907",
   "metadata": {},
   "outputs": [
    {
     "name": "stdout",
     "output_type": "stream",
     "text": [
      "in f(x): x = 4\n",
      "in main program scope: z = 4\n",
      "in main program scope: x = 3\n"
     ]
    }
   ],
   "source": [
    "def f(x):\n",
    "   x = x + 1\n",
    "   print('in f(x): x =', x)\n",
    "   return x\n",
    "\n",
    "x = 3\n",
    "z = f(x)\n",
    "print('in main program scope: z =', z)\n",
    "print('in main program scope: x =', x)"
   ]
  },
  {
   "cell_type": "code",
   "execution_count": 23,
   "id": "e118a278-8412-4da0-97a5-b4d45c6264cb",
   "metadata": {},
   "outputs": [],
   "source": [
    "def f():\n",
    "  def g():\n",
    "    print('inside function g')\n",
    "    f()\n",
    "  g()\n",
    "  print('inside function f')"
   ]
  },
  {
   "cell_type": "code",
   "execution_count": 29,
   "id": "664271f4-bcf6-4d8b-855e-00e1b21e8243",
   "metadata": {},
   "outputs": [
    {
     "name": "stdout",
     "output_type": "stream",
     "text": [
      "Hello from outer function\n",
      "Hello from inner function\n"
     ]
    }
   ],
   "source": [
    "def function1(): # outer function\n",
    "    print (\"Hello from outer function\")\n",
    "    def function2(): # inner function\n",
    "        print (\"Hello from inner function\")\n",
    "    function2()\n",
    "    \n",
    "function1()"
   ]
  },
  {
   "cell_type": "code",
   "execution_count": 31,
   "id": "d3860543-7ccf-47ea-8329-f47054433c05",
   "metadata": {},
   "outputs": [
    {
     "name": "stdout",
     "output_type": "stream",
     "text": [
      "<function num1.<locals>.num2 at 0x0000022EDA1B4CC0>\n",
      "50\n"
     ]
    }
   ],
   "source": [
    "def num1(x):\n",
    "    def num2(y):\n",
    "        return x * y\n",
    "    return num2\n",
    "\n",
    "res = num1(10)\n",
    "print(res)\n",
    "print(res(5))"
   ]
  },
  {
   "cell_type": "code",
   "execution_count": 5,
   "id": "f75f9ca1-d2a2-4220-af27-6d232ea94066",
   "metadata": {},
   "outputs": [
    {
     "name": "stdout",
     "output_type": "stream",
     "text": [
      "100000\n"
     ]
    }
   ],
   "source": [
    "def num1(x):\n",
    "    def num2(y):\n",
    "        return x**y  # Calculates x raised to the power of y\n",
    "    return num2  # Returns the num2 function\n",
    "\n",
    "# Calling num1(10), which returns num2 as 'res'\n",
    "res = num1(10)\n",
    "\n",
    "# Calling 'res' (which is num2) with 5, this will return 10 raised to the power of 5\n",
    "a = res(5)\n",
    "\n",
    "print(a)  # Output will be 10 raised to the power of 5, which is 100000"
   ]
  },
  {
   "cell_type": "code",
   "execution_count": 49,
   "id": "0226a0c0-b83a-4cc5-b7f9-122e46ae80ea",
   "metadata": {},
   "outputs": [
    {
     "name": "stdout",
     "output_type": "stream",
     "text": [
      "40\n"
     ]
    }
   ],
   "source": [
    "def num1(x):\n",
    "    def num2(y):\n",
    "        def num3(z):\n",
    "            return x*y*z \n",
    "        return num3\n",
    "    return num2\n",
    "\n",
    "res = num1(5)\n",
    "a=res(2)\n",
    "print(a(4))"
   ]
  },
  {
   "cell_type": "code",
   "execution_count": 9,
   "id": "c5f29a9b-e6fe-464a-9b27-c7756dd653ee",
   "metadata": {},
   "outputs": [
    {
     "name": "stdout",
     "output_type": "stream",
     "text": [
      "Ghulam Ahmed  khan\n"
     ]
    }
   ],
   "source": [
    "def fname(name1):\n",
    "    def mname(name2):\n",
    "        def lname(name3):\n",
    "            return name1+name2+name3\n",
    "        return lname\n",
    "    return mname\n",
    "fullname= fname('Ghulam ')\n",
    "a = fullname('Ahmed')\n",
    "print(a('  khan'))"
   ]
  },
  {
   "cell_type": "code",
   "execution_count": 11,
   "id": "0c5f21c4-42c6-4dfc-b5fd-c7cc3050a8bf",
   "metadata": {},
   "outputs": [
    {
     "name": "stdout",
     "output_type": "stream",
     "text": [
      "Ghulam   Ahmed   khan \n"
     ]
    }
   ],
   "source": [
    "def fname(name1):\n",
    "    def mname(name2):\n",
    "        def lname(name3):\n",
    "            return name1+\"  \"+name2+\"  \"+name3\n",
    "        return lname\n",
    "    return mname\n",
    "fullname= fname('Ghulam ')\n",
    "lastname = fullname('Ahmed ')\n",
    "print(lastname('khan '))"
   ]
  },
  {
   "cell_type": "code",
   "execution_count": null,
   "id": "d585a345-4789-4640-95ea-d316fd007c0c",
   "metadata": {},
   "outputs": [],
   "source": []
  }
 ],
 "metadata": {
  "kernelspec": {
   "display_name": "Python 3 (ipykernel)",
   "language": "python",
   "name": "python3"
  },
  "language_info": {
   "codemirror_mode": {
    "name": "ipython",
    "version": 3
   },
   "file_extension": ".py",
   "mimetype": "text/x-python",
   "name": "python",
   "nbconvert_exporter": "python",
   "pygments_lexer": "ipython3",
   "version": "3.12.4"
  }
 },
 "nbformat": 4,
 "nbformat_minor": 5
}
