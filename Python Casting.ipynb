{
 "cells": [
  {
   "cell_type": "code",
   "execution_count": 1,
   "id": "010d5333-c04b-4aa0-a609-e89fa63c5fbe",
   "metadata": {},
   "outputs": [],
   "source": [
    "# Force = ? , Mass = 4kg , acc = 8m/s2\n",
    "mass= 4\n",
    "acc= 8.5\n",
    "force=mass * acc\n"
   ]
  },
  {
   "cell_type": "code",
   "execution_count": 3,
   "id": "7dcde18b-d766-4ec6-95ba-eb7739221444",
   "metadata": {},
   "outputs": [
    {
     "name": "stdout",
     "output_type": "stream",
     "text": [
      "34.0\n"
     ]
    }
   ],
   "source": [
    "# Force = ? , Mass = 4kg , acc = 8m/s2\n",
    "mass= 4\n",
    "acc= 8.5\n",
    "force=mass * acc\n",
    "print (force)"
   ]
  },
  {
   "cell_type": "code",
   "execution_count": 20,
   "id": "3619a0c5-fe0c-4b1b-a0e6-f6f16cae3060",
   "metadata": {},
   "outputs": [
    {
     "name": "stdout",
     "output_type": "stream",
     "text": [
      "The value of mass is =  4\n",
      "<class 'int'>\n",
      "The value of acc is =  8.5\n",
      "<class 'float'>\n",
      "The value of force is =  34.0\n",
      "<class 'float'>\n"
     ]
    }
   ],
   "source": [
    "# Force = ? , Mass = 4kg , acc = 8m/s2\n",
    "mass= 4\n",
    "acc= 8.5\n",
    "force=mass * acc\n",
    "print (\"The value of mass is = \" , mass)\n",
    "print (type(mass))\n",
    "print (\"The value of acc is = \" , acc)\n",
    "print (type(acc))\n",
    "print (\"The value of force is = \" , force)\n",
    "print (type(force))\n"
   ]
  },
  {
   "cell_type": "code",
   "execution_count": 22,
   "id": "39a2c7d2-7a73-4cb7-896a-ee8e9facb227",
   "metadata": {},
   "outputs": [
    {
     "name": "stdin",
     "output_type": "stream",
     "text": [
      " 2\n"
     ]
    }
   ],
   "source": [
    "mass= float (input())"
   ]
  },
  {
   "cell_type": "code",
   "execution_count": 24,
   "id": "78d47da9-c1af-4d6b-9f3a-3dd935d1fe48",
   "metadata": {},
   "outputs": [
    {
     "name": "stdin",
     "output_type": "stream",
     "text": [
      "Enter the value of mass 7\n"
     ]
    }
   ],
   "source": [
    "mass=float (input(\"Enter the value of mass\"))"
   ]
  },
  {
   "cell_type": "code",
   "execution_count": 28,
   "id": "d44eee2b-dda3-4088-872d-4c61b28e7156",
   "metadata": {},
   "outputs": [
    {
     "name": "stdout",
     "output_type": "stream",
     "text": [
      "The value of mass is  7.0\n",
      "<class 'float'>\n"
     ]
    }
   ],
   "source": [
    "print (\"The value of mass is \" , mass)\n",
    "print(type(mass))"
   ]
  },
  {
   "cell_type": "code",
   "execution_count": 32,
   "id": "9e6645a4-f433-4c93-bf8f-383876ae1bdc",
   "metadata": {},
   "outputs": [
    {
     "name": "stdin",
     "output_type": "stream",
     "text": [
      "Enter the value of mass 7\n"
     ]
    },
    {
     "name": "stdout",
     "output_type": "stream",
     "text": [
      "The value of mass is =   7.0\n",
      "<class 'float'>\n"
     ]
    }
   ],
   "source": [
    "mass=float (input(\"Enter the value of mass\"))\n",
    "print (\"The value of mass is =  \" , mass)\n",
    "print(type(mass))"
   ]
  },
  {
   "cell_type": "code",
   "execution_count": 34,
   "id": "3e174aa9-03b3-4590-8ac0-c0093ba2fb19",
   "metadata": {},
   "outputs": [
    {
     "name": "stdin",
     "output_type": "stream",
     "text": [
      "Enter the value of mass 4\n",
      "Enter the value of acc 7.5\n"
     ]
    },
    {
     "name": "stdout",
     "output_type": "stream",
     "text": [
      "the value of fore is = 30.0\n"
     ]
    }
   ],
   "source": [
    "mass= float(input(\"Enter the value of mass\"))"
   ]
  },
  {
   "cell_type": "code",
   "execution_count": 40,
   "id": "3212b96e-ee50-45db-a513-c91ad77bd7ab",
   "metadata": {},
   "outputs": [
    {
     "name": "stdin",
     "output_type": "stream",
     "text": [
      "Enter the value of mass 7\n",
      "Enter the value of acc 5\n"
     ]
    },
    {
     "name": "stdout",
     "output_type": "stream",
     "text": [
      "the value of force is 35.0\n"
     ]
    }
   ],
   "source": [
    "mass=float(input(\"Enter the value of mass\"))\n",
    "acc=float(input(\"Enter the value of acc\"))\n",
    "force= mass*acc\n",
    "print (\"the value of force is\",force)"
   ]
  },
  {
   "cell_type": "code",
   "execution_count": 44,
   "id": "a44b1d67-359d-4ae9-adf7-4c5969e53d98",
   "metadata": {},
   "outputs": [
    {
     "name": "stdin",
     "output_type": "stream",
     "text": [
      "Enter the value of mass 7\n",
      "Enter the value of acc 5.3\n"
     ]
    },
    {
     "name": "stdout",
     "output_type": "stream",
     "text": [
      "the value of force is 37.1 N\n"
     ]
    }
   ],
   "source": [
    "mass=float(input(\"Enter the value of mass\"))\n",
    "acc=float(input(\"Enter the value of acc\"))\n",
    "force= mass*acc\n",
    "print (\"the value of force is\",force,\"N\")"
   ]
  },
  {
   "cell_type": "code",
   "execution_count": 48,
   "id": "0bd744cd-2ac0-4ac3-8074-da50ef5c3bfd",
   "metadata": {},
   "outputs": [
    {
     "name": "stdin",
     "output_type": "stream",
     "text": [
      "Enter your first number 4\n",
      "Enter your second number 5\n"
     ]
    },
    {
     "name": "stdout",
     "output_type": "stream",
     "text": [
      "The sum of two number is 9.0\n"
     ]
    }
   ],
   "source": [
    "# The sum of two numbers with dynamic program\n",
    "num1=float(input(\"Enter your first number\"))\n",
    "num2=float(input(\"Enter your second number\"))\n",
    "sum=num1 + num2\n",
    "print (\"The sum of two number is\",sum)"
   ]
  },
  {
   "cell_type": "code",
   "execution_count": 50,
   "id": "22458065-2b20-4020-bda4-803641f345ff",
   "metadata": {},
   "outputs": [
    {
     "name": "stdin",
     "output_type": "stream",
     "text": [
      "Enter your first number 16\n",
      "Enter your second number 8\n"
     ]
    },
    {
     "name": "stdout",
     "output_type": "stream",
     "text": [
      "The sub of two number is 8.0\n"
     ]
    }
   ],
   "source": [
    "# the subtraction of two numbers\n",
    "num1=float(input(\"Enter your first number\"))\n",
    "num2=float(input(\"Enter your second number\"))\n",
    "sub=num1 - num2\n",
    "print (\"The sub of two number is\",sub)"
   ]
  },
  {
   "cell_type": "code",
   "execution_count": 54,
   "id": "df046778-5143-43f6-86d8-89b31d81bdac",
   "metadata": {},
   "outputs": [
    {
     "name": "stdin",
     "output_type": "stream",
     "text": [
      "Enter your first number 4\n",
      "Enter your second number 5\n"
     ]
    },
    {
     "name": "stdout",
     "output_type": "stream",
     "text": [
      "The mul of two number is 20.0\n"
     ]
    }
   ],
   "source": [
    "# the multiplication of two numbers\n",
    "num1=float(input(\"Enter your first number\"))\n",
    "num2=float(input(\"Enter your second number\"))\n",
    "mul=num1 * num2\n",
    "print (\"The mul of two number is\",mul)"
   ]
  },
  {
   "cell_type": "code",
   "execution_count": 56,
   "id": "ad15d934-d9f7-484b-8940-d47885cbe2b5",
   "metadata": {},
   "outputs": [
    {
     "name": "stdin",
     "output_type": "stream",
     "text": [
      "Enter your first number 20\n",
      "Enter your second number 4\n"
     ]
    },
    {
     "name": "stdout",
     "output_type": "stream",
     "text": [
      "The div of two number is 5.0\n"
     ]
    }
   ],
   "source": [
    "#the division of two numbers\n",
    "num1=float(input(\"Enter your first number\"))\n",
    "num2=float(input(\"Enter your second number\"))\n",
    "div=num1 / num2\n",
    "print (\"The div of two number is\",div)"
   ]
  },
  {
   "cell_type": "code",
   "execution_count": 60,
   "id": "1a278851-659a-457f-8a65-966cfa2809c1",
   "metadata": {},
   "outputs": [
    {
     "name": "stdin",
     "output_type": "stream",
     "text": [
      "Enter your first number 21\n",
      "Enter your second number 4\n"
     ]
    },
    {
     "name": "stdout",
     "output_type": "stream",
     "text": [
      "The div of two number is 5.25\n"
     ]
    }
   ],
   "source": [
    "#the division of two numbers\n",
    "num1=float(input(\"Enter your first number\")) # a number which is not perfact integer\n",
    "num2=float(input(\"Enter your second number\"))\n",
    "div=num1 / num2\n",
    "print (\"The div of two number is\",div)"
   ]
  },
  {
   "cell_type": "code",
   "execution_count": 62,
   "id": "3a37b24b-672d-44ef-9d07-a9dd59de3648",
   "metadata": {},
   "outputs": [
    {
     "name": "stdin",
     "output_type": "stream",
     "text": [
      "Enter your first number 2\n",
      "Enter your second number 5\n"
     ]
    },
    {
     "name": "stdout",
     "output_type": "stream",
     "text": [
      "The power of two number is 32.0\n"
     ]
    }
   ],
   "source": [
    "#the power of two numbers\n",
    "num1=float(input(\"Enter your first number\"))\n",
    "num2=float(input(\"Enter your second number\"))\n",
    "power=num1 ** num2 # for power ** is used\n",
    "print (\"The power of two number is\",power)"
   ]
  },
  {
   "cell_type": "code",
   "execution_count": 64,
   "id": "ba3351b0-258f-47b6-9286-20f3cae5c97b",
   "metadata": {},
   "outputs": [],
   "source": [
    "import math # import math is used for calling mathematical operation"
   ]
  },
  {
   "cell_type": "code",
   "execution_count": 66,
   "id": "ec32a9f1-2242-4857-b551-0420efffbb93",
   "metadata": {},
   "outputs": [
    {
     "data": {
      "text/plain": [
       "32"
      ]
     },
     "execution_count": 66,
     "metadata": {},
     "output_type": "execute_result"
    }
   ],
   "source": [
    "pow(2,5) # for the power of two numbers"
   ]
  },
  {
   "cell_type": "code",
   "execution_count": 68,
   "id": "d905b8c4-7ab2-42be-b282-ea1fd9f6c998",
   "metadata": {},
   "outputs": [
    {
     "data": {
      "text/plain": [
       "2"
      ]
     },
     "execution_count": 68,
     "metadata": {},
     "output_type": "execute_result"
    }
   ],
   "source": [
    "# floor operator // this operator is used \n",
    "# In celing we consider number less than 2.5 and its answere is 2\n",
    "# In floor we consider number is greater than 2.5 and its answere is 3\n",
    "5//2"
   ]
  },
  {
   "cell_type": "code",
   "execution_count": 70,
   "id": "a8967c9b-6d45-440b-98d1-86a83b12f00b",
   "metadata": {},
   "outputs": [
    {
     "name": "stdin",
     "output_type": "stream",
     "text": [
      "Enter your first number 7\n"
     ]
    },
    {
     "name": "stdout",
     "output_type": "stream",
     "text": [
      "The power of two number is 49.0\n"
     ]
    }
   ],
   "source": [
    "#the power of two numbers (simple method)\n",
    "num1=float(input(\"Enter your first number\"))\n",
    "power=num1 ** 2 # for power ** is used. left side is a number and right side is power\n",
    "print (\"The power of two number is\",power)"
   ]
  },
  {
   "cell_type": "code",
   "execution_count": 80,
   "id": "5374a37b-2cce-4c45-bb31-c16020fd09c2",
   "metadata": {},
   "outputs": [
    {
     "name": "stdin",
     "output_type": "stream",
     "text": [
      "Enter your first number 5\n",
      "Enter the power of number 2\n"
     ]
    },
    {
     "name": "stdout",
     "output_type": "stream",
     "text": [
      "The power of the number is 25.0\n"
     ]
    }
   ],
   "source": [
    "# rase_to function is used\n",
    "num1=float(input(\"Enter your first number\"))\n",
    "rase_to=float(input(\"Enter the power of number\"))\n",
    "power=num1**rase_to\n",
    "print (\"The power of the number is\",power)"
   ]
  },
  {
   "cell_type": "code",
   "execution_count": 82,
   "id": "25023812-3382-43e0-ac7a-36cb9d7d7736",
   "metadata": {},
   "outputs": [
    {
     "name": "stdin",
     "output_type": "stream",
     "text": [
      "Enter your first number 5\n",
      "Enter your second number 2\n"
     ]
    },
    {
     "name": "stdout",
     "output_type": "stream",
     "text": [
      "The remainderof two number is 1.0\n"
     ]
    }
   ],
   "source": [
    "#remainder operator is %\n",
    "num1=float(input(\"Enter your first number\"))\n",
    "num2=float(input(\"Enter your second number\"))\n",
    "remainder=num1 % num2 # for remainder % percentage sign is used\n",
    "print (\"The remainderof two number is\",remainder)\n"
   ]
  },
  {
   "cell_type": "code",
   "execution_count": 84,
   "id": "5f5c3822-8a5c-4491-a0c8-f73fd29ea352",
   "metadata": {},
   "outputs": [
    {
     "data": {
      "text/plain": [
       "1"
      ]
     },
     "execution_count": 84,
     "metadata": {},
     "output_type": "execute_result"
    }
   ],
   "source": [
    "#remainder operator is %\n",
    "5 % 2   # the remainder will be 1"
   ]
  },
  {
   "cell_type": "code",
   "execution_count": 86,
   "id": "eddaabf4-942a-4763-88cc-609c16217138",
   "metadata": {},
   "outputs": [
    {
     "data": {
      "text/plain": [
       "0"
      ]
     },
     "execution_count": 86,
     "metadata": {},
     "output_type": "execute_result"
    }
   ],
   "source": [
    "#remainder operator is %\n",
    "4 % 2   # the remainder will be 0"
   ]
  },
  {
   "cell_type": "code",
   "execution_count": 88,
   "id": "4244efd7-06d3-4adf-8a44-5b68618142c5",
   "metadata": {},
   "outputs": [
    {
     "name": "stdout",
     "output_type": "stream",
     "text": [
      "<class 'int'>\n"
     ]
    }
   ],
   "source": [
    "# odd numbers and even numbers if a number is divided by 2 and its remainder is zero than the number is even \n",
    "# however if the number is divided by 2 and its remainder is some thing than the number is odd\n",
    "# Type Casting (It is method in which the number change integer to string,string to integer,number to string,string to float\n",
    "number=6\n",
    "print (type(number))"
   ]
  },
  {
   "cell_type": "code",
   "execution_count": 90,
   "id": "a1149b1e-6390-4166-9714-f932205d535a",
   "metadata": {},
   "outputs": [
    {
     "name": "stdout",
     "output_type": "stream",
     "text": [
      "<class 'str'>\n"
     ]
    }
   ],
   "source": [
    "# Type Casting\n",
    "number=str(6)\n",
    "print (type(number))"
   ]
  },
  {
   "cell_type": "code",
   "execution_count": 99,
   "id": "f17c805c-d50d-4acc-b2e6-90d3f8c02e72",
   "metadata": {},
   "outputs": [
    {
     "name": "stdout",
     "output_type": "stream",
     "text": [
      "<class 'str'>\n"
     ]
    }
   ],
   "source": [
    "number= str(16)\n",
    "print(type(number))"
   ]
  },
  {
   "cell_type": "code",
   "execution_count": 97,
   "id": "2d00c63b-c912-4266-a992-96678063b948",
   "metadata": {},
   "outputs": [
    {
     "name": "stdout",
     "output_type": "stream",
     "text": [
      "<class 'int'>\n"
     ]
    }
   ],
   "source": [
    "name= int(16)\n",
    "print(type(name))"
   ]
  },
  {
   "cell_type": "code",
   "execution_count": 1,
   "id": "dd6b10e9-a697-4e91-9b93-33b3ca8981fa",
   "metadata": {},
   "outputs": [
    {
     "name": "stdout",
     "output_type": "stream",
     "text": [
      "Ghulam Ahmed Male 30 AI True\n"
     ]
    }
   ],
   "source": [
    "# Assigning multiple variables in a single line\n",
    "name,gender,age,organization,is_job=\"Ghulam Ahmed\",\"Male\" ,30 ,\"AI\", True\n",
    "print (\"Ghulam Ahmed\",\"Male\" ,30 ,\"AI\", True)"
   ]
  },
  {
   "cell_type": "code",
   "execution_count": 15,
   "id": "1fdf743e-30b4-4c09-a170-cdd52f96a3d7",
   "metadata": {},
   "outputs": [
    {
     "name": "stdout",
     "output_type": "stream",
     "text": [
      "Ghulam Ahmed Male 30 AI True\n",
      "<class 'str'> <class 'str'> <class 'int'> <class 'str'>\n"
     ]
    }
   ],
   "source": [
    "# To check the data type of multiple variables\n",
    "name,gender,age,organization,is_job=\"Ghulam Ahmed\",\"Male\" ,30 ,\"AI\", True\n",
    "print (\"Ghulam Ahmed\",\"Male\" ,30 ,\"AI\", True)\n",
    "print(type(name),type(gender),type(age),type(organization))"
   ]
  },
  {
   "cell_type": "code",
   "execution_count": 21,
   "id": "f1c1e525-d2d8-4e3c-b9a0-2be28dc14a3d",
   "metadata": {},
   "outputs": [
    {
     "name": "stdout",
     "output_type": "stream",
     "text": [
      "I LOVE UK\n"
     ]
    },
    {
     "data": {
      "text/plain": [
       "'i love uk'"
      ]
     },
     "execution_count": 21,
     "metadata": {},
     "output_type": "execute_result"
    }
   ],
   "source": [
    "# how to change text from upper case to lover case\n",
    "text=\"I LOVE UK\"\n",
    "print(text)\n",
    "text.lower()"
   ]
  },
  {
   "cell_type": "code",
   "execution_count": 23,
   "id": "e5f9e70e-46e6-48f8-ab2d-c91a09cf57ec",
   "metadata": {},
   "outputs": [
    {
     "name": "stdout",
     "output_type": "stream",
     "text": [
      "i love uk\n"
     ]
    },
    {
     "data": {
      "text/plain": [
       "'I LOVE UK'"
      ]
     },
     "execution_count": 23,
     "metadata": {},
     "output_type": "execute_result"
    }
   ],
   "source": [
    "# how to change text from lower case to upper case\n",
    "text=\"i love uk\"\n",
    "print(text)\n",
    "text.upper()\n"
   ]
  },
  {
   "cell_type": "code",
   "execution_count": 25,
   "id": "92d75a94-8213-405e-9e89-28784fe2bdd8",
   "metadata": {},
   "outputs": [
    {
     "data": {
      "text/plain": [
       "8"
      ]
     },
     "execution_count": 25,
     "metadata": {},
     "output_type": "execute_result"
    }
   ],
   "source": [
    "# builtin function for power in pythan (back hand 2***3)\n",
    "pow(2,3)"
   ]
  },
  {
   "cell_type": "code",
   "execution_count": 29,
   "id": "bd254123-42de-4752-93de-908504c31633",
   "metadata": {},
   "outputs": [
    {
     "name": "stdout",
     "output_type": "stream",
     "text": [
      "4\n",
      "<class 'int'>\n"
     ]
    }
   ],
   "source": [
    "# A float is converted to integer (change of Data type)\n",
    "number=int(4.5)\n",
    "print(number)\n",
    "print (type(number))"
   ]
  },
  {
   "cell_type": "code",
   "execution_count": 31,
   "id": "911bc42b-fd99-4bbe-a048-b43691650ece",
   "metadata": {},
   "outputs": [
    {
     "data": {
      "text/plain": [
       "1"
      ]
     },
     "execution_count": 31,
     "metadata": {},
     "output_type": "execute_result"
    }
   ],
   "source": [
    "# how to find minimum number\n",
    "min(1,2,3,4,5,6,7,8)"
   ]
  },
  {
   "cell_type": "code",
   "execution_count": 33,
   "id": "7d026164-ff0d-41a1-879c-acbcd5f6e148",
   "metadata": {},
   "outputs": [
    {
     "data": {
      "text/plain": [
       "8"
      ]
     },
     "execution_count": 33,
     "metadata": {},
     "output_type": "execute_result"
    }
   ],
   "source": [
    "# how to find maxmum number\n",
    "max(1,2,3,4,5,6,7,8)"
   ]
  },
  {
   "cell_type": "code",
   "execution_count": 36,
   "id": "32862467-37e3-4836-91aa-07318b52317b",
   "metadata": {},
   "outputs": [
    {
     "name": "stdout",
     "output_type": "stream",
     "text": [
      "['a', 'b', 'c', 'd', 'e', 'f', 'g', 'h']\n"
     ]
    }
   ],
   "source": [
    "#Sort the alphabates\n",
    "a = (\"b\", \"g\", \"a\", \"d\", \"f\", \"c\", \"h\", \"e\")\n",
    "x = sorted(a)\n",
    "print(x)"
   ]
  },
  {
   "cell_type": "code",
   "execution_count": 38,
   "id": "2475c73d-95b1-44e2-b777-2996ce58c0f2",
   "metadata": {},
   "outputs": [
    {
     "name": "stdout",
     "output_type": "stream",
     "text": [
      "['10', '12', '18', '3', '4', '6', '7', '8']\n"
     ]
    }
   ],
   "source": [
    "#Sort the numbers\n",
    "a = (\"12\", \"3\", \"10\", \"8\", \"6\", \"18\", \"7\", \"4\")\n",
    "x = sorted(a)\n",
    "print(x)"
   ]
  },
  {
   "cell_type": "code",
   "execution_count": 59,
   "id": "3532ff95-eda4-4e79-a402-64945d150395",
   "metadata": {},
   "outputs": [
    {
     "name": "stdout",
     "output_type": "stream",
     "text": [
      "Enter Marks Obtained in 5 Subjects: \n"
     ]
    },
    {
     "name": "stdin",
     "output_type": "stream",
     "text": [
      " 70\n",
      " 70\n",
      " 80\n",
      " 90\n",
      " 70\n"
     ]
    },
    {
     "name": "stdout",
     "output_type": "stream",
     "text": [
      "sum 380\n",
      "Average Mark = \n",
      "76.0\n",
      "Percentage Mark = \n",
      "76.0\n"
     ]
    }
   ],
   "source": [
    "print(\"Enter Marks Obtained in 5 Subjects: \")\n",
    "mOne = int(input())\n",
    "mTwo = int(input())\n",
    "mThree = int(input())\n",
    "mFour = int(input())\n",
    "mFive = int(input())\n",
    "\n",
    "sum = mOne+mTwo+mThree+mFour+mFive\n",
    "print(\"sum\",sum)\n",
    "avg = sum/5\n",
    "perc = (sum/500)*100\n",
    "\n",
    "print(\"Average Mark = \")\n",
    "print(avg)\n",
    "print(\"Percentage Mark = \")\n",
    "print(perc)"
   ]
  },
  {
   "cell_type": "code",
   "execution_count": 61,
   "id": "a3860c13-df11-437e-8767-2c6626547692",
   "metadata": {},
   "outputs": [
    {
     "name": "stdout",
     "output_type": "stream",
     "text": [
      "Enter Marks Obtained in 5 Subjects: \n"
     ]
    },
    {
     "name": "stdin",
     "output_type": "stream",
     "text": [
      " 60\n",
      " 70\n",
      " 80\n",
      " 90\n",
      " 50\n"
     ]
    },
    {
     "name": "stdout",
     "output_type": "stream",
     "text": [
      "sum 350\n",
      "Average Mark = \n",
      "70.0\n",
      "Percentage Mark = \n",
      "70.0\n"
     ]
    }
   ],
   "source": [
    "#Take input of five subjects ,total marks 500,marksobtained and percentage\n",
    "print(\"Enter Marks Obtained in 5 Subjects: \")\n",
    "mOne = int(input())\n",
    "mTwo = int(input())\n",
    "mThree = int(input())\n",
    "mFour = int(input())\n",
    "mFive = int(input())\n",
    "\n",
    "sum = mOne+mTwo+mThree+mFour+mFive\n",
    "print(\"sum\",sum)\n",
    "avg = sum/5\n",
    "perc = (sum/500)*100\n",
    "\n",
    "print(\"Average Mark = \")\n",
    "print(avg)\n",
    "print(\"Percentage Mark = \")\n",
    "print(perc)"
   ]
  },
  {
   "cell_type": "code",
   "execution_count": null,
   "id": "20baaff5-548f-4f22-8b98-6488150eb2c0",
   "metadata": {},
   "outputs": [],
   "source": []
  }
 ],
 "metadata": {
  "kernelspec": {
   "display_name": "Python 3 (ipykernel)",
   "language": "python",
   "name": "python3"
  },
  "language_info": {
   "codemirror_mode": {
    "name": "ipython",
    "version": 3
   },
   "file_extension": ".py",
   "mimetype": "text/x-python",
   "name": "python",
   "nbconvert_exporter": "python",
   "pygments_lexer": "ipython3",
   "version": "3.12.4"
  }
 },
 "nbformat": 4,
 "nbformat_minor": 5
}
