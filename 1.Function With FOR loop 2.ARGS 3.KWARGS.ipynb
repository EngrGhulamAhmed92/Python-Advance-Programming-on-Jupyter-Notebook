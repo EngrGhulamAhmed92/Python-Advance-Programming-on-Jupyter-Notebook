{
 "cells": [
  {
   "cell_type": "markdown",
   "id": "4639407f-8175-4388-9d1f-a77d3fc79184",
   "metadata": {},
   "source": [
    "Square of Number in list"
   ]
  },
  {
   "cell_type": "code",
   "execution_count": 7,
   "id": "b17c7b5d-ec23-47a4-99d5-455307d412c2",
   "metadata": {},
   "outputs": [
    {
     "name": "stdout",
     "output_type": "stream",
     "text": [
      "Original List: [2, 3, 4, 5]\n",
      "Square_list [4, 9, 16, 25]\n"
     ]
    }
   ],
   "source": [
    "def list_square(num_list):\n",
    "    temp_list = []  # Initialize an empty list to store the squared numbers\n",
    "    for num in num_list:  # Iterate through each number in the given list\n",
    "        temp_list.append(num ** 2)  # Append the square of each number to the temp_list\n",
    "    return \"Square_list\", temp_list  # Return the label and the list of squares\n",
    "\n",
    "num_list = [2, 3, 4, 5]  # Define the original list\n",
    "print(\"Original List:\", num_list)  # Print the original list\n",
    "result = list_square(num_list)  # Call the function to get the result\n",
    "print(result[0], result[1])  # Print the label and the list of squares\n",
    "\n"
   ]
  },
  {
   "cell_type": "markdown",
   "id": "4379631d-2ea1-4173-bfc9-d30eac898ee5",
   "metadata": {},
   "source": [
    "Sum of total numbers"
   ]
  },
  {
   "cell_type": "code",
   "execution_count": 3,
   "id": "a85f5e36-b109-4c3f-aba9-5d503449c754",
   "metadata": {},
   "outputs": [
    {
     "name": "stdout",
     "output_type": "stream",
     "text": [
      "original list [2, 3, 4, 5]\n"
     ]
    },
    {
     "data": {
      "text/plain": [
       "14"
      ]
     },
     "execution_count": 3,
     "metadata": {},
     "output_type": "execute_result"
    }
   ],
   "source": [
    "def sum_list(num_list):\n",
    "    sum=0\n",
    "    for i in num_list:\n",
    "        sum=sum+i\n",
    "    return sum\n",
    "num_list=[2,3,4,5]\n",
    "print(\"original list\",num_list)\n",
    "sum_list(num_list)"
   ]
  },
  {
   "cell_type": "markdown",
   "id": "e6c96331-c878-41c0-a032-98cac32d1336",
   "metadata": {},
   "source": [
    "Sum of total number in list"
   ]
  },
  {
   "cell_type": "code",
   "execution_count": 11,
   "id": "7ef89b8a-2738-41bf-89c9-5cc605835438",
   "metadata": {},
   "outputs": [
    {
     "name": "stdout",
     "output_type": "stream",
     "text": [
      "original list [2, 3, 4, 5]\n"
     ]
    },
    {
     "data": {
      "text/plain": [
       "120"
      ]
     },
     "execution_count": 11,
     "metadata": {},
     "output_type": "execute_result"
    }
   ],
   "source": [
    "def sum_list(num_list):\n",
    "    sum=1\n",
    "    for i in num_list:\n",
    "        sum=sum*i\n",
    "    return sum\n",
    "num_list=[2,3,4,5]\n",
    "print(\"original list\",num_list)\n",
    "sum_list(num_list)"
   ]
  },
  {
   "cell_type": "markdown",
   "id": "e23e4440-6198-4c06-b70a-65479b19200e",
   "metadata": {},
   "source": [
    "Function to check the number is even or odd and also a valid number"
   ]
  },
  {
   "cell_type": "code",
   "execution_count": 23,
   "id": "2de727d4-c54b-419e-aab3-a9131140c5a9",
   "metadata": {},
   "outputs": [
    {
     "name": "stdin",
     "output_type": "stream",
     "text": [
      "Please enter a number:  ali\n"
     ]
    },
    {
     "name": "stdout",
     "output_type": "stream",
     "text": [
      "Enter a valid number\n"
     ]
    }
   ],
   "source": [
    "def is_valid_even():\n",
    "    # Ask the user to input a number\n",
    "    user_input = input(\"Please enter a number: \")\n",
    "    \n",
    "    try:\n",
    "        num = int(user_input)  # Convert the input to an integer\n",
    "        if num % 2 == 0:\n",
    "            print(\"Number is even\")\n",
    "        else:\n",
    "            print(\"Number is odd\")\n",
    "    except ValueError:  # Handle the case where input is not a valid integer\n",
    "        print(\"Enter a valid number\")\n",
    "\n",
    "# Call the function\n",
    "is_valid_even()"
   ]
  },
  {
   "cell_type": "code",
   "execution_count": 27,
   "id": "9715ac43-ab53-49ee-a7c3-ea583240b3d0",
   "metadata": {},
   "outputs": [
    {
     "name": "stdout",
     "output_type": "stream",
     "text": [
      "Original tuple: (2, 3, 4, 5)\n",
      "Product of elements in the tuple: 120\n"
     ]
    }
   ],
   "source": [
    "# Function to calculate the product of elements in a tuple\n",
    "def product_tuple(num_list):\n",
    "    product = 1  # Start with 1 for multiplication\n",
    "    for i in num_list:\n",
    "        product *= i  # Multiply each element in the tuple\n",
    "    return product\n",
    "\n",
    "# Defining a tuple\n",
    "num_list = (2, 3, 4, 5)\n",
    "\n",
    "# Printing the original tuple\n",
    "print(\"Original tuple:\", num_list)\n",
    "\n",
    "# Calling the function and printing the result\n",
    "result = product_tuple(num_list)\n",
    "print(\"Product of elements in the tuple:\", result)"
   ]
  },
  {
   "cell_type": "code",
   "execution_count": null,
   "id": "22738a11-4417-473e-ba6b-daf7ba45cd6e",
   "metadata": {},
   "outputs": [],
   "source": [
    "For loop for number is Even or Odd"
   ]
  },
  {
   "cell_type": "code",
   "execution_count": 29,
   "id": "a337052d-331f-4629-949f-6f6abc762f8a",
   "metadata": {},
   "outputs": [
    {
     "name": "stdout",
     "output_type": "stream",
     "text": [
      "Number is even\n",
      "Number is 10 Category: None\n",
      "Number is odd\n",
      "Number is 11 Category: None\n",
      "Number is even\n",
      "Number is 12 Category: None\n",
      "Number is odd\n",
      "Number is 13 Category: None\n",
      "Number is even\n",
      "Number is 14 Category: None\n",
      "Number is odd\n",
      "Number is 15 Category: None\n",
      "Number is even\n",
      "Number is 16 Category: None\n",
      "Number is odd\n",
      "Number is 17 Category: None\n",
      "Number is even\n",
      "Number is 18 Category: None\n",
      "Number is odd\n",
      "Number is 19 Category: None\n"
     ]
    }
   ],
   "source": [
    "for i in range (10,20):\n",
    "     print(\"Number is\",i,\"Category:\",is_valid_even(i))"
   ]
  },
  {
   "cell_type": "code",
   "execution_count": 31,
   "id": "8d4772d3-e0aa-4070-8210-2efe2886ee5f",
   "metadata": {},
   "outputs": [],
   "source": [
    "#3types of aurgument\n",
    "#Default Argument\n",
    "#positional aurguments\n",
    "#keyword aurguments\n",
    "def power(a=1,b=1):\n",
    "    return a**b\n",
    "\n"
   ]
  },
  {
   "cell_type": "code",
   "execution_count": 41,
   "id": "6e107c3e-4e99-4263-ab67-6ab8cdd368a5",
   "metadata": {},
   "outputs": [
    {
     "data": {
      "text/plain": [
       "1"
      ]
     },
     "execution_count": 41,
     "metadata": {},
     "output_type": "execute_result"
    }
   ],
   "source": [
    "#default aurguments\n",
    "power()"
   ]
  },
  {
   "cell_type": "code",
   "execution_count": 35,
   "id": "01ca060d-c52f-4d09-9dd5-e6cd563068ca",
   "metadata": {},
   "outputs": [
    {
     "data": {
      "text/plain": [
       "8"
      ]
     },
     "execution_count": 35,
     "metadata": {},
     "output_type": "execute_result"
    }
   ],
   "source": [
    "power(2,3)"
   ]
  },
  {
   "cell_type": "code",
   "execution_count": 37,
   "id": "6ccb933c-8456-4a81-8c8f-638db03ef262",
   "metadata": {},
   "outputs": [
    {
     "data": {
      "text/plain": [
       "8"
      ]
     },
     "execution_count": 37,
     "metadata": {},
     "output_type": "execute_result"
    }
   ],
   "source": [
    "#Position aurguments\n",
    "power(b=3,a=2)"
   ]
  },
  {
   "cell_type": "code",
   "execution_count": 39,
   "id": "9b295e1c-7338-43e1-916d-b820c140be75",
   "metadata": {},
   "outputs": [
    {
     "data": {
      "text/plain": [
       "9"
      ]
     },
     "execution_count": 39,
     "metadata": {},
     "output_type": "execute_result"
    }
   ],
   "source": [
    "power(3,2)"
   ]
  },
  {
   "cell_type": "code",
   "execution_count": 45,
   "id": "6342ddda-07e0-4255-bb06-f9924eca4503",
   "metadata": {},
   "outputs": [],
   "source": [
    "def power(c=3.8,b=1):\n",
    "    return c**b\n"
   ]
  },
  {
   "cell_type": "code",
   "execution_count": 47,
   "id": "b0463d7d-238c-4bfa-8708-2584cb1976b6",
   "metadata": {},
   "outputs": [
    {
     "data": {
      "text/plain": [
       "14.44"
      ]
     },
     "execution_count": 47,
     "metadata": {},
     "output_type": "execute_result"
    }
   ],
   "source": [
    "power(b=2)"
   ]
  },
  {
   "cell_type": "code",
   "execution_count": 29,
   "id": "78936788-d0ba-48ae-8f19-0b516ff9e172",
   "metadata": {},
   "outputs": [],
   "source": [
    "# *args,*keywargs\n",
    "def product(*args):\n",
    "    product=1\n",
    "    for i in args:\n",
    "        product=product*i\n",
    "    print(args)\n",
    "    return product"
   ]
  },
  {
   "cell_type": "code",
   "execution_count": 55,
   "id": "91b3e469-4e82-46df-b2fd-2055cc3ee4e1",
   "metadata": {},
   "outputs": [
    {
     "name": "stdout",
     "output_type": "stream",
     "text": [
      "(2, 3, 4)\n"
     ]
    },
    {
     "data": {
      "text/plain": [
       "24"
      ]
     },
     "execution_count": 55,
     "metadata": {},
     "output_type": "execute_result"
    }
   ],
   "source": [
    "product(2,3,4,)"
   ]
  },
  {
   "cell_type": "code",
   "execution_count": null,
   "id": "43fd9b09-0a59-4df9-802b-a18c5bf2116c",
   "metadata": {},
   "outputs": [],
   "source": [
    "# potfolio\n",
    "def potfolio(*args):\n",
    "    product=1\n",
    "    for i in args:\n",
    "        product=product*i\n",
    "    print(args)\n",
    "    return product\n"
   ]
  },
  {
   "cell_type": "markdown",
   "id": "c8808639-b627-4edc-8a61-cc2544bb6d97",
   "metadata": {},
   "source": [
    "Using *args"
   ]
  },
  {
   "cell_type": "code",
   "execution_count": 33,
   "id": "4a039045-16bf-4ff9-a68b-2a967203ae33",
   "metadata": {},
   "outputs": [
    {
     "name": "stdin",
     "output_type": "stream",
     "text": [
      "Enter your name Ghulam Ahmed\n",
      "Enter your gender Male\n",
      "Enter your age 30\n",
      "Enter your specialization Data Scientist\n"
     ]
    },
    {
     "name": "stdout",
     "output_type": "stream",
     "text": [
      "('Ghulam Ahmed', 'Male', 30, 'Data Scientist')\n"
     ]
    }
   ],
   "source": [
    "def user_details(*args):\n",
    "    print(args)\n",
    "name=input(\"Enter your name\")\n",
    "gender=input(\"Enter your gender\")\n",
    "age=int(input(\"Enter your age\"))\n",
    "specialization=input(\"Enter your specialization\")\n",
    "user_details(name,gender,age,specialization)"
   ]
  },
  {
   "cell_type": "markdown",
   "id": "f84fa389-43c5-4568-803c-0153bcfb16ab",
   "metadata": {},
   "source": [
    "Using *kwargs"
   ]
  },
  {
   "cell_type": "code",
   "execution_count": 41,
   "id": "6f912b4a-d0ac-41e0-aa37-16038c1a2291",
   "metadata": {},
   "outputs": [
    {
     "name": "stdin",
     "output_type": "stream",
     "text": [
      "Enter your name:  Ghulam Ahmed\n",
      "Enter your gender:  Male\n",
      "Enter your age:  30\n",
      "Enter your specialization:  Data Scientist\n"
     ]
    },
    {
     "name": "stdout",
     "output_type": "stream",
     "text": [
      "{'name': 'Ghulam Ahmed', 'gender': 'Male', 'age': 30, 'specialization': 'Data Scientist'}\n"
     ]
    }
   ],
   "source": [
    "def user_details(**kwargs):\n",
    "    print(kwargs)  # kwargs will be a dictionary containing all the passed keyword arguments\n",
    "\n",
    "# Taking user inputs\n",
    "name = input(\"Enter your name: \")\n",
    "gender = input(\"Enter your gender: \")\n",
    "age = int(input(\"Enter your age: \"))\n",
    "specialization = input(\"Enter your specialization: \")\n",
    "\n",
    "# Calling the function and passing the inputs as keyword arguments\n",
    "user_details(name=name, gender=gender, age=age, specialization=specialization)"
   ]
  },
  {
   "cell_type": "code",
   "execution_count": 43,
   "id": "d26a4e55-d291-4454-8b3f-667a8aacdc2a",
   "metadata": {},
   "outputs": [],
   "source": [
    "def capital_of_country(**kwargs):\n",
    "    for key,value in kwargs.items():\n",
    "        print(key,\"----->\",value)"
   ]
  },
  {
   "cell_type": "code",
   "execution_count": 47,
   "id": "66ec69d9-85b9-423f-8280-ee7a56c49f7c",
   "metadata": {},
   "outputs": [
    {
     "name": "stdout",
     "output_type": "stream",
     "text": [
      "Pakistan -----> Islamabad\n",
      "England -----> London\n",
      "Germany -----> Berlin\n"
     ]
    }
   ],
   "source": [
    "capital_of_country(Pakistan=\"Islamabad\",England=\"London\",Germany=\"Berlin\")"
   ]
  },
  {
   "cell_type": "code",
   "execution_count": null,
   "id": "769bf48a-a073-4401-80f6-0dce761e6575",
   "metadata": {},
   "outputs": [],
   "source": []
  }
 ],
 "metadata": {
  "kernelspec": {
   "display_name": "Python 3 (ipykernel)",
   "language": "python",
   "name": "python3"
  },
  "language_info": {
   "codemirror_mode": {
    "name": "ipython",
    "version": 3
   },
   "file_extension": ".py",
   "mimetype": "text/x-python",
   "name": "python",
   "nbconvert_exporter": "python",
   "pygments_lexer": "ipython3",
   "version": "3.12.4"
  }
 },
 "nbformat": 4,
 "nbformat_minor": 5
}
