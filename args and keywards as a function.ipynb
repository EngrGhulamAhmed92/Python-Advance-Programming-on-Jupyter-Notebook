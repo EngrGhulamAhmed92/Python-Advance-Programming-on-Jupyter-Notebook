{
 "cells": [
  {
   "cell_type": "code",
   "execution_count": 2,
   "metadata": {
    "colab": {
     "base_uri": "https://localhost:8080/"
    },
    "id": "I7Xz1fynf8vn",
    "outputId": "da0eac20-b564-4b0b-bafe-85d85ca63029"
   },
   "outputs": [
    {
     "name": "stdout",
     "output_type": "stream",
     "text": [
      "[4, 9, 16, 25, 36, 5776]\n"
     ]
    }
   ],
   "source": [
    "#  Function to return squares by passing list\n",
    "def squareOfList(list):\n",
    "  temp_list = []\n",
    "  for num in  list:\n",
    "    temp_list.append(num**2)\n",
    "\n",
    "  return temp_list;\n",
    "\n",
    "\n",
    "original_list = [2,3,4,5,6,76,]\n",
    "print(squareOfList(original_list))\n"
   ]
  },
  {
   "cell_type": "code",
   "execution_count": 3,
   "metadata": {
    "colab": {
     "base_uri": "https://localhost:8080/"
    },
    "id": "s3xNuAdHpPqX",
    "outputId": "5c66328d-7548-475a-f13d-9c7f4d32ba84"
   },
   "outputs": [
    {
     "name": "stdout",
     "output_type": "stream",
     "text": [
      "14\n"
     ]
    }
   ],
   "source": [
    "# Function to return sum by passing list\n",
    "def sumOfList(list):\n",
    "  sum_num = 0\n",
    "  for num in list:\n",
    "    sum_num +=num\n",
    "  return sum_num\n",
    "\n",
    "original_list = [2,3,4,5]\n",
    "print(sumOfList(original_list))"
   ]
  },
  {
   "cell_type": "code",
   "execution_count": 7,
   "metadata": {
    "colab": {
     "base_uri": "https://localhost:8080/"
    },
    "id": "RUZtw2jvsz3a",
    "outputId": "db4aa460-62c0-4ec4-ac09-b7a02236ce27"
   },
   "outputs": [
    {
     "name": "stdout",
     "output_type": "stream",
     "text": [
      "120\n"
     ]
    }
   ],
   "source": [
    "#  Function to return product by passing tuple\n",
    "def productOfTuple(tup):\n",
    "  product_num = 1\n",
    "  for num in tup:\n",
    "    # print(num)\n",
    "    product_num = product_num * num\n",
    "  return product_num\n",
    "\n",
    "\n",
    "ori_tup = (1,2,3,4,5)\n",
    "print(productOfTuple(ori_tup))\n",
    "\n"
   ]
  },
  {
   "cell_type": "code",
   "execution_count": 26,
   "metadata": {
    "colab": {
     "base_uri": "https://localhost:8080/"
    },
    "id": "Gff-uuN-umK1",
    "outputId": "0051f182-2f35-44b4-8393-e42a9e285863"
   },
   "outputs": [
    {
     "name": "stdout",
     "output_type": "stream",
     "text": [
      "1  IS Odd \n",
      "2  Is Even \n",
      "3  IS Odd \n",
      "4  Is Even \n",
      "5  IS Odd \n",
      "6  Is Even \n",
      "7  IS Odd \n",
      "8  Is Even \n",
      "9  IS Odd \n",
      "10  Is Even \n"
     ]
    }
   ],
   "source": [
    "#  check a valid number function and then check it is even or no\n",
    "def checkEvenNumber(num):\n",
    "  if type(num) == int:\n",
    "    if int(num)%2 == 0:\n",
    "      print(num,\" Is Even \")\n",
    "    else:\n",
    "      print(num,\" IS Odd \")\n",
    "  else:\n",
    "    print(\"Invalid Number\")\n",
    "\n",
    "for num in range(1,11):\n",
    "  checkEvenNumber(num)\n",
    "\n",
    "\n"
   ]
  },
  {
   "cell_type": "code",
   "execution_count": 34,
   "metadata": {
    "colab": {
     "base_uri": "https://localhost:8080/"
    },
    "id": "8DuOzExEzVPG",
    "outputId": "8405e979-cd9c-451d-f7dd-6fb3b3f98b22"
   },
   "outputs": [
    {
     "data": {
      "text/plain": [
       "8"
      ]
     },
     "execution_count": 34,
     "metadata": {},
     "output_type": "execute_result"
    }
   ],
   "source": [
    "#  default of Arguments\n",
    "# positional Arguments\n",
    "# Kaywords Arguments\n",
    "#  default of Arguments case\n",
    "def power(a=1,b=1):\n",
    "  return a ** b\n",
    "\n",
    "power(b=3,a=2)"
   ]
  },
  {
   "cell_type": "code",
   "execution_count": 35,
   "metadata": {
    "colab": {
     "base_uri": "https://localhost:8080/"
    },
    "id": "tAU8BgFD1bom",
    "outputId": "81f5cb29-e8ee-4dc7-a2b1-1d5703548a85"
   },
   "outputs": [
    {
     "data": {
      "text/plain": [
       "14.44"
      ]
     },
     "execution_count": 35,
     "metadata": {},
     "output_type": "execute_result"
    }
   ],
   "source": [
    "def power(c=3.8,b=1):\n",
    "  return c ** b\n",
    "\n",
    "power(b=2)"
   ]
  },
  {
   "cell_type": "code",
   "execution_count": 38,
   "metadata": {
    "colab": {
     "base_uri": "https://localhost:8080/"
    },
    "id": "GzhoEESd2Az4",
    "outputId": "4af3529f-5b22-4287-ea85-0b483f26c70c"
   },
   "outputs": [
    {
     "name": "stdout",
     "output_type": "stream",
     "text": [
      "1950842880000\n"
     ]
    }
   ],
   "source": [
    "# *args, *keywargs\n",
    "\n",
    "def productOfTuple(*tup):\n",
    "  product_num = 1\n",
    "  for num in tup:\n",
    "    product_num = product_num * num\n",
    "  return product_num\n",
    "\n",
    "print(productOfTuple(2,3,4,5,4,6,7,7,6,4,4,5,3,6,5,2,2,4,4,5))\n",
    "\n",
    "\n"
   ]
  },
  {
   "cell_type": "code",
   "execution_count": 46,
   "metadata": {
    "colab": {
     "base_uri": "https://localhost:8080/"
    },
    "id": "xluZ9kRo3r9-",
    "outputId": "dff08461-9d9d-44f8-bc39-4dfde7ded06b"
   },
   "outputs": [
    {
     "name": "stdout",
     "output_type": "stream",
     "text": [
      "('Asrar', 29, 'Full Stack Developer', 'Simplicore Pakistan')\n"
     ]
    }
   ],
   "source": [
    "def userDetail(*args):\n",
    "  print(args)\n",
    "\n",
    "Name = \"Asrar\"\n",
    "age = 29\n",
    "designation = \"Full Stack Developer\"\n",
    "organization = \"Simplicore Pakistan\"\n",
    "userDetail(Name,age,designation,organization)\n"
   ]
  },
  {
   "cell_type": "code",
   "execution_count": 52,
   "metadata": {
    "colab": {
     "base_uri": "https://localhost:8080/"
    },
    "id": "lDCyX9xc6W-6",
    "outputId": "d9a013b6-ca04-45b0-9a92-2867ed951f25"
   },
   "outputs": [
    {
     "name": "stdout",
     "output_type": "stream",
     "text": [
      "{'Name': 'Asrar', 'age': 29, 'designation': 'Full Stack Developer', 'organization': 'Simplicore Pakistan'}\n",
      "Name ---> Asrar\n",
      "age ---> 29\n",
      "designation ---> Full Stack Developer\n",
      "organization ---> Simplicore Pakistan\n"
     ]
    }
   ],
   "source": [
    "def userDetail(**keywards):\n",
    "  print(keywards)\n",
    "  for key,value in keywards.items():\n",
    "    print(key, \"--->\" , value)\n",
    "\n",
    "\n",
    "Name = \"Asrar\"\n",
    "age = 29\n",
    "designation = \"Full Stack Developer\"\n",
    "organization = \"Simplicore Pakistan\"\n",
    "userDetail(Name=Name,age=age,designation=designation,organization=organization)"
   ]
  },
  {
   "cell_type": "code",
   "execution_count": 53,
   "metadata": {
    "colab": {
     "base_uri": "https://localhost:8080/"
    },
    "id": "Cqu62YTT8HgD",
    "outputId": "22162a6c-f1f6-4138-b717-b725f8bd1093"
   },
   "outputs": [
    {
     "name": "stdout",
     "output_type": "stream",
     "text": [
      "{'Pakistan': 'Islamabad', 'India': 'Dehli', 'USA': 'Wasington dc'}\n",
      "Pakistan ---> Islamabad\n",
      "India ---> Dehli\n",
      "USA ---> Wasington dc\n"
     ]
    }
   ],
   "source": [
    "def capitals_of_country(**keywards):\n",
    "   print(keywards)\n",
    "   for key,value in keywards.items():\n",
    "    print(key, \"--->\" , value)\n",
    "\n",
    "# when u have kaey use keywards\n",
    "#  when u have values just args\n",
    "capitals_of_country(Pakistan=\"Islamabad\",India=\"Dehli\",USA=\"Wasington dc\")"
   ]
  },
  {
   "cell_type": "code",
   "execution_count": 54,
   "metadata": {
    "colab": {
     "base_uri": "https://localhost:8080/"
    },
    "id": "WSa6J8t08w4c",
    "outputId": "def890ea-38ef-4006-d44d-4d105623d9ab"
   },
   "outputs": [
    {
     "name": "stdout",
     "output_type": "stream",
     "text": [
      "{'Name': 'Asrar', 'age': 29, 'designation': 'Full Stack Developer', 'organization': 'Simplicore Pakistan', 'school': 'TAFs', 'college': 'Chiniot', 'university': 'SSUET'}\n",
      "Name ---> Asrar\n",
      "age ---> 29\n",
      "designation ---> Full Stack Developer\n",
      "organization ---> Simplicore Pakistan\n",
      "school ---> TAFs\n",
      "college ---> Chiniot\n",
      "university ---> SSUET\n"
     ]
    }
   ],
   "source": [
    "def user_detail_keywards(**itemswards):\n",
    "  print(itemswards)\n",
    "  for key,value in itemswards.items():\n",
    "    print(key, \"--->\" , value)\n",
    "school = \"TAFs\"\n",
    "college = \"Chiniot\"\n",
    "university = \"SSUET\"\n",
    "Name = \"Asrar\"\n",
    "age = 29\n",
    "designation = \"Full Stack Developer\"\n",
    "organization = \"Simplicore Pakistan\"\n",
    "userDetail(Name=Name,age=age,designation=designation,organization=organization,school=school,college=college,university=university)\n"
   ]
  }
 ],
 "metadata": {
  "colab": {
   "provenance": []
  },
  "kernelspec": {
   "display_name": "Python 3 (ipykernel)",
   "language": "python",
   "name": "python3"
  },
  "language_info": {
   "codemirror_mode": {
    "name": "ipython",
    "version": 3
   },
   "file_extension": ".py",
   "mimetype": "text/x-python",
   "name": "python",
   "nbconvert_exporter": "python",
   "pygments_lexer": "ipython3",
   "version": "3.12.4"
  }
 },
 "nbformat": 4,
 "nbformat_minor": 4
}
