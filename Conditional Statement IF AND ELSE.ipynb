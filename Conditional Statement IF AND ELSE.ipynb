{
 "cells": [
  {
   "cell_type": "markdown",
   "id": "98f5d00f-3325-418d-8a6a-8d6213b853ed",
   "metadata": {},
   "source": [
    "A program to check whether the given input number is divisible by 3 or else\r\n",
    "show a message “Number is not divisible by 3”."
   ]
  },
  {
   "cell_type": "code",
   "execution_count": 9,
   "id": "13834ce2-3720-4cbd-8991-9a77e107fc2c",
   "metadata": {},
   "outputs": [
    {
     "name": "stdin",
     "output_type": "stream",
     "text": [
      "Enter a number:  33\n"
     ]
    },
    {
     "name": "stdout",
     "output_type": "stream",
     "text": [
      "33 is divisible by 3.\n"
     ]
    }
   ],
   "source": [
    "# Get user input\n",
    "num = input(\"Enter a number: \")\n",
    "\n",
    "# Check if the input is a valid number\n",
    "if num.isdigit():\n",
    "    num = int(num)\n",
    "    # Check if the number is divisible by 3\n",
    "    if num % 3 == 0:\n",
    "        print(num, \"is divisible by 3.\")\n",
    "    else:\n",
    "        print(\"Number is not divisible by 3.\")\n",
    "else:\n",
    "    print(\"Please enter a valid number.\")"
   ]
  },
  {
   "cell_type": "markdown",
   "id": "555123f2-9fb3-4fb7-a949-7a6ffb40387d",
   "metadata": {},
   "source": [
    "A program that checks whether the given input is an even number or an\r\n",
    "odd number."
   ]
  },
  {
   "cell_type": "code",
   "execution_count": 7,
   "id": "627e1dcf-5518-4e20-8d99-87b9fcd08517",
   "metadata": {},
   "outputs": [
    {
     "name": "stdin",
     "output_type": "stream",
     "text": [
      "Enter a number:  23\n"
     ]
    },
    {
     "name": "stdout",
     "output_type": "stream",
     "text": [
      "23 is an odd number.\n"
     ]
    }
   ],
   "source": [
    "# Get user input\n",
    "num = input(\"Enter a number: \")\n",
    "\n",
    "# Check if the input is a valid number\n",
    "if num.isdigit():\n",
    "    num = int(num)\n",
    "    # Check if the number is even or odd using if-else\n",
    "    if num % 2 == 0:\n",
    "        print(num, \"is an even number.\")\n",
    "    else:\n",
    "        print(num, \"is an odd number.\")\n",
    "else:\n",
    "    print(\"Please enter a valid number.\")\n"
   ]
  },
  {
   "cell_type": "markdown",
   "id": "acb22be1-56f8-4f28-88cf-5568516b4bba",
   "metadata": {},
   "source": [
    "if/else statement with the following condition:\n",
    "If the variable age is greater than 18, output \"Old enough\", otherwise output \"Too\n",
    "young\"."
   ]
  },
  {
   "cell_type": "code",
   "execution_count": 11,
   "id": "4630163b-6e69-47c1-a432-8fcdd069d5d1",
   "metadata": {},
   "outputs": [
    {
     "name": "stdin",
     "output_type": "stream",
     "text": [
      "Enter your age:  30\n"
     ]
    },
    {
     "name": "stdout",
     "output_type": "stream",
     "text": [
      "Old enough\n"
     ]
    }
   ],
   "source": [
    "# Define the age variable\n",
    "age = int(input(\"Enter your age: \"))  # Get user input and convert it to an integer\n",
    "\n",
    "# Check the condition using if/else\n",
    "if age > 18:\n",
    "    print(\"Old enough\")\n",
    "else:\n",
    "    print(\"Too young\")"
   ]
  },
  {
   "cell_type": "markdown",
   "id": "d027cc6e-6522-4741-b3eb-70ef8948ee22",
   "metadata": {},
   "source": [
    "A program that prompts the user for their name, and then displays a special\n",
    "greeting to that person if their name is the same as yours. If the name entered by the\n",
    "user is anything other than your name, your code should not produce any output."
   ]
  },
  {
   "cell_type": "code",
   "execution_count": 15,
   "id": "494fbc20-4b4e-46c5-b170-f8dfa5bb9566",
   "metadata": {},
   "outputs": [
    {
     "name": "stdin",
     "output_type": "stream",
     "text": [
      "Enter your name:  GHULAM AHMED\n"
     ]
    },
    {
     "name": "stdout",
     "output_type": "stream",
     "text": [
      "Hello, GHULAM AHMED! Welcome!\n"
     ]
    }
   ],
   "source": [
    "# Define your name\n",
    "my_name = \"GHULAM AHMED\"  # Replace \"YourName\" with your actual name\n",
    "\n",
    "# Prompt the user for their name\n",
    "user_name = input(\"Enter your name: \")\n",
    "\n",
    "# Check if the entered name matches yours\n",
    "if user_name == my_name:\n",
    "    print(\"Hello, \" + my_name + \"! Welcome!\")"
   ]
  },
  {
   "cell_type": "markdown",
   "id": "c9113f1f-4822-4833-9638-23a0cad05d16",
   "metadata": {},
   "source": [
    "A program that takes a calendar year in YYYY format in a variable. Check &\n",
    "notify the user whether it is a leap year or not."
   ]
  },
  {
   "cell_type": "code",
   "execution_count": 27,
   "id": "f61c5ea8-eba8-4903-abe4-f709c4927736",
   "metadata": {},
   "outputs": [
    {
     "name": "stdin",
     "output_type": "stream",
     "text": [
      "Enter a year (in YYYY format):  4000\n"
     ]
    },
    {
     "name": "stdout",
     "output_type": "stream",
     "text": [
      "4000 is a leap year.\n"
     ]
    }
   ],
   "source": [
    "# Get user input for the year\n",
    "year = int(input(\"Enter a year (in YYYY format): \"))\n",
    "\n",
    "# Check if the year is a leap year\n",
    "if (year % 4 == 0 and year % 100 != 0) or (year % 400 == 0):\n",
    "    print(year, \"is a leap year.\")\n",
    "else:\n",
    "    print(year, \"is not a leap year.\")"
   ]
  },
  {
   "cell_type": "markdown",
   "id": "668b860a-fddf-49db-9259-64439c8fafdc",
   "metadata": {},
   "source": [
    "A program that accept two integers and display the larger. Also\n",
    "show if the two integers are equal."
   ]
  },
  {
   "cell_type": "code",
   "execution_count": 29,
   "id": "f6f84db8-9706-4ef7-befa-63e1f80e27fb",
   "metadata": {},
   "outputs": [
    {
     "name": "stdin",
     "output_type": "stream",
     "text": [
      "Enter the first integer:  2\n",
      "Enter the second integer:  3\n"
     ]
    },
    {
     "name": "stdout",
     "output_type": "stream",
     "text": [
      "3 is larger.\n"
     ]
    }
   ],
   "source": [
    "# Accept two integers from the user\n",
    "num1 = int(input(\"Enter the first integer: \"))\n",
    "num2 = int(input(\"Enter the second integer: \"))\n",
    "\n",
    "# Compare the two numbers and display the appropriate message\n",
    "if num1 > num2:\n",
    "    print(num1, \"is larger.\")\n",
    "elif num2 > num1:\n",
    "    print(num2, \"is larger.\")\n",
    "else:\n",
    "    print(\"Both numbers are equal.\")"
   ]
  },
  {
   "cell_type": "markdown",
   "id": "912eda3a-97f1-40c9-b0f1-def8dfd6eeea",
   "metadata": {},
   "source": [
    "A program that takes input a number from user & state whether the\n",
    "number is positive, negative or zero."
   ]
  },
  {
   "cell_type": "code",
   "execution_count": 33,
   "id": "751cff84-046b-4130-ab5a-505b8f9f6cf7",
   "metadata": {},
   "outputs": [
    {
     "name": "stdin",
     "output_type": "stream",
     "text": [
      "Enter a number:  -23\n"
     ]
    },
    {
     "name": "stdout",
     "output_type": "stream",
     "text": [
      "The number is negative.\n"
     ]
    }
   ],
   "source": [
    "# Accept a number from the user\n",
    "num = float(input(\"Enter a number: \"))\n",
    "\n",
    "# Check if the number is positive, negative, or zero\n",
    "if num > 0:\n",
    "    print(\"The number is positive.\")\n",
    "elif num < 0:\n",
    "    print(\"The number is negative.\")\n",
    "else:\n",
    "    print(\"The number is zero.\")"
   ]
  },
  {
   "cell_type": "markdown",
   "id": "4164ebe4-81f6-4407-adba-cb91aba6ed36",
   "metadata": {},
   "source": [
    "A program that takes a character (i.e. string of length 1) and returns true if\n",
    "it is a vowel, false otherwise."
   ]
  },
  {
   "cell_type": "code",
   "execution_count": 39,
   "id": "38b8f7a6-972c-4fff-bfe4-9155ceefa7be",
   "metadata": {},
   "outputs": [
    {
     "name": "stdin",
     "output_type": "stream",
     "text": [
      "Enter a character:  Q\n"
     ]
    },
    {
     "name": "stdout",
     "output_type": "stream",
     "text": [
      "CONSTANT False\n"
     ]
    }
   ],
   "source": [
    "# Accept a character from the user\n",
    "char = input(\"Enter a character: \")\n",
    "\n",
    "# Check if the character is a vowel (either lowercase or uppercase)\n",
    "if char.lower() in 'aeiou':\n",
    "    print(\"VOWEL TRUE\")\n",
    "else:\n",
    "    print(\"CONSTANT False\")"
   ]
  },
  {
   "cell_type": "markdown",
   "id": "5a48b378-273e-4d2b-8841-9dff4a064f65",
   "metadata": {},
   "source": [
    "A conditional (ternary) operator for this exercise:\n",
    "If the variable age is a value below 18, the value of the variable voteable should be\n",
    "\"Too young\", otherwise the value of voteable should be \"Old enough\"."
   ]
  },
  {
   "cell_type": "code",
   "execution_count": 41,
   "id": "6b328d82-95bd-48b2-82ce-e4a77bdd8d86",
   "metadata": {},
   "outputs": [
    {
     "name": "stdin",
     "output_type": "stream",
     "text": [
      "Enter your age:  12\n"
     ]
    },
    {
     "name": "stdout",
     "output_type": "stream",
     "text": [
      "Too young\n"
     ]
    }
   ],
   "source": [
    "# Define the age variable\n",
    "age = int(input(\"Enter your age: \"))  # Get the age from the user\n",
    "\n",
    "# Use the ternary operator to assign value to voteable\n",
    "voteable = \"Too young\" if age < 18 else \"Old enough\"\n",
    "\n",
    "# Print the result\n",
    "print(voteable)"
   ]
  },
  {
   "cell_type": "markdown",
   "id": "16ba8e5f-5bfc-424b-b185-0ebe4b1ad6c4",
   "metadata": {},
   "source": [
    "A program that\n",
    "a) Store correct password in a variable.\n",
    "b) Asks user to enter his/her password\n",
    "c) Validate the two passwords:\n",
    "i. Check if user has entered password. If not, then give message “ Please\n",
    "enter your password”\n",
    "ii. Check if both passwords are same. If they are same, show message\n",
    "“Correct! The password you entered matches the original password”.\n",
    "iii. Show “Incorrect password” otherwise."
   ]
  },
  {
   "cell_type": "code",
   "execution_count": 43,
   "id": "93028d33-c750-4cee-97ff-d83b5e62cf64",
   "metadata": {},
   "outputs": [
    {
     "name": "stdin",
     "output_type": "stream",
     "text": [
      "Please enter your password:  ghulamahmed\n"
     ]
    },
    {
     "name": "stdout",
     "output_type": "stream",
     "text": [
      "Correct! The password you entered matches the original password.\n"
     ]
    }
   ],
   "source": [
    "# Store the correct password in a variable\n",
    "correct_password = \"ghulamahmed\"  # Change this to your desired correct password\n",
    "\n",
    "# Ask the user to enter their password\n",
    "user_password = input(\"Please enter your password: \")\n",
    "\n",
    "# Validate the entered password\n",
    "if user_password == \"\":\n",
    "    print(\"Please enter your password\")\n",
    "elif user_password == correct_password:\n",
    "    print(\"Congratulations Correct! The password you entered matches the original password.\")\n",
    "else:\n",
    "    print(\"Incorrect password.\")"
   ]
  },
  {
   "cell_type": "markdown",
   "id": "1a98e790-70c0-417d-bf64-59482a9b415a",
   "metadata": {},
   "source": [
    "A program that takes time as input from user in 24 hours clock format like:\r\n",
    "1900 = 7pm. Implement the following case using if, else & else if statements"
   ]
  },
  {
   "cell_type": "code",
   "execution_count": 49,
   "id": "d804e87a-e9be-440f-a89d-2f630e1bb5d5",
   "metadata": {},
   "outputs": [
    {
     "name": "stdin",
     "output_type": "stream",
     "text": [
      "Enter the time in 24-hour format (HHMM):  2200\n"
     ]
    },
    {
     "name": "stdout",
     "output_type": "stream",
     "text": [
      "10:00 PM\n"
     ]
    }
   ],
   "source": [
    "# Accept time in 24-hour format (HHMM) from the user\n",
    "time_24hr = input(\"Enter the time in 24-hour format (HHMM): \")\n",
    "\n",
    "# Convert the input string into hours and minutes\n",
    "hours = int(time_24hr[:2])\n",
    "minutes = time_24hr[2:]\n",
    "\n",
    "# Check for valid time input\n",
    "if hours < 0 or hours >= 24 or len(minutes) != 2 or not minutes.isdigit():\n",
    "    print(\"Invalid time! Please enter a valid 24-hour time.\")\n",
    "else:\n",
    "    # Convert to 12-hour format and determine AM/PM\n",
    "    if hours == 0:\n",
    "        print(\"12:\" + minutes + \" AM\")\n",
    "    elif hours == 12:\n",
    "        print(\"12:\" + minutes + \" PM\")\n",
    "    elif hours > 12:\n",
    "        print(str(hours - 12) + \":\" + minutes + \" PM\")\n",
    "    else:\n",
    "        print(str(hours) + \":\" + minutes + \" AM\")"
   ]
  },
  {
   "cell_type": "code",
   "execution_count": null,
   "id": "50f05946-8787-4a2e-acf0-a0e5cbad343f",
   "metadata": {},
   "outputs": [],
   "source": []
  }
 ],
 "metadata": {
  "kernelspec": {
   "display_name": "Python 3 (ipykernel)",
   "language": "python",
   "name": "python3"
  },
  "language_info": {
   "codemirror_mode": {
    "name": "ipython",
    "version": 3
   },
   "file_extension": ".py",
   "mimetype": "text/x-python",
   "name": "python",
   "nbconvert_exporter": "python",
   "pygments_lexer": "ipython3",
   "version": "3.12.4"
  }
 },
 "nbformat": 4,
 "nbformat_minor": 5
}
