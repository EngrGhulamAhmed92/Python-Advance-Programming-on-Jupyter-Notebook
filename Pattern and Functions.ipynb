{
 "cells": [
  {
   "cell_type": "code",
   "execution_count": 40,
   "id": "afc368c3-5041-4322-ac2b-e709ae0fbe9c",
   "metadata": {},
   "outputs": [
    {
     "name": "stdin",
     "output_type": "stream",
     "text": [
      "Enter Rows of Number 1\n"
     ]
    },
    {
     "name": "stdout",
     "output_type": "stream",
     "text": [
      "1\n"
     ]
    }
   ],
   "source": [
    "#pattern 3\n",
    "row_number=int(input(\"Enter Rows of Number\"))\n",
    "for i in range (1,row_number+1):\n",
    "    for j in range(1,i+1):\n",
    "        print(j,end='')\n",
    "    for k in range(i-1,0,-1):\n",
    "        print(k,end='')\n",
    "         \n",
    "    print()"
   ]
  },
  {
   "cell_type": "code",
   "execution_count": 68,
   "id": "9fb24ddd-5b8f-4d1a-85c4-e50d927635a1",
   "metadata": {},
   "outputs": [
    {
     "name": "stdout",
     "output_type": "stream",
     "text": [
      "Hello Ghulam Ahmed **************************\n"
     ]
    }
   ],
   "source": [
    "def wellcome():\n",
    "    print(\"Hello Ghulam Ahmed\",\"**************************\")\n",
    "wellcome()"
   ]
  },
  {
   "cell_type": "code",
   "execution_count": 70,
   "id": "87a69289-170c-476f-9486-9f6b3956fd97",
   "metadata": {},
   "outputs": [
    {
     "name": "stdout",
     "output_type": "stream",
     "text": [
      "Hello Ghulam Ahmed **************************\n"
     ]
    }
   ],
   "source": [
    "wellcome()"
   ]
  },
  {
   "cell_type": "code",
   "execution_count": 61,
   "id": "081d1231-0045-4b36-8f99-67d31b489181",
   "metadata": {},
   "outputs": [],
   "source": [
    "#functions\n",
    "def wellcome():\n",
    "    print(\"Good Morning have a nice day\")\n",
    "    "
   ]
  },
  {
   "cell_type": "code",
   "execution_count": 63,
   "id": "583da90b-de9c-4efe-9464-09dca6db45f1",
   "metadata": {},
   "outputs": [
    {
     "name": "stdout",
     "output_type": "stream",
     "text": [
      "Good Morning have a nice day\n"
     ]
    }
   ],
   "source": [
    "wellcome()"
   ]
  },
  {
   "cell_type": "code",
   "execution_count": 73,
   "id": "e546347f-db69-4f43-acb1-e9fdb1d1d649",
   "metadata": {},
   "outputs": [
    {
     "name": "stdout",
     "output_type": "stream",
     "text": [
      "Good Morning ahmed  have a nice day\n"
     ]
    }
   ],
   "source": [
    "def wellcome(name):\n",
    "    print(\"Good Morning\",name,\" have a nice day\")\n",
    "wellcome(\"ahmed\")"
   ]
  },
  {
   "cell_type": "code",
   "execution_count": 91,
   "id": "42691315-dc24-4538-a1be-03a2c33b058f",
   "metadata": {},
   "outputs": [
    {
     "name": "stdin",
     "output_type": "stream",
     "text": [
      "Enter your name ahmed\n"
     ]
    },
    {
     "name": "stdout",
     "output_type": "stream",
     "text": [
      "Good Morning ahmed Have a nice day\n"
     ]
    }
   ],
   "source": [
    "def wellcome(name):\n",
    "    print(\"Good Morning\",name,\"Have a nice day\")\n",
    "\n",
    "name=input(\"Enter your name\")\n",
    "wellcome(name)"
   ]
  },
  {
   "cell_type": "code",
   "execution_count": 97,
   "id": "2379e6d5-a750-4e90-b16d-821abc365dbf",
   "metadata": {},
   "outputs": [
    {
     "name": "stdout",
     "output_type": "stream",
     "text": [
      "6\n"
     ]
    }
   ],
   "source": [
    "def add(num1,num2):\n",
    "    return num1+num2\n",
    "\n",
    "result = add(2,4)\n",
    "print(result)"
   ]
  },
  {
   "cell_type": "code",
   "execution_count": 103,
   "id": "182a3c34-cdea-4695-b9c8-e6600fc2edc9",
   "metadata": {},
   "outputs": [
    {
     "data": {
      "text/plain": [
       "6"
      ]
     },
     "execution_count": 103,
     "metadata": {},
     "output_type": "execute_result"
    }
   ],
   "source": [
    "def add(num1,num2):\n",
    "    return num1+num2\n",
    "\n",
    "add(2,4)"
   ]
  },
  {
   "cell_type": "code",
   "execution_count": 19,
   "id": "770d40de-c0cb-41f7-8bc7-5c19a661e3b3",
   "metadata": {},
   "outputs": [
    {
     "name": "stdin",
     "output_type": "stream",
     "text": [
      "Enter a number:  13\n"
     ]
    },
    {
     "name": "stdout",
     "output_type": "stream",
     "text": [
      "The number 13 is Odd.\n"
     ]
    }
   ],
   "source": [
    "def check_odd_even(number):\n",
    "    if number % 2 == 0:\n",
    "        return \"Even\"\n",
    "    else:\n",
    "        return \"Odd\"\n",
    "\n",
    "# Test the function\n",
    "number = int(input(\"Enter a number: \"))\n",
    "result = check_odd_even(number)\n",
    "print(f\"The number {number} is {result}.\")"
   ]
  },
  {
   "cell_type": "code",
   "execution_count": 9,
   "id": "30fcc51d-8d06-456f-9211-b112f6012eb6",
   "metadata": {},
   "outputs": [
    {
     "name": "stdout",
     "output_type": "stream",
     "text": [
      "Hello, my name is Ahmed and I am 20 years old.\n"
     ]
    }
   ],
   "source": [
    "name=\"Ahmed\"\n",
    "age=\"20\"\n",
    "print(f\"Hello, my name is {name} and I am {age} years old.\")"
   ]
  },
  {
   "cell_type": "code",
   "execution_count": 21,
   "id": "128bfb8d-a970-4b32-ac53-40b3042baced",
   "metadata": {},
   "outputs": [
    {
     "name": "stdout",
     "output_type": "stream",
     "text": [
      "Welcome to Python\n"
     ]
    }
   ],
   "source": [
    "# function\n",
    "def message():\n",
    "    print(\"Welcome to Python\")\n",
    "# call function using its name\n",
    "message()"
   ]
  },
  {
   "cell_type": "code",
   "execution_count": 23,
   "id": "8ec289c9-3521-4b7f-96fa-757645603077",
   "metadata": {},
   "outputs": [
    {
     "name": "stdout",
     "output_type": "stream",
     "text": [
      "Welcome to Python\n"
     ]
    }
   ],
   "source": [
    "# function\n",
    "def message():\n",
    "    print(\"Welcome to Python\")\n",
    "# call function using its name\n",
    "message()"
   ]
  },
  {
   "cell_type": "code",
   "execution_count": 35,
   "id": "9ce9f4ec-a946-4380-97c4-7e3bb1d63945",
   "metadata": {},
   "outputs": [],
   "source": [
    "def check_even(num):\n",
    "    if num%2==0:\n",
    "        return 'even'\n",
    "    else:\n",
    "        return 'odd'"
   ]
  },
  {
   "cell_type": "code",
   "execution_count": 1,
   "id": "7b267a86-7ed3-4070-8630-abd5c3e1cea6",
   "metadata": {},
   "outputs": [
    {
     "name": "stdin",
     "output_type": "stream",
     "text": [
      "Enter your password:  ········\n"
     ]
    },
    {
     "name": "stdout",
     "output_type": "stream",
     "text": [
      "Your password is: ****\n"
     ]
    }
   ],
   "source": [
    "import getpass\n",
    "\n",
    "# Prompt the user for a password\n",
    "password = getpass.getpass(\"Enter your password: \")\n",
    "\n",
    "# Display the password as asterisks (stars)\n",
    "print(\"Your password is:\", \"*\" * len(password))"
   ]
  },
  {
   "cell_type": "code",
   "execution_count": 74,
   "id": "fd8c4d72-aaad-4849-bb90-4377a98fbdd3",
   "metadata": {},
   "outputs": [
    {
     "name": "stdin",
     "output_type": "stream",
     "text": [
      "Enter your password:  ········\n"
     ]
    },
    {
     "name": "stdout",
     "output_type": "stream",
     "text": [
      "Your password is: ***\n"
     ]
    }
   ],
   "source": [
    "import getpass\n",
    "\n",
    "# Prompt the user for a password\n",
    "password = getpass.getpass(\"Enter your password: \")\n",
    "\n",
    "# Display the password as asterisks (stars)\n",
    "print(\"Your password is:\", \"*\" * len(password))"
   ]
  },
  {
   "cell_type": "code",
   "execution_count": null,
   "id": "4743f817-b827-4396-819b-72ff0ed6d62a",
   "metadata": {},
   "outputs": [],
   "source": []
  }
 ],
 "metadata": {
  "kernelspec": {
   "display_name": "Python 3 (ipykernel)",
   "language": "python",
   "name": "python3"
  },
  "language_info": {
   "codemirror_mode": {
    "name": "ipython",
    "version": 3
   },
   "file_extension": ".py",
   "mimetype": "text/x-python",
   "name": "python",
   "nbconvert_exporter": "python",
   "pygments_lexer": "ipython3",
   "version": "3.12.4"
  }
 },
 "nbformat": 4,
 "nbformat_minor": 5
}
