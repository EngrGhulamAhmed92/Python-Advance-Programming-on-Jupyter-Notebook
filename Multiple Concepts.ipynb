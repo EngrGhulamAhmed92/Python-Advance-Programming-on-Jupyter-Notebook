{
 "cells": [
  {
   "cell_type": "code",
   "execution_count": null,
   "id": "6b8f294e-0c03-43c1-b8d2-1c2b45163ecc",
   "metadata": {},
   "outputs": [],
   "source": [
    "#NAME.Engr GHULAM AHMED\n",
    "#EMAIL ADDRESS.ghulamahmedned@gmail.com\n"
   ]
  },
  {
   "cell_type": "code",
   "execution_count": 9,
   "id": "93fb512a-0a88-4c75-b6ab-c634456e4239",
   "metadata": {},
   "outputs": [
    {
     "name": "stdin",
     "output_type": "stream",
     "text": [
      "What is your name?  12\n",
      "How old are you?  12\n"
     ]
    },
    {
     "name": "stdout",
     "output_type": "stream",
     "text": [
      "Hello 12, you are 12 years old.\n"
     ]
    }
   ],
   "source": [
    "#Question.no.2\n",
    "# Ask the user to enter their name\n",
    "name = input(\"What is your name? \")\n",
    "\n",
    "# Ask the user to enter their age\n",
    "age = input(\"How old are you? \")\n",
    "\n",
    "# Convert age to an integer (since input() returns a string)\n",
    "age = int(age)\n",
    "\n",
    "# Print the greeting message\n",
    "print(f\"Hello {name}, you are {age} years old.\")"
   ]
  },
  {
   "cell_type": "code",
   "execution_count": 23,
   "id": "1e5bf7e5-01cb-4736-a2fa-61ea24aed99c",
   "metadata": {},
   "outputs": [
    {
     "name": "stdin",
     "output_type": "stream",
     "text": [
      "Input a number:  -12\n"
     ]
    },
    {
     "name": "stdout",
     "output_type": "stream",
     "text": [
      "It is a negative number\n"
     ]
    }
   ],
   "source": [
    "#Question.no.3\n",
    "num = float(input(\"Input a number: \"))\n",
    "\n",
    "# Here we Check if the number is greater than zero.\n",
    "if num > 0:\n",
    "   # If true, print that it is a positive number.\n",
    "   print(\"It is a positive number\")\n",
    "# Here we Check if the number is equal to zero.\n",
    "elif num == 0:\n",
    "   # Condition check If true, print that it is zero.\n",
    "   print(\"It is zero\")\n",
    "else:\n",
    "   # Condition check If the above conditions are not met, print that it is a negative number.\n",
    "   print(\"It is a negative number\")"
   ]
  },
  {
   "cell_type": "code",
   "execution_count": null,
   "id": "38be5d0b-7b26-4be1-a1a1-47ac40e9c4e5",
   "metadata": {},
   "outputs": [],
   "source": [
    "#Question.no.4\n",
    "#result = 2 / 5 * 17 / 3 * 4 / 3\n",
    "#print(result)  # Output: 1.53125"
   ]
  },
  {
   "cell_type": "code",
   "execution_count": 87,
   "id": "0364e860-225c-4ebc-8827-890707833dcd",
   "metadata": {},
   "outputs": [
    {
     "name": "stdin",
     "output_type": "stream",
     "text": [
      "Enter your username (email):  ahmed@gmail.com\n",
      "Enter your password:  ahmed@321\n"
     ]
    },
    {
     "name": "stdout",
     "output_type": "stream",
     "text": [
      "Welcome ahmed!\n"
     ]
    }
   ],
   "source": [
    "# Question.no.8\n",
    "# Ask for the username (email)\n",
    "username = input(\"Enter your username (email): \")\n",
    "\n",
    "if \"@\" in username:\n",
    "    # Ask for the password\n",
    "    password = input(\"Enter your password: \")\n",
    "\n",
    "    # In this loap we Check if the username and password match the correct values\n",
    "    if username == \"ahmed@gmail.com\" and password == \"ahmed@321\":\n",
    "        print(\"Welcome ahmed!\")\n",
    "    elif username == \"ahmed@gmail.com\" and password != \"ahmed@321\":\n",
    "        print(\"Password is incorrect. Please re-enter your password.\")\n",
    "        password = input(\"Enter your password again: \")\n",
    "        if password == \"ahmed@321\":\n",
    "            print(\"Now, welcome after one attempt!\")\n",
    "        else:\n",
    "            print(\"Your password is incorrect.\")\n",
    "    else:\n",
    "        print(\"Invalid username. Please enter valid credentials.\")\n",
    "else:\n",
    "    print(\"Enter a valid email address.\")"
   ]
  },
  {
   "cell_type": "code",
   "execution_count": 89,
   "id": "dc035fbe-e6df-432b-ac68-fbaca7e24eda",
   "metadata": {},
   "outputs": [
    {
     "name": "stdout",
     "output_type": "stream",
     "text": [
      "The company makes of a profit of 800 dollars\n"
     ]
    }
   ],
   "source": [
    "#Question.no.6\n",
    "#cost of flying plane\n",
    "cost_of_flying_plane = 5000\n",
    "#cost of passenger\n",
    "number_of_passengers = 29\n",
    "#price of ticket\n",
    "price_of_ticket = 200\n",
    "profit = (number_of_passengers * price_of_ticket) - cost_of_flying_plane\n",
    "print(\"The company makes of a profit of {} dollars\".format(profit))\n",
    "\n",
    "\n"
   ]
  },
  {
   "cell_type": "code",
   "execution_count": 47,
   "id": "4990d13f-bdac-449b-8e48-7621a3c53fc8",
   "metadata": {},
   "outputs": [
    {
     "name": "stdin",
     "output_type": "stream",
     "text": [
      "\n",
      "1-Addition\n",
      "2-Subtraction\n",
      "3-Multiplication\n",
      "4-Factorial\n",
      "5-Divison\n",
      "6-Power\n",
      "7-Squareroot\n",
      " 6\n",
      "Enter your desired number: 3\n",
      "Enter your desired number: 2\n"
     ]
    },
    {
     "name": "stdout",
     "output_type": "stream",
     "text": [
      "Power of 3.0 and 2.0 is: 9.0\n"
     ]
    }
   ],
   "source": [
    "#Question.no.7\n",
    "#Firstly we import math function from library \n",
    "import math\n",
    "#Then we creat menu option by ('''     ''')\n",
    "option=input('''\n",
    "1-Addition\n",
    "2-Subtraction\n",
    "3-Multiplication\n",
    "4-Factorial\n",
    "5-Divison\n",
    "6-Power\n",
    "7-Squareroot\n",
    "''')\n",
    "number1=float(input(\"Enter your desired number:\"))\n",
    "number2=float(input(\"Enter your desired number:\"))\n",
    "if option=='1':\n",
    "    print(\"Addition of\",number1,\"and\",number2,\"is:\",number1+number2) #addition operator is used\n",
    "elif option=='2':\n",
    "    print(\"Subtraction of\",number1,\"and\",number2,\"is:\",number1-number2) #subtraction operator is used\n",
    "elif option=='3':\n",
    "    print(\"Multiplication of\",number1,\"and\",number2,\"is:\",number1*number2)# multiplication operator is used\n",
    "elif option=='4':\n",
    "    print(\"Factorial of\",number1,\"is:\",number1=math.factorial(number1)) #import factorial fuction\n",
    "elif option=='5':\n",
    "    print(\"Division of\",number1,\"and\",number2,\"is:\",number1/number2) # Divison operator is used\n",
    "elif option=='6':\n",
    "    print(\"Power of\",number1,\"and\",number2,\"is:\",number1**number2) # Power operator ** is used \n",
    "else :\n",
    "    print(\"Squareroot of\",number1,\"and\",number2,\"is:\",number1**0.5) # here number enter as an input is divided by 0.5 AS SQUAREROOT IS EQUAL TO 0.5"
   ]
  },
  {
   "cell_type": "code",
   "execution_count": 51,
   "id": "635738b2-b9be-47ee-a6a3-128ecf4f0511",
   "metadata": {},
   "outputs": [
    {
     "name": "stdout",
     "output_type": "stream",
     "text": [
      "x = 12.5\n",
      "y = 45.8\n",
      "z = 33.1\n",
      "{'Ali': 85, 'Saima': 90, 'Kabeer': 78, 'Ahmed': 92}\n",
      "{'Ali': 85, 'Saima': 90, 'Kabeer': 82, 'Ahmed': 92}\n"
     ]
    }
   ],
   "source": [
    "# Question.no.9\n",
    "# Given tuple\n",
    "coordinates = (12.5, 45.8, 33.1)\n",
    "\n",
    "# Unpacking the tuple into variables\n",
    "x, y, z = coordinates\n",
    "\n",
    "# Print the values of the variables\n",
    "print(\"x =\", x)\n",
    "print(\"y =\", y)\n",
    "print(\"z =\", z)\n",
    "# Given dictionary\n",
    "student_scores = {'Ali': 85, 'Saima': 90, 'Kabeer': 78}\n",
    "\n",
    "# Here we add a new student Ahmed with a score of 92\n",
    "student_scores['Ahmed'] = 92\n",
    "\n",
    "# Print the updated dictionary\n",
    "print(student_scores)\n",
    "# In the last update Kabeer's score to 82\n",
    "student_scores['Kabeer'] = 82\n",
    "\n",
    "# Print the updated dictionary\n",
    "print(student_scores)"
   ]
  },
  {
   "cell_type": "code",
   "execution_count": null,
   "id": "ef010576-4a6d-4575-b19a-f85cae05c9d0",
   "metadata": {},
   "outputs": [],
   "source": [
    "#Question.no.9 part ii Answer\n",
    "# A tuple is used  if you need an immutable collection of data where the elements are not change after creation. \n",
    "#Tuples are execute faster and more memory-efficient consuming less space than lists, \n",
    "#They are used making them better for fixed collections, especially as dictionary keys or when iteration/loap speed is crucial."
   ]
  },
  {
   "cell_type": "code",
   "execution_count": 85,
   "id": "f17ec0bd-e105-4410-b8c1-7bbfcfa0deb5",
   "metadata": {},
   "outputs": [
    {
     "name": "stdout",
     "output_type": "stream",
     "text": [
      "['apple', 'banana', 'cherry', 'date']\n",
      "<class 'list'>\n",
      "['apple', 'banana', 'cherry', 'date', 'elderberry']\n",
      "['apple', 'cherry', 'date', 'elderberry']\n",
      "['apple', 'cherry', 'elderberry']\n",
      "<class 'list'>\n"
     ]
    }
   ],
   "source": [
    "#Question.no.1\n",
    "#List is created []\n",
    "fruit=[\"apple\", \"banana\", \"cherry\", \"date\" ]\n",
    "print(fruit)\n",
    "#here we have to check data type\n",
    "print(type(fruit))\n",
    "# From append we have to add elderberry in the list\n",
    "fruit.append(\"elderberry\")\n",
    "print(fruit)\n",
    "#From remove we have to extract banana from the list\n",
    "fruit.remove(\"banana\")\n",
    "print(fruit)\n",
    "#From pop (2) we do indexing date has index 2\n",
    "fruit.pop(2)\n",
    "print(fruit)\n",
    "print(type(fruit))"
   ]
  },
  {
   "cell_type": "code",
   "execution_count": null,
   "id": "a90f2ead-dd92-4ec9-9dac-7827e2d7a4b3",
   "metadata": {},
   "outputs": [],
   "source": []
  },
  {
   "cell_type": "code",
   "execution_count": null,
   "id": "1122f3bb-e4fe-4d1c-9ccf-0d1ca14b2e14",
   "metadata": {},
   "outputs": [],
   "source": []
  },
  {
   "cell_type": "code",
   "execution_count": null,
   "id": "80be0385-3bdc-4df8-8858-33cb77108c05",
   "metadata": {},
   "outputs": [],
   "source": []
  }
 ],
 "metadata": {
  "kernelspec": {
   "display_name": "Python 3 (ipykernel)",
   "language": "python",
   "name": "python3"
  },
  "language_info": {
   "codemirror_mode": {
    "name": "ipython",
    "version": 3
   },
   "file_extension": ".py",
   "mimetype": "text/x-python",
   "name": "python",
   "nbconvert_exporter": "python",
   "pygments_lexer": "ipython3",
   "version": "3.12.4"
  }
 },
 "nbformat": 4,
 "nbformat_minor": 5
}
