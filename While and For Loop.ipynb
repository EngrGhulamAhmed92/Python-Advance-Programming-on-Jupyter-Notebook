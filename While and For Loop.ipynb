{
 "cells": [
  {
   "cell_type": "code",
   "execution_count": 1,
   "metadata": {
    "colab": {
     "base_uri": "https://localhost:8080/"
    },
    "id": "aKW4z4bubeW8",
    "outputId": "fac64410-b845-426a-cc40-9a4788638547"
   },
   "outputs": [
    {
     "name": "stdout",
     "output_type": "stream",
     "text": [
      "<class 'list'>\n",
      "Apple\n",
      "Cat\n",
      "['Banana', 'Caterpillar']\n"
     ]
    }
   ],
   "source": [
    "init_temp = [\"Apple\",\"Cat\",[\"Banana\",\"Caterpillar\"]]\n",
    "print(type(init_temp))\n",
    "for item in init_temp:\n",
    "  print(item)\n",
    "  i=0\n",
    "  while type(item) == 'list':\n",
    "    print(item[i])\n",
    "    i +=1"
   ]
  },
  {
   "cell_type": "code",
   "execution_count": 3,
   "metadata": {
    "colab": {
     "base_uri": "https://localhost:8080/"
    },
    "id": "fFWspdQig84t",
    "outputId": "a94611fb-07b4-4b56-9814-9e72435906ce"
   },
   "outputs": [
    {
     "name": "stdin",
     "output_type": "stream",
     "text": [
      "Enter Number of Rows : 12\n"
     ]
    },
    {
     "name": "stdout",
     "output_type": "stream",
     "text": [
      "1\n",
      "12\n",
      "123\n",
      "1234\n",
      "12345\n",
      "123456\n",
      "1234567\n",
      "12345678\n",
      "123456789\n",
      "12345678910\n",
      "1234567891011\n",
      "123456789101112\n"
     ]
    }
   ],
   "source": [
    "# pattern 2\n",
    "rows = int(input(\"Enter Number of Rows :\"))\n",
    "for i in range(1,rows+1):\n",
    "  for j in range(1,i+1):\n",
    "    print(j,end='')\n",
    "\n",
    "  print()\n"
   ]
  },
  {
   "cell_type": "code",
   "execution_count": 5,
   "metadata": {
    "colab": {
     "base_uri": "https://localhost:8080/"
    },
    "id": "aj6787DQi0m-",
    "outputId": "d35d12b3-eb5f-434d-b299-160ca8b1338a"
   },
   "outputs": [
    {
     "name": "stdin",
     "output_type": "stream",
     "text": [
      "Enter Rows of number  12\n"
     ]
    },
    {
     "name": "stdout",
     "output_type": "stream",
     "text": [
      "1\n",
      "1121\n",
      "121221321\n",
      "1321232133214321\n",
      "1432124321343214432154321\n",
      "154321254321354321454321554321654321\n",
      "1654321265432136543214654321565432166543217654321\n",
      "1765432127654321376543214765432157654321676543217765432187654321\n",
      "187654321287654321387654321487654321587654321687654321787654321887654321987654321\n",
      "19876543212987654321398765432149876543215987654321698765432179876543218987654321998765432110987654321\n",
      "11098765432121098765432131098765432141098765432151098765432161098765432171098765432181098765432191098765432110109876543211110987654321\n",
      "111109876543212111098765432131110987654321411109876543215111098765432161110987654321711109876543218111098765432191110987654321101110987654321111110987654321121110987654321\n"
     ]
    }
   ],
   "source": [
    "# pattern 3\n",
    "row_number = int(input(\"Enter Rows of number \"))\n",
    "for i in range(1,row_number+1):\n",
    "  for j in range(1,i+1):\n",
    "    print(j,end='')\n",
    "    for k in range(i-1,0,-1):\n",
    "      print(k,end='')\n",
    "\n",
    "  print()\n"
   ]
  },
  {
   "cell_type": "code",
   "execution_count": 7,
   "metadata": {
    "colab": {
     "base_uri": "https://localhost:8080/"
    },
    "id": "Ffp4EXzNp9AL",
    "outputId": "e7087b16-f848-47b3-fc2c-1d83be551fca"
   },
   "outputs": [
    {
     "name": "stdin",
     "output_type": "stream",
     "text": [
      "Enter radius  12\n"
     ]
    },
    {
     "name": "stdout",
     "output_type": "stream",
     "text": [
      "circumfernece434 of a circle is  81.6\n",
      "area of a circle is  489.59999999999997\n"
     ]
    },
    {
     "name": "stdin",
     "output_type": "stream",
     "text": [
      "Enter Your Name  Ghulam Ahmed\n"
     ]
    },
    {
     "name": "stdout",
     "output_type": "stream",
     "text": [
      "Good Morning  Ghulam Ahmed  Have anice day\n"
     ]
    },
    {
     "name": "stdin",
     "output_type": "stream",
     "text": [
      "Enter Num 1  12\n",
      "Enter Num 2  12\n"
     ]
    },
    {
     "name": "stdout",
     "output_type": "stream",
     "text": [
      "24.0\n"
     ]
    },
    {
     "name": "stdin",
     "output_type": "stream",
     "text": [
      "Enter Any number to check even a or odd ??  23\n"
     ]
    },
    {
     "name": "stdout",
     "output_type": "stream",
     "text": [
      "Number is odd\n"
     ]
    }
   ],
   "source": [
    "# functions in python\n",
    "def welcome(name):\n",
    "  print(\"Good Morning \" ,name,\" Have anice day\")\n",
    "\n",
    "def add(num1,num2):\n",
    "  return num1 + num2;\n",
    "def isEven(num):\n",
    "  if num%2==0:\n",
    "    print(\"Number is even\")\n",
    "  else:\n",
    "    print(\"Number is odd\")\n",
    "def calculateAreaAndCircumFerence(radius):\n",
    "  pi = 3.4\n",
    "  print(\"circumfernece434 of a circle is \",2 *(pi)* radius)\n",
    "  print(\"area of a circle is \",pi* (radius ** 2))\n",
    "\n",
    "radius = float(input(\"Enter radius \"))\n",
    "calculateAreaAndCircumFerence(radius)\n",
    "name = input(\"Enter Your Name \")\n",
    "welcome(name)\n",
    "\n",
    "\n",
    "\n",
    "num1 = float(input(\"Enter Num 1 \"))\n",
    "num2 = float(input(\"Enter Num 2 \"))\n",
    "\n",
    "result = add(num1,num2)\n",
    "print(result)\n",
    "\n",
    "\n",
    "\n",
    "\n",
    "num = int(input(\"Enter Any number to check even a or odd ?? \"))\n",
    "\n",
    "isEven(num)\n",
    "\n"
   ]
  },
  {
   "cell_type": "code",
   "execution_count": null,
   "metadata": {},
   "outputs": [],
   "source": []
  }
 ],
 "metadata": {
  "colab": {
   "provenance": []
  },
  "kernelspec": {
   "display_name": "Python 3 (ipykernel)",
   "language": "python",
   "name": "python3"
  },
  "language_info": {
   "codemirror_mode": {
    "name": "ipython",
    "version": 3
   },
   "file_extension": ".py",
   "mimetype": "text/x-python",
   "name": "python",
   "nbconvert_exporter": "python",
   "pygments_lexer": "ipython3",
   "version": "3.12.4"
  }
 },
 "nbformat": 4,
 "nbformat_minor": 4
}
