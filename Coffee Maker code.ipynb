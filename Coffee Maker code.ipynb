{
 "cells": [
  {
   "cell_type": "markdown",
   "id": "5a319757-26c4-4aa0-8de5-8da2aded84b0",
   "metadata": {},
   "source": [
    "Coffee Maker Code"
   ]
  },
  {
   "cell_type": "code",
   "execution_count": 1,
   "id": "2de552e5-a7ac-4316-890a-94833f7b2dbf",
   "metadata": {},
   "outputs": [
    {
     "name": "stdout",
     "output_type": "stream",
     "text": [
      "Welcome to the Coffee Maker!\n",
      "1. Espresso\n",
      "2. Latte\n",
      "3. Cappuccino\n"
     ]
    },
    {
     "name": "stdin",
     "output_type": "stream",
     "text": [
      "Enter your choice (1-3):  1\n"
     ]
    },
    {
     "name": "stdout",
     "output_type": "stream",
     "text": [
      "Making Espresso...\n"
     ]
    }
   ],
   "source": [
    "def make_coffee(choice):\n",
    "    if choice == \"1\":\n",
    "        print(\"Making Espresso...\")\n",
    "    elif choice == \"2\":\n",
    "        print(\"Making Latte...\")\n",
    "    elif choice == \"3\":\n",
    "        print(\"Making Cappuccino...\")\n",
    "    else:\n",
    "        print(\"Invalid choice! Please restart the program.\")\n",
    "\n",
    "def main():\n",
    "    print(\"Welcome to the Coffee Maker!\")\n",
    "    print(\"1. Espresso\")\n",
    "    print(\"2. Latte\")\n",
    "    print(\"3. Cappuccino\")\n",
    "    \n",
    "    choice = input(\"Enter your choice (1-3): \")\n",
    "    make_coffee(choice)\n",
    "\n",
    "if __name__ == \"__main__\":\n",
    "    main()"
   ]
  },
  {
   "cell_type": "code",
   "execution_count": null,
   "id": "f395ba50-5c17-4606-ab95-c3474e6df5fc",
   "metadata": {},
   "outputs": [],
   "source": []
  }
 ],
 "metadata": {
  "kernelspec": {
   "display_name": "Python 3 (ipykernel)",
   "language": "python",
   "name": "python3"
  },
  "language_info": {
   "codemirror_mode": {
    "name": "ipython",
    "version": 3
   },
   "file_extension": ".py",
   "mimetype": "text/x-python",
   "name": "python",
   "nbconvert_exporter": "python",
   "pygments_lexer": "ipython3",
   "version": "3.12.4"
  }
 },
 "nbformat": 4,
 "nbformat_minor": 5
}
