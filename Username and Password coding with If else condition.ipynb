{
 "cells": [
  {
   "cell_type": "code",
   "execution_count": 15,
   "id": "589ebe9c-ebd7-41b9-8a02-496d5b53dad5",
   "metadata": {},
   "outputs": [
    {
     "name": "stdin",
     "output_type": "stream",
     "text": [
      "Enter your Email Address:  ghulamahmedned@gmail.com\n",
      "Enter your Password:  12345\n"
     ]
    },
    {
     "name": "stdout",
     "output_type": "stream",
     "text": [
      "welcome to Gmail\n"
     ]
    }
   ],
   "source": [
    "username = input(\"Enter your Email Address: \")\n",
    "password = input(\"Enter your Password: \")\n",
    "\n",
    "if username == 'ghulamahmedned@gmail.com' and password == '12345':\n",
    "    print(\"welcome to Gmail\")\n",
    "else:\n",
    "    print(\"Incorrect Password and your account is blocked\")"
   ]
  },
  {
   "cell_type": "code",
   "execution_count": 9,
   "id": "9f64980e-4a9f-4202-a8ec-f73074d18716",
   "metadata": {},
   "outputs": [
    {
     "name": "stdin",
     "output_type": "stream",
     "text": [
      "Enter your Email Address:  sajid@gmail.com\n",
      "Enter your Password:  12345\n"
     ]
    },
    {
     "name": "stdout",
     "output_type": "stream",
     "text": [
      "welcome to Gmail\n"
     ]
    }
   ],
   "source": [
    "username = input(\"Enter your Email Address: \")\n",
    "password = input(\"Enter your Password: \")\n",
    "\n",
    "if username == 'sajid@gmail.com' and password == '12345':\n",
    "    print(\"welcome to Gmail\")\n",
    "else:\n",
    "    print(\"Incorrect Password and your account is blocked\")"
   ]
  },
  {
   "cell_type": "code",
   "execution_count": 17,
   "id": "18b243ca-fd89-4456-af75-d6f33b4ab370",
   "metadata": {},
   "outputs": [
    {
     "name": "stdin",
     "output_type": "stream",
     "text": [
      "Enter your Email Address:  ghulamahmedned@gmail.com\n",
      "Enter your Password:  12345\n"
     ]
    },
    {
     "name": "stdout",
     "output_type": "stream",
     "text": [
      "Incorrect Password and your account is blocked\n"
     ]
    }
   ],
   "source": [
    "username = input(\"Enter your Email Address: \")\n",
    "password = input(\"Enter your Password: \")\n",
    "\n",
    "if username == 'ghulamahmedned@gmail.com' and password == '12345':\n",
    "    print(\"welcome to Gmail\")\n",
    "else:\n",
    "    print(\"Incorrect Password and your account is blocked\")\n",
    "\n",
    "\n"
   ]
  },
  {
   "cell_type": "code",
   "execution_count": 3,
   "id": "28ab07a7-dd83-4858-a1ad-23c9c062fa9b",
   "metadata": {},
   "outputs": [
    {
     "name": "stdin",
     "output_type": "stream",
     "text": [
      "Enter username: ghulamahmedned@gmail.com\n",
      "Enter password 123\n"
     ]
    },
    {
     "name": "stdout",
     "output_type": "stream",
     "text": [
      "you have entered wrong password\n"
     ]
    }
   ],
   "source": [
    "username=input(\"Enter username:\")\n",
    "password=input(\"Enter password\")\n",
    "if username== \"ghulamahmedned@gmail.com\" and password==\"12345\":\n",
    "    print(\"Wellcome Ghulam Ahmed\")\n",
    "else:\n",
    "    print (\"you have entered wrong password\")\n",
    "    \n"
   ]
  },
  {
   "cell_type": "code",
   "execution_count": 3,
   "id": "44c3af21-4cca-4dba-be89-6edfaf7ae486",
   "metadata": {},
   "outputs": [
    {
     "name": "stdin",
     "output_type": "stream",
     "text": [
      "Enter your username:  ghulamahmedned@gmail.com\n",
      "Enter your password:  1234\n"
     ]
    },
    {
     "name": "stdout",
     "output_type": "stream",
     "text": [
      "Access denied! Incorrect username or password.\n"
     ]
    }
   ],
   "source": [
    "# Predefined username and password\n",
    "correct_username = \"ghulamahmedned@gmail.com\"\n",
    "correct_password = \"123\"\n",
    "\n",
    "# Get input from the user\n",
    "username = input(\"Enter your username: \")\n",
    "password = input(\"Enter your password: \")\n",
    "\n",
    "# Check if the username and password match\n",
    "if username == correct_username and password == correct_password:\n",
    "    print(\"Access granted!\")\n",
    "else:\n",
    "    print(\"Access denied! Incorrect username or password.\")"
   ]
  },
  {
   "cell_type": "code",
   "execution_count": 13,
   "id": "99c1125d-2306-46d1-a077-0c89b7eb87a8",
   "metadata": {},
   "outputs": [
    {
     "name": "stdin",
     "output_type": "stream",
     "text": [
      "Enter username: ghulamahmedned@gmail.com\n",
      "Enter your password 12345\n"
     ]
    },
    {
     "name": "stdout",
     "output_type": "stream",
     "text": [
      "denied access you have entered wrong password\n"
     ]
    }
   ],
   "source": [
    "user_name=input(\"Enter username:\")\n",
    "Password=input(\"Enter your password\")\n",
    "if user_name==\"ghulamahmedned@gmail.com\" and password==\"12345\":\n",
    "    print(\"Wellcome ghulam Ahmed\")\n",
    "else:\n",
    "    print (\"denied access you have entered wrong password\")"
   ]
  },
  {
   "cell_type": "code",
   "execution_count": 1,
   "id": "c006c0b0-c016-4aa6-a263-d1fe97fccec2",
   "metadata": {},
   "outputs": [
    {
     "name": "stdin",
     "output_type": "stream",
     "text": [
      "Enter the number of units consumed:  244\n"
     ]
    },
    {
     "name": "stdout",
     "output_type": "stream",
     "text": [
      "The total electricity bill is: $244.00\n"
     ]
    }
   ],
   "source": [
    "def calculate_bill(units):\n",
    "    if units <= 100:\n",
    "        rate = 0.50\n",
    "    elif units <= 200:\n",
    "        rate = 0.75\n",
    "    elif units <= 500:\n",
    "        rate = 1.00\n",
    "    else:\n",
    "        rate = 1.50\n",
    "    \n",
    "    bill = units * rate\n",
    "    return bill\n",
    "\n",
    "# Get input from the user\n",
    "try:\n",
    "    units = float(input(\"Enter the number of units consumed: \"))\n",
    "    \n",
    "    # Check if the number of units is negative\n",
    "    if units < 0:\n",
    "        print(\"Invalid input! Number of units cannot be negative.\")\n",
    "    else:\n",
    "        # Calculate the bill\n",
    "        bill = calculate_bill(units)\n",
    "        print(f\"The total electricity bill is: ${bill:.2f}\")\n",
    "except ValueError:\n",
    "    print(\"Invalid input! Please enter a valid number for units.\")"
   ]
  },
  {
   "cell_type": "code",
   "execution_count": null,
   "id": "24c20766-9eac-4cef-a72a-559bb43ec2ff",
   "metadata": {},
   "outputs": [],
   "source": []
  }
 ],
 "metadata": {
  "kernelspec": {
   "display_name": "Python 3 (ipykernel)",
   "language": "python",
   "name": "python3"
  },
  "language_info": {
   "codemirror_mode": {
    "name": "ipython",
    "version": 3
   },
   "file_extension": ".py",
   "mimetype": "text/x-python",
   "name": "python",
   "nbconvert_exporter": "python",
   "pygments_lexer": "ipython3",
   "version": "3.12.4"
  }
 },
 "nbformat": 4,
 "nbformat_minor": 5
}
