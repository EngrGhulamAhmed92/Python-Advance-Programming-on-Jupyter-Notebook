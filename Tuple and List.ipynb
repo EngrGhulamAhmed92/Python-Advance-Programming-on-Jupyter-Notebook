{
 "cells": [
  {
   "cell_type": "markdown",
   "metadata": {
    "id": "Jt2KKep5cEDB"
   },
   "source": [
    "**LIST Questions**"
   ]
  },
  {
   "cell_type": "markdown",
   "metadata": {
    "id": "dv7NPVZ8B_72"
   },
   "source": [
    "1. Declare an empty list"
   ]
  },
  {
   "cell_type": "code",
   "execution_count": 75,
   "metadata": {
    "id": "8ffZmzZQCFcd"
   },
   "outputs": [],
   "source": [
    "list_of_fruit = []"
   ]
  },
  {
   "cell_type": "markdown",
   "metadata": {
    "id": "YR69rcD5CKvU"
   },
   "source": [
    "2. Declare a list with more than 5 items"
   ]
  },
  {
   "cell_type": "code",
   "execution_count": 77,
   "metadata": {
    "id": "hEP3jjj8COwb"
   },
   "outputs": [],
   "source": [
    "list_of_fruit = [\"apple\",\"banana\",\"Dryfruit\",\"Grapes\",\"Orange\",\"Pineapple\"]"
   ]
  },
  {
   "cell_type": "markdown",
   "metadata": {
    "id": "UDno3H5JCn7P"
   },
   "source": [
    "3. Find the length of your list"
   ]
  },
  {
   "cell_type": "code",
   "execution_count": 79,
   "metadata": {
    "colab": {
     "base_uri": "https://localhost:8080/"
    },
    "id": "Yh5oUVLcCq5F",
    "outputId": "b5c381c2-0b34-4439-8417-649ff7663a4f"
   },
   "outputs": [
    {
     "name": "stdout",
     "output_type": "stream",
     "text": [
      "Lenght of Fruit List is: 6\n"
     ]
    }
   ],
   "source": [
    "print(\"Lenght of Fruit List is:\",len(list_of_fruit))"
   ]
  },
  {
   "cell_type": "markdown",
   "metadata": {
    "id": "MLjP_Kz2C_2o"
   },
   "source": [
    "4. Get the first item, the middle item and the last item of the list"
   ]
  },
  {
   "cell_type": "code",
   "execution_count": 81,
   "metadata": {
    "colab": {
     "base_uri": "https://localhost:8080/"
    },
    "id": "lUmm_zA2DEzb",
    "outputId": "18b535ae-7722-4877-a926-0e03a17a8d81"
   },
   "outputs": [
    {
     "name": "stdout",
     "output_type": "stream",
     "text": [
      "First Item Fruit List is : apple\n",
      "Middle Item Fruit List is : Grapes\n",
      "Last Item Fruit List is : Pineapple\n"
     ]
    }
   ],
   "source": [
    "print(\"First Item Fruit List is :\",list_of_fruit[0])\n",
    "print(\"Middle Item Fruit List is :\",list_of_fruit[3])\n",
    "print(\"Last Item Fruit List is :\",list_of_fruit[5])"
   ]
  },
  {
   "cell_type": "markdown",
   "metadata": {
    "id": "7vRrN0ZGDeZV"
   },
   "source": [
    "5. Declare a list called mixed_data_types, put your (name, age, height, marital status, address)"
   ]
  },
  {
   "cell_type": "code",
   "execution_count": 83,
   "metadata": {
    "id": "50K9rGaEDfcc"
   },
   "outputs": [],
   "source": [
    "mixed_data_types = ['Ahmed',29,5.2,'Single','A-405 Street 10']"
   ]
  },
  {
   "cell_type": "markdown",
   "metadata": {
    "id": "rrcn4o-MD3LB"
   },
   "source": [
    "6. Declare a list variable named IT_companies and assign initial values Facebook, Google,\n",
    "Microsoft, Apple, IBM, Oracle and Amazon, Print the list using print() and Print the\n",
    "number of companies in the list"
   ]
  },
  {
   "cell_type": "code",
   "execution_count": 182,
   "metadata": {
    "colab": {
     "base_uri": "https://localhost:8080/"
    },
    "id": "hvmQSF9LD7re",
    "outputId": "db4bbe3d-52cb-4853-85ac-9f57edea5c0a"
   },
   "outputs": [
    {
     "name": "stdout",
     "output_type": "stream",
     "text": [
      "['Facebook', 'Google', 'Microsoft', 'Apple', 'IBM', 'Oracle', 'Amazon']\n",
      "Numberr of Companies in the List is : 7\n"
     ]
    }
   ],
   "source": [
    "IT_companies = ['Facebook','Google','Microsoft','Apple','IBM','Oracle','Amazon']\n",
    "print(IT_companies)\n",
    "print(\"Numberr of Companies in the List is :\",len(IT_companies))"
   ]
  },
  {
   "cell_type": "markdown",
   "metadata": {
    "id": "lTHX7H9VEdaq"
   },
   "source": [
    "7. Print the first, middle and last company"
   ]
  },
  {
   "cell_type": "code",
   "execution_count": 184,
   "metadata": {
    "colab": {
     "base_uri": "https://localhost:8080/"
    },
    "id": "ykVWrFd4EekW",
    "outputId": "ac2f6d9f-e00d-4884-99e0-575701af9fb3"
   },
   "outputs": [
    {
     "name": "stdout",
     "output_type": "stream",
     "text": [
      "First Item company List is : Facebook\n",
      "Middle Item company List is : Apple\n",
      "Last Item company List is : Oracle\n"
     ]
    }
   ],
   "source": [
    "print(\"First Item company List is :\",IT_companies[0])\n",
    "print(\"Middle Item company List is :\",IT_companies[3])\n",
    "print(\"Last Item company List is :\",IT_companies[5])"
   ]
  },
  {
   "cell_type": "markdown",
   "metadata": {
    "id": "cvCN--ovEw8p"
   },
   "source": [
    "8. Print the list after modifying one of the companies"
   ]
  },
  {
   "cell_type": "code",
   "execution_count": 186,
   "metadata": {
    "colab": {
     "base_uri": "https://localhost:8080/"
    },
    "id": "A1fV_PdAEzHN",
    "outputId": "6f349cf6-4ce5-43b7-eb0d-f73da0b80deb"
   },
   "outputs": [
    {
     "name": "stdout",
     "output_type": "stream",
     "text": [
      "Modified Google to corvit ['Facebook', 'corvit', 'Microsoft', 'Apple', 'IBM', 'Oracle', 'Amazon']\n"
     ]
    }
   ],
   "source": [
    "IT_companies[1] = 'corvit'\n",
    "print(\"Modified Google to corvit\",IT_companies)"
   ]
  },
  {
   "cell_type": "markdown",
   "metadata": {
    "id": "dm2UyTKrFGSz"
   },
   "source": [
    "9. Add an IT company to IT_companies"
   ]
  },
  {
   "cell_type": "code",
   "execution_count": 188,
   "metadata": {
    "colab": {
     "base_uri": "https://localhost:8080/"
    },
    "id": "cF-JEKupFIRy",
    "outputId": "5a7af2b1-8029-486b-9caa-95b0744b7dd1"
   },
   "outputs": [
    {
     "name": "stdout",
     "output_type": "stream",
     "text": [
      "Added Dell in the company list  ['Facebook', 'corvit', 'Microsoft', 'Apple', 'IBM', 'Oracle', 'Amazon', 'Dell']\n"
     ]
    }
   ],
   "source": [
    "IT_companies.append('Dell')\n",
    "print(\"Added Dell in the company list \",IT_companies)"
   ]
  },
  {
   "cell_type": "markdown",
   "metadata": {
    "id": "lxWEV1zPFZXp"
   },
   "source": [
    "10. Insert an IT company in the middle of the companies list"
   ]
  },
  {
   "cell_type": "code",
   "execution_count": 190,
   "metadata": {
    "colab": {
     "base_uri": "https://localhost:8080/"
    },
    "id": "muUU5tCgFdt3",
    "outputId": "4f2c827f-61a1-4f72-966f-be2d08a0458f"
   },
   "outputs": [
    {
     "name": "stdout",
     "output_type": "stream",
     "text": [
      "Added Mercedis in the middle of company list  ['Facebook', 'corvit', 'Microsoft', 'Mercedis', 'Apple', 'IBM', 'Oracle', 'Amazon', 'Dell']\n"
     ]
    }
   ],
   "source": [
    "IT_companies.insert(3,'Mercedis')\n",
    "print(\"Added Mercedis in the middle of company list \",IT_companies)"
   ]
  },
  {
   "cell_type": "markdown",
   "metadata": {
    "id": "fF961TpmFy2i"
   },
   "source": [
    "11. Change one of the IT_companies names to uppercase (IBM excluded!)"
   ]
  },
  {
   "cell_type": "code",
   "execution_count": 192,
   "metadata": {
    "colab": {
     "base_uri": "https://localhost:8080/"
    },
    "id": "ja1pfCAhF0tT",
    "outputId": "799caa5d-16ff-4197-a805-67af8bee6241"
   },
   "outputs": [
    {
     "name": "stdout",
     "output_type": "stream",
     "text": [
      "Changed one of the IT companies to uppercase ['Facebook', 'corvit', 'Microsoft', 'Mercedis', 'APPLE', 'IBM', 'Oracle', 'Amazon', 'Dell']\n"
     ]
    }
   ],
   "source": [
    "IT_companies[4] = 'APPLE'\n",
    "print(\"Changed one of the IT companies to uppercase\",IT_companies)"
   ]
  },
  {
   "cell_type": "markdown",
   "metadata": {
    "id": "MzJMNA2BGOLN"
   },
   "source": [
    "12. Sort the list using sort () method"
   ]
  },
  {
   "cell_type": "code",
   "execution_count": 194,
   "metadata": {
    "colab": {
     "base_uri": "https://localhost:8080/"
    },
    "id": "s3y_qckFGPQv",
    "outputId": "4bbfc401-f9ee-4acf-a56c-8037646629fc"
   },
   "outputs": [
    {
     "name": "stdout",
     "output_type": "stream",
     "text": [
      "Sorted Companies list None\n"
     ]
    }
   ],
   "source": [
    "print(\"Sorted Companies list\",IT_companies.sort(reverse=True))"
   ]
  },
  {
   "cell_type": "markdown",
   "metadata": {
    "id": "KUy2iAFCGcpO"
   },
   "source": [
    "13. Reverse the list in descending order using reverse() method"
   ]
  },
  {
   "cell_type": "code",
   "execution_count": 196,
   "metadata": {
    "colab": {
     "base_uri": "https://localhost:8080/"
    },
    "id": "nuo643VuGeHz",
    "outputId": "26beb8ca-c5a0-4b27-b4ec-5b6dc95c7f17"
   },
   "outputs": [
    {
     "name": "stdout",
     "output_type": "stream",
     "text": [
      "Reverse list None\n"
     ]
    }
   ],
   "source": [
    "temp_list = [['melon', 'mango', 'kiwi'], 'Apple', 'Berry', 'water melon', 'Avacado', 'grapes', 'Apricot']\n",
    "print(\"Reverse list\",temp_list.reverse())"
   ]
  },
  {
   "cell_type": "markdown",
   "metadata": {
    "id": "mJOlESxzIsGL"
   },
   "source": [
    "14. Slice out the first 3 companies from the list"
   ]
  },
  {
   "cell_type": "code",
   "execution_count": 198,
   "metadata": {
    "colab": {
     "base_uri": "https://localhost:8080/"
    },
    "id": "0mrETrD0Iuu2",
    "outputId": "7d5dc50d-6fcd-4a15-abbc-12fa9ec3d16d"
   },
   "outputs": [
    {
     "name": "stdout",
     "output_type": "stream",
     "text": [
      "Reprint Comapnies ['corvit', 'Oracle', 'Microsoft', 'Mercedis', 'IBM', 'Facebook', 'Dell', 'Amazon', 'APPLE']\n",
      "First Three Comapnies from the List ['corvit', 'Oracle', 'Microsoft']\n"
     ]
    }
   ],
   "source": [
    "print(\"Reprint Comapnies\",IT_companies)\n",
    "print(\"First Three Comapnies from the List\",IT_companies[0:3])"
   ]
  },
  {
   "cell_type": "markdown",
   "metadata": {
    "id": "QpOi0cjcI_br"
   },
   "source": [
    "15. Slice out the last 3 companies from the list"
   ]
  },
  {
   "cell_type": "code",
   "execution_count": 200,
   "metadata": {
    "colab": {
     "base_uri": "https://localhost:8080/"
    },
    "id": "mBLrqBRhJCui",
    "outputId": "f2cb4dbe-dc39-4e9c-8bbd-a95ad8f7c8c1"
   },
   "outputs": [
    {
     "name": "stdout",
     "output_type": "stream",
     "text": [
      "Reprint Comapnies ['corvit', 'Oracle', 'Microsoft', 'Mercedis', 'IBM', 'Facebook', 'Dell', 'Amazon', 'APPLE']\n",
      "Last Three Comapnies from the List ['Dell', 'Amazon', 'APPLE']\n"
     ]
    }
   ],
   "source": [
    "print(\"Reprint Comapnies\",IT_companies)\n",
    "print(\"Last Three Comapnies from the List\",IT_companies[6:9])"
   ]
  },
  {
   "cell_type": "markdown",
   "metadata": {
    "id": "E06OiuS5JTVg"
   },
   "source": [
    "16. Slice out the middle IT company or companies from the list"
   ]
  },
  {
   "cell_type": "code",
   "execution_count": 202,
   "metadata": {
    "colab": {
     "base_uri": "https://localhost:8080/"
    },
    "id": "4euM0VlwJUXt",
    "outputId": "a65cbb47-ff49-4867-b0f1-cb70b533cf53"
   },
   "outputs": [
    {
     "name": "stdout",
     "output_type": "stream",
     "text": [
      "Reprint Comapnies ['corvit', 'Oracle', 'Microsoft', 'Mercedis', 'IBM', 'Facebook', 'Dell', 'Amazon', 'APPLE']\n",
      "Middle comapnies  from the List ['Mercedis', 'IBM', 'Facebook']\n"
     ]
    }
   ],
   "source": [
    "print(\"Reprint Comapnies\",IT_companies)\n",
    "print(\"Middle comapnies  from the List\",IT_companies[3:6:1])"
   ]
  },
  {
   "cell_type": "markdown",
   "metadata": {
    "id": "jsDcpP0uKTev"
   },
   "source": [
    "17. Remove the first IT company from the list"
   ]
  },
  {
   "cell_type": "code",
   "execution_count": 204,
   "metadata": {
    "colab": {
     "base_uri": "https://localhost:8080/"
    },
    "id": "368z53e7KXYp",
    "outputId": "86d4ea20-0439-4dab-f0fe-44870f435698"
   },
   "outputs": [
    {
     "name": "stdout",
     "output_type": "stream",
     "text": [
      "Reprint Comapnies ['corvit', 'Oracle', 'Microsoft', 'Mercedis', 'IBM', 'Facebook', 'Dell', 'Amazon', 'APPLE']\n",
      "remove First company  from the List None\n",
      "Reprint Comapnies ['Oracle', 'Microsoft', 'Mercedis', 'IBM', 'Facebook', 'Dell', 'Amazon', 'APPLE']\n"
     ]
    }
   ],
   "source": [
    "print(\"Reprint Comapnies\",IT_companies)\n",
    "print(\"remove First company  from the List\",IT_companies.remove('corvit'))\n",
    "print(\"Reprint Comapnies\",IT_companies)"
   ]
  },
  {
   "cell_type": "markdown",
   "metadata": {
    "id": "uvRFtUc-KuL5"
   },
   "source": [
    "18. Remove the middle IT company or companies from the list"
   ]
  },
  {
   "cell_type": "code",
   "execution_count": 206,
   "metadata": {
    "colab": {
     "base_uri": "https://localhost:8080/"
    },
    "id": "UVQ2mWbtKzUP",
    "outputId": "0065f968-03ff-4517-b1ce-f8b2a5e5b93b"
   },
   "outputs": [
    {
     "name": "stdout",
     "output_type": "stream",
     "text": [
      "Reprint Comapnies ['Oracle', 'Microsoft', 'Mercedis', 'IBM', 'Facebook', 'Dell', 'Amazon', 'APPLE']\n",
      "remove middle company  from the List None\n",
      "Reprint Comapnies ['Oracle', 'Microsoft', 'Mercedis', 'Facebook', 'Dell', 'Amazon', 'APPLE']\n"
     ]
    }
   ],
   "source": [
    "print(\"Reprint Comapnies\",IT_companies)\n",
    "print(\"remove middle company  from the List\",IT_companies.remove('IBM'))\n",
    "print(\"Reprint Comapnies\",IT_companies)"
   ]
  },
  {
   "cell_type": "markdown",
   "metadata": {
    "id": "aqvjAAa7LAmR"
   },
   "source": [
    "19. Remove the last IT company from the list"
   ]
  },
  {
   "cell_type": "code",
   "execution_count": 208,
   "metadata": {
    "colab": {
     "base_uri": "https://localhost:8080/"
    },
    "id": "KtyyBGgtLDhr",
    "outputId": "e5bafdfb-c998-438f-83e4-247732a84298"
   },
   "outputs": [
    {
     "name": "stdout",
     "output_type": "stream",
     "text": [
      "Reprint Comapnies ['Oracle', 'Microsoft', 'Mercedis', 'Facebook', 'Dell', 'Amazon', 'APPLE']\n",
      "remove middle company  from the List APPLE\n",
      "Reprint Comapnies ['Oracle', 'Microsoft', 'Mercedis', 'Facebook', 'Dell', 'Amazon']\n"
     ]
    }
   ],
   "source": [
    "print(\"Reprint Comapnies\",IT_companies)\n",
    "print(\"remove middle company  from the List\",IT_companies.pop())\n",
    "print(\"Reprint Comapnies\",IT_companies)"
   ]
  },
  {
   "cell_type": "markdown",
   "metadata": {
    "id": "huhbTPWNLSYU"
   },
   "source": [
    "20. Remove all IT companies from the list"
   ]
  },
  {
   "cell_type": "code",
   "execution_count": 210,
   "metadata": {
    "colab": {
     "base_uri": "https://localhost:8080/"
    },
    "id": "BKfngPYiLU-z",
    "outputId": "d4d4b986-5fca-40ae-f0fe-1f61e9ea7fb9"
   },
   "outputs": [
    {
     "name": "stdout",
     "output_type": "stream",
     "text": [
      "Reprint Comapnies ['Oracle', 'Microsoft', 'Mercedis', 'Facebook', 'Dell', 'Amazon']\n",
      "Reprint Comapnies []\n"
     ]
    }
   ],
   "source": [
    "print(\"Reprint Comapnies\",IT_companies)\n",
    "IT_companies.clear()\n",
    "print(\"Reprint Comapnies\",IT_companies)"
   ]
  },
  {
   "cell_type": "markdown",
   "metadata": {
    "id": "U2KuxxSlLfRw"
   },
   "source": [
    "21. Destroy the IT companies list"
   ]
  },
  {
   "cell_type": "code",
   "execution_count": 212,
   "metadata": {},
   "outputs": [
    {
     "name": "stdout",
     "output_type": "stream",
     "text": [
      "Reprint Companies: ['Apple', 'Google', 'Microsoft', 'Amazon']\n",
      "IT_companies has been deleted and is no longer available.\n"
     ]
    }
   ],
   "source": [
    "# Create a list of IT companies\n",
    "IT_companies = [\"Apple\", \"Google\", \"Microsoft\", \"Amazon\"]\n",
    "\n",
    "# Printing the list before deletion\n",
    "print(\"Reprint Companies:\", IT_companies)\n",
    "\n",
    "# Deleting the list\n",
    "del IT_companies\n",
    "\n",
    "# Attempting to print the list after deletion (safe way)\n",
    "try:\n",
    "    print(\"Reprint Companies:\", IT_companies)\n",
    "except NameError:\n",
    "    print(\"IT_companies has been deleted and is no longer available.\")"
   ]
  },
  {
   "cell_type": "markdown",
   "metadata": {
    "id": "6d6pKth0Lpci"
   },
   "source": [
    "22. Join the following lists:\n",
    "23. front_end = ['HTML', 'CSS', 'JS', 'React', 'Redux']\n",
    "back_end = ['Node','Express', 'MongoDB']"
   ]
  },
  {
   "cell_type": "code",
   "execution_count": 118,
   "metadata": {
    "id": "oF3jntwpLtpQ"
   },
   "outputs": [],
   "source": [
    "front_end = ['HTML', 'CSS', 'JS', 'React', 'Redux']\n",
    "back_end = ['Node','Express', 'MongoDB']\n",
    "front_end.append(back_end)\n"
   ]
  },
  {
   "cell_type": "markdown",
   "metadata": {
    "id": "as5wl9ITMEyc"
   },
   "source": [
    "24. After joining the lists in question 26. Copy the joined list and assign it to a variable\n",
    "full_stack. Then insert Python and SQL after Redux."
   ]
  },
  {
   "cell_type": "code",
   "execution_count": 120,
   "metadata": {
    "colab": {
     "base_uri": "https://localhost:8080/"
    },
    "id": "_wEwSmkoMG0B",
    "outputId": "b7d69153-8a98-4653-e34b-3a663e8ad212"
   },
   "outputs": [
    {
     "name": "stdout",
     "output_type": "stream",
     "text": [
      "['HTML', 'CSS', 'JS', 'React', 'Redux', ['Node', 'Express', 'MongoDB', 'SQL'], 'Python']\n"
     ]
    }
   ],
   "source": [
    "front_end = ['HTML', 'CSS', 'JS', 'React', 'Redux']\n",
    "back_end = ['Node','Express', 'MongoDB']\n",
    "front_end.append(back_end)\n",
    "full_stack = front_end\n",
    "full_stack.append('Python')\n",
    "full_stack[5].append('SQL')\n",
    "print(full_stack)"
   ]
  },
  {
   "cell_type": "markdown",
   "metadata": {
    "id": "irtHGrt_NvxT"
   },
   "source": [
    "25. The following is a list of 10 students ages:\n",
    "26. ages = [19, 22, 19, 24, 20, 25, 26, 24, 25, 24]\n",
    "27. Sort the list and find the min and max age\n",
    "28. Add the min age and the max age again to the list\n",
    "29. Find the median age (one middle item or two middle items divided by two)\n",
    "30. Find the average age (sum of all items divided by their number)\n",
    "31. Find the range of the ages (max minus min)\n",
    "32. Compare the value of (min - average) and (max - average), use abs () method"
   ]
  },
  {
   "cell_type": "code",
   "execution_count": 122,
   "metadata": {
    "colab": {
     "base_uri": "https://localhost:8080/"
    },
    "id": "vHJ2SX98NxaD",
    "outputId": "55c3d2d4-6028-4eeb-abd0-ab71579c6789"
   },
   "outputs": [
    {
     "name": "stdout",
     "output_type": "stream",
     "text": [
      "27.Min in the list 19\n",
      "27.Min in the list 26\n",
      "28.After again added min and max [19, 19, 20, 22, 24, 24, 24, 25, 25, 26, 19, 26]\n",
      "29.median of ages is 12.0\n",
      "30.Average age is  22.75\n",
      "31.Range of ages  7\n",
      "32. min Average is  3.75\n",
      "32. max Average is  3.25\n"
     ]
    }
   ],
   "source": [
    "ages = [19, 22, 19, 24, 20, 25, 26, 24, 25, 24]\n",
    "# sorting age list\n",
    "ages.sort()\n",
    "print(\"27.Min in the list\",min(ages))\n",
    "print(\"27.Min in the list\",max(ages))\n",
    "# Adding min and max again to the list\n",
    "ages.append(min(ages))\n",
    "ages.append(max(ages))\n",
    "print(\"28.After again added min and max\",ages)\n",
    "length_of_list = len(ages)\n",
    "middle_index = int(length_of_list/2)\n",
    "print(\"29.median of ages is\",ages[middle_index]/2)\n",
    "sum_of_all_items=sum(ages)\n",
    "number_of_item_in_the_age_list = len(ages)\n",
    "average_age =float(sum_of_all_items/number_of_item_in_the_age_list)\n",
    "print(\"30.Average age is \",average_age)\n",
    "print(\"31.Range of ages \",max(ages) - min(ages))\n",
    "min_average = abs(min(ages) - average_age)\n",
    "max_average = abs(max(ages) - average_age)\n",
    "print(\"32. min Average is \",min_average)\n",
    "print(\"32. max Average is \",max_average)\n",
    "\n"
   ]
  },
  {
   "cell_type": "markdown",
   "metadata": {
    "id": "unx1wx9YZR7-"
   },
   "source": [
    "33. Find the middle country(ies) in the countries list\n",
    "34. Divide the countries list into two equal lists if it is even if not one more country for the first\n",
    "half.\n",
    "35. ['China', 'Russia', 'USA', 'Finland', 'Sweden', 'Norway', 'Denmark']. Unpack the first three\n",
    "countries and the rest as scandic countries."
   ]
  },
  {
   "cell_type": "code",
   "execution_count": 124,
   "metadata": {
    "colab": {
     "base_uri": "https://localhost:8080/"
    },
    "id": "NjfigiK1ZfAN",
    "outputId": "a56b7604-7e1c-4c84-8f1b-6628334fc8d0"
   },
   "outputs": [
    {
     "name": "stdout",
     "output_type": "stream",
     "text": [
      "33. Middle counrtries in the list are ['USA', 'Finland']\n",
      "34. first half ['China', 'Russia', 'USA', 'Finland']\n",
      "34. second half ['Sweden', 'Norway', 'Denmark']\n",
      "35. Unpacked First China\n",
      "35. Unpacked Second Russia\n",
      "35. Unpacked Third USA\n",
      "35. Unpacked rest are scandic countries ['Finland', 'Sweden', 'Norway', 'Denmark']\n"
     ]
    }
   ],
   "source": [
    "country = ['China', 'Russia', 'USA', 'Finland', 'Sweden', 'Norway', 'Denmark']\n",
    "print(\"33. Middle counrtries in the list are\", country[2:4])\n",
    "first_half = country[0:4]\n",
    "second_half = country[4:8]\n",
    "print(\"34. first half\",first_half)\n",
    "print(\"34. second half\",second_half)\n",
    "china,russia,usa,*scandic_countries =['China', 'Russia', 'USA', 'Finland', 'Sweden', 'Norway', 'Denmark']\n",
    "print(\"35. Unpacked First\",china)\n",
    "print(\"35. Unpacked Second\",russia)\n",
    "print(\"35. Unpacked Third\",usa)\n",
    "print(\"35. Unpacked rest are scandic countries\",scandic_countries)\n"
   ]
  },
  {
   "cell_type": "markdown",
   "metadata": {
    "id": "KHn1OVDPcMHO"
   },
   "source": [
    "##TUPLES QUESTIONS##"
   ]
  },
  {
   "cell_type": "markdown",
   "metadata": {
    "id": "35wfaocWcVdG"
   },
   "source": [
    "1. Create an empty tuple"
   ]
  },
  {
   "cell_type": "code",
   "execution_count": 126,
   "metadata": {
    "colab": {
     "base_uri": "https://localhost:8080/"
    },
    "id": "hvl-Ozc1cYTs",
    "outputId": "755dd7aa-911d-4a09-f790-318d13911f45"
   },
   "outputs": [
    {
     "name": "stdout",
     "output_type": "stream",
     "text": [
      "<class 'tuple'>\n"
     ]
    }
   ],
   "source": [
    "tup = ()\n",
    "print(type(tup))"
   ]
  },
  {
   "cell_type": "markdown",
   "metadata": {
    "id": "AnWBNSyCcgAv"
   },
   "source": [
    "2. Create a tuple containing names of your sisters and your brothers (imaginary siblings are fine)"
   ]
  },
  {
   "cell_type": "code",
   "execution_count": 128,
   "metadata": {
    "colab": {
     "base_uri": "https://localhost:8080/"
    },
    "id": "c3m-1J-SciiR",
    "outputId": "9e9b257a-5982-4a26-b218-ca56f66d68d4"
   },
   "outputs": [
    {
     "name": "stdout",
     "output_type": "stream",
     "text": [
      "brother ('Ali', 'Khan')\n",
      "sister ('Shabana', 'Shazia', 'Seema')\n"
     ]
    }
   ],
   "source": [
    "brother = ('Ali','Khan')\n",
    "sister = ('Shabana','Shazia','Seema')\n",
    "print(\"brother\",brother)\n",
    "print(\"sister\",sister)"
   ]
  },
  {
   "cell_type": "markdown",
   "metadata": {
    "id": "xhkRI9IUcwqd"
   },
   "source": [
    "3. Join brothers and sisters tuples and assign it to siblings"
   ]
  },
  {
   "cell_type": "code",
   "execution_count": 130,
   "metadata": {
    "colab": {
     "base_uri": "https://localhost:8080/"
    },
    "id": "LzkcR2oMc1X3",
    "outputId": "66cd8897-5d02-4b06-f1e5-e76e47401d0d"
   },
   "outputs": [
    {
     "name": "stdout",
     "output_type": "stream",
     "text": [
      "('Ali', 'Khan', 'Shabana', 'Shazia', 'Seema')\n"
     ]
    }
   ],
   "source": [
    "siblings = brother + sister\n",
    "print(siblings)"
   ]
  },
  {
   "cell_type": "markdown",
   "metadata": {
    "id": "8NC3w2TndVfM"
   },
   "source": [
    "4. How many siblings do you have?"
   ]
  },
  {
   "cell_type": "code",
   "execution_count": 132,
   "metadata": {
    "colab": {
     "base_uri": "https://localhost:8080/"
    },
    "id": "D_FiHzljdXcj",
    "outputId": "7a7d49eb-27e1-40cb-e206-4697a8380775"
   },
   "outputs": [
    {
     "name": "stdout",
     "output_type": "stream",
     "text": [
      "4. How many siblings do you have? 5\n"
     ]
    }
   ],
   "source": [
    "print(\"4. How many siblings do you have?\",len(siblings))"
   ]
  },
  {
   "cell_type": "markdown",
   "metadata": {
    "id": "YUspDCxBddlk"
   },
   "source": [
    "5. Modify the siblings tuple and add the name of your father and mother and assign it to\n",
    "family_members."
   ]
  },
  {
   "cell_type": "code",
   "execution_count": 134,
   "metadata": {
    "colab": {
     "base_uri": "https://localhost:8080/"
    },
    "id": "feQvjED1djbL",
    "outputId": "6e1e4d05-dbb3-493d-9eff-79794093ba71"
   },
   "outputs": [
    {
     "name": "stdout",
     "output_type": "stream",
     "text": [
      "Family memeber are ('Abdul', 'Sakina', 'Ali', 'Khan', 'Shabana', 'Shazia', 'Seema')\n"
     ]
    }
   ],
   "source": [
    "\n",
    "family_members = ('Abdul','Sakina','Ali', 'Khan', 'Shabana', 'Shazia', 'Seema')\n",
    "print(\"Family memeber are\",family_members)\n"
   ]
  },
  {
   "cell_type": "markdown",
   "metadata": {
    "id": "tltLyQCfeUfq"
   },
   "source": [
    "6. Unpack siblings and parents from family_members\n"
   ]
  },
  {
   "cell_type": "code",
   "execution_count": 136,
   "metadata": {
    "colab": {
     "base_uri": "https://localhost:8080/"
    },
    "id": "SxaGoNe9eXqi",
    "outputId": "833776be-f8a4-4399-f834-b110f11fc155"
   },
   "outputs": [
    {
     "name": "stdout",
     "output_type": "stream",
     "text": [
      "PARENT 1  Abdul\n",
      "PARENT 2  Sakina\n",
      "PARENTt 3  ['Ali', 'Khan', 'Shabana', 'Shazia', 'Seema']\n"
     ]
    }
   ],
   "source": [
    "parent1,parent2,*siblings1 = ('Abdul','Sakina','Ali', 'Khan', 'Shabana', 'Shazia', 'Seema')\n",
    "print(\"PARENT 1 \", parent1)\n",
    "print(\"PARENT 2 \", parent2)\n",
    "print(\"PARENTt 3 \", siblings1)"
   ]
  },
  {
   "cell_type": "markdown",
   "metadata": {
    "id": "IX55krDCexb6"
   },
   "source": [
    "7. Create fruits, vegetables and animal products tuples. Join the three tuples and assign it to a\n",
    "variable called food_stuff_tp."
   ]
  },
  {
   "cell_type": "code",
   "execution_count": 168,
   "metadata": {},
   "outputs": [
    {
     "name": "stdout",
     "output_type": "stream",
     "text": [
      "('apple', 'banana', 'cherry', 'carrot', 'broccoli', 'spinach', 'milk', 'cheese', 'eggs')\n"
     ]
    }
   ],
   "source": [
    "# Creating tuples for fruits, vegetables, and animal products\n",
    "fruits = (\"apple\", \"banana\", \"cherry\")\n",
    "vegetables = (\"carrot\", \"broccoli\", \"spinach\")\n",
    "animal_products = (\"milk\", \"cheese\", \"eggs\")\n",
    "\n",
    "# Joining the three tuples into one tuple\n",
    "food_stuff_tp = fruits + vegetables + animal_products\n",
    "\n",
    "# Printing the result\n",
    "print(food_stuff_tp)\n"
   ]
  },
  {
   "cell_type": "markdown",
   "metadata": {
    "id": "rtXdTTv-fkEC"
   },
   "source": [
    "8. Change the about food_stuff_tp tuple to a food_stuff_lt list"
   ]
  },
  {
   "cell_type": "code",
   "execution_count": 170,
   "metadata": {
    "colab": {
     "base_uri": "https://localhost:8080/"
    },
    "id": "JSgXhcb8fk9H",
    "outputId": "c888ccb8-b268-4549-f15f-468921ecb815"
   },
   "outputs": [
    {
     "name": "stdout",
     "output_type": "stream",
     "text": [
      "Changed Tuple name ('apple', 'banana', 'cherry', 'carrot', 'broccoli', 'spinach', 'milk', 'cheese', 'eggs')\n"
     ]
    }
   ],
   "source": [
    "food_stuff_It = food_stuff_tp\n",
    "print(\"Changed Tuple name\",food_stuff_It)"
   ]
  },
  {
   "cell_type": "markdown",
   "metadata": {
    "id": "yl1KDOUSf4fw"
   },
   "source": [
    "9. Slice out the middle item or items from the food_stuff_tp tuple or food_stuff_lt list."
   ]
  },
  {
   "cell_type": "code",
   "execution_count": 172,
   "metadata": {
    "colab": {
     "base_uri": "https://localhost:8080/"
    },
    "id": "oh4SZ42gf7Ad",
    "outputId": "2f56d66b-bdf2-4e67-b477-ae8a1949574d"
   },
   "outputs": [
    {
     "name": "stdout",
     "output_type": "stream",
     "text": [
      "Middle Item slicing ('cherry', 'carrot')\n"
     ]
    }
   ],
   "source": [
    "print(\"Middle Item slicing\",food_stuff_It[2:4])"
   ]
  },
  {
   "cell_type": "markdown",
   "metadata": {
    "id": "xz3ylCiegOrq"
   },
   "source": [
    "10. Slice out the first three items and the last three items from food_staff_lt list"
   ]
  },
  {
   "cell_type": "code",
   "execution_count": 174,
   "metadata": {
    "colab": {
     "base_uri": "https://localhost:8080/"
    },
    "id": "LLzqphgNgRlA",
    "outputId": "5eaf0fe9-b821-46fe-9235-cf112cf46395"
   },
   "outputs": [
    {
     "name": "stdout",
     "output_type": "stream",
     "text": [
      "First Three Item ('apple', 'banana', 'cherry')\n",
      "Last Three Item ('carrot', 'broccoli', 'spinach', 'milk', 'cheese', 'eggs')\n"
     ]
    }
   ],
   "source": [
    "print(\"First Three Item\",food_stuff_It[0:3])\n",
    "print(\"Last Three Item\",food_stuff_It[3:])"
   ]
  },
  {
   "cell_type": "markdown",
   "metadata": {
    "id": "aoYKi1WLg3Uo"
   },
   "source": [
    "11. Delete the food_staff_tp tuple completely."
   ]
  },
  {
   "cell_type": "code",
   "execution_count": 178,
   "metadata": {
    "colab": {
     "base_uri": "https://localhost:8080/",
     "height": 158
    },
    "id": "i3zML2Dig6PV",
    "outputId": "c3b2e15e-5bee-4f6a-b0d6-f169cb52c27b"
   },
   "outputs": [
    {
     "name": "stdout",
     "output_type": "stream",
     "text": [
      "['apple', 'banana', 'cherry', 'carrot', 'broccoli', 'spinach', 'milk', 'cheese', 'eggs']\n"
     ]
    }
   ],
   "source": [
    "# Creating tuples for fruits, vegetables, and animal products\n",
    "fruits = (\"apple\", \"banana\", \"cherry\")\n",
    "vegetables = (\"carrot\", \"broccoli\", \"spinach\")\n",
    "animal_products = (\"milk\", \"cheese\", \"eggs\")\n",
    "\n",
    "# Joining the three tuples into one tuple\n",
    "food_stuff_tp = fruits + vegetables + animal_products\n",
    "\n",
    "# Converting the tuple to a list\n",
    "food_stuff_lt = list(food_stuff_tp)\n",
    "\n",
    "# Deleting the tuple\n",
    "del food_stuff_tp\n",
    "\n",
    "# Attempting to print the deleted tuple (this will cause an error)\n",
    "# print(food_stuff_tp)  # Uncommenting this will result in a NameError because the tuple is deleted\n",
    "\n",
    "# Instead, print the list\n",
    "print(food_stuff_lt)  # This works fine, as the list still exists\n"
   ]
  },
  {
   "cell_type": "markdown",
   "metadata": {
    "id": "3VT8UAOxhDWM"
   },
   "source": [
    "**SETS Questions**"
   ]
  },
  {
   "cell_type": "markdown",
   "metadata": {
    "id": "xIfUxGbvhJJa"
   },
   "source": [
    "it_companies = {'Facebook', 'Google', 'Microsoft', 'Apple', 'IBM', 'Oracle',\n",
    "'Amazon'}\n",
    "A = {19, 22, 24, 20, 25, 26}\n",
    "B = {19, 22, 20, 25, 26, 24, 28, 27}\n",
    "age = [22, 19, 24, 25, 26, 24, 25, 24]\n",
    "\n",
    "1. Find the length of the set it_companies\n",
    "2. Add 'Twitter' to it_companies\n",
    "3. Insert multiple IT companies at once to the set it_companies\n",
    "4. Remove one of the companies from the set it_companies"
   ]
  },
  {
   "cell_type": "code",
   "execution_count": 166,
   "metadata": {
    "colab": {
     "base_uri": "https://localhost:8080/"
    },
    "id": "A_s3K_uhhf6T",
    "outputId": "55feaedd-0f40-4b3c-813e-4f24ae6d1fcb"
   },
   "outputs": [
    {
     "name": "stdout",
     "output_type": "stream",
     "text": [
      "1. length of it_companies 7\n",
      "2.  Add twitter {'IBM', 'Oracle', 'Amazon', 'Twitter', 'Apple', 'Microsoft', 'Google', 'Facebook'}\n",
      "3.  Multiple at once {'Oracle', 'Apple', 'Facebook', 'IBM', 'Twitter', 'Google', 'Systems Limited', 'Microsoft', 'Simplilearn', 'Amazon', 'BlackStone'}\n",
      "4. Remove one of the companies {'Oracle', 'Apple', 'Facebook', 'IBM', 'Twitter', 'Google', 'Systems Limited', 'Microsoft', 'Simplilearn', 'Amazon'}\n"
     ]
    }
   ],
   "source": [
    "it_companies = {'Facebook', 'Google', 'Microsoft', 'Apple', 'IBM', 'Oracle',\n",
    "'Amazon'}\n",
    "A = {19, 22, 24, 20, 25, 26}\n",
    "B = {19, 22, 20, 25, 26, 24, 28, 27}\n",
    "age = [22, 19, 24, 25, 26, 24, 25, 24]\n",
    "\n",
    "print(\"1. length of it_companies\",len(it_companies))\n",
    "it_companies.add('Twitter')\n",
    "print(\"2.  Add twitter\",it_companies)\n",
    "it_companies.update(['BlackStone','Simplilearn','Systems Limited'])\n",
    "print(\"3.  Multiple at once\",it_companies)\n",
    "it_companies.remove('BlackStone')\n",
    "print(\"4. Remove one of the companies\",it_companies)"
   ]
  },
  {
   "cell_type": "markdown",
   "metadata": {
    "id": "YMU9uOBVjBcg"
   },
   "source": [
    "5. What is the difference between remove and discard?\n",
    "Answer: remove gives error when we pass unknown item from list.Whereas, discard doesn't through error."
   ]
  },
  {
   "cell_type": "markdown",
   "metadata": {
    "id": "IdWbFpIUjf7b"
   },
   "source": [
    "6. Join A and B"
   ]
  },
  {
   "cell_type": "code",
   "execution_count": 92,
   "metadata": {
    "colab": {
     "base_uri": "https://localhost:8080/"
    },
    "id": "2pXDgMERji97",
    "outputId": "861a7172-ff6f-4868-aa23-63a456c74109"
   },
   "outputs": [
    {
     "name": "stdout",
     "output_type": "stream",
     "text": [
      "join A and B is {19, 20, 22, 24, 25, 26, 27, 28}\n"
     ]
    }
   ],
   "source": [
    "print(\"join A and B is\", A | B)"
   ]
  },
  {
   "cell_type": "markdown",
   "metadata": {
    "id": "Fx0jA2_jjDDn"
   },
   "source": [
    "7. Find A intersection B"
   ]
  },
  {
   "cell_type": "code",
   "execution_count": null,
   "metadata": {
    "colab": {
     "base_uri": "https://localhost:8080/"
    },
    "id": "ltyAWoSlju9c",
    "outputId": "d04c7a3c-119d-4349-a190-92fea3d91429"
   },
   "outputs": [],
   "source": [
    "print(\"intersection A and B is\", A & B)"
   ]
  },
  {
   "cell_type": "markdown",
   "metadata": {
    "id": "hg72yVsNj4_q"
   },
   "source": [
    "8. Is A subset of B"
   ]
  },
  {
   "cell_type": "code",
   "execution_count": null,
   "metadata": {
    "colab": {
     "base_uri": "https://localhost:8080/"
    },
    "id": "TIzV6ZaZj6eM",
    "outputId": "67b42844-555d-4dc5-a80f-ccbe3b7e6e16"
   },
   "outputs": [],
   "source": [
    "print(\"A is a subset of B\", A.issubset(B))"
   ]
  },
  {
   "cell_type": "markdown",
   "metadata": {
    "id": "lOhEA1dfkEIt"
   },
   "source": [
    "9. Are A and B disjoint sets"
   ]
  },
  {
   "cell_type": "code",
   "execution_count": 94,
   "metadata": {
    "colab": {
     "base_uri": "https://localhost:8080/"
    },
    "id": "Wjpce7kxkHTm",
    "outputId": "40fa212d-099c-46ee-8752-f8def2c3f063"
   },
   "outputs": [
    {
     "name": "stdout",
     "output_type": "stream",
     "text": [
      "A and B Disjoint False\n"
     ]
    }
   ],
   "source": [
    "print(\"A and B Disjoint\", A.isdisjoint(B))"
   ]
  },
  {
   "cell_type": "markdown",
   "metadata": {
    "id": "YmIgjDWDkQTm"
   },
   "source": [
    "10. Join A with B and B with A"
   ]
  },
  {
   "cell_type": "code",
   "execution_count": null,
   "metadata": {
    "colab": {
     "base_uri": "https://localhost:8080/"
    },
    "id": "BaLVwIzMkUu8",
    "outputId": "b3a6df20-470e-430d-85ec-e466ee59e716"
   },
   "outputs": [],
   "source": [
    "print(\"join A and B is\", A | B)\n",
    "print(\"join B and A is\", B | A)"
   ]
  },
  {
   "cell_type": "markdown",
   "metadata": {
    "id": "rDAwjot3k3fV"
   },
   "source": [
    "11. What is the symmetric difference between A and B?\n"
   ]
  },
  {
   "cell_type": "code",
   "execution_count": null,
   "metadata": {
    "colab": {
     "base_uri": "https://localhost:8080/"
    },
    "id": "WeZMWuTUk74X",
    "outputId": "5076774f-b60c-4b17-d3e4-b865cf742c8d"
   },
   "outputs": [],
   "source": [
    "print(\"symmetric difference between A and B\" , A ^ B)"
   ]
  },
  {
   "cell_type": "markdown",
   "metadata": {
    "id": "9wJ39YVElFgr"
   },
   "source": [
    "12. Delete the sets completely"
   ]
  },
  {
   "cell_type": "code",
   "execution_count": null,
   "metadata": {
    "colab": {
     "base_uri": "https://localhost:8080/",
     "height": 193
    },
    "id": "_4VD_F45lH7T",
    "outputId": "ce1d5a21-f786-4af6-84d7-30234f8ee174"
   },
   "outputs": [],
   "source": [
    "del A\n",
    "del B\n",
    "print(A)\n",
    "print(B)"
   ]
  },
  {
   "cell_type": "markdown",
   "metadata": {
    "id": "U0pKVu7ElN9T"
   },
   "source": [
    "13. Convert the ages to a set and compare the length of the list and the set, which one is\n",
    "bigger?"
   ]
  },
  {
   "cell_type": "code",
   "execution_count": 98,
   "metadata": {
    "colab": {
     "base_uri": "https://localhost:8080/"
    },
    "id": "TdQTAS4KlTrt",
    "outputId": "94ddaea7-d07e-43f6-fc3f-1f8620848c86"
   },
   "outputs": [
    {
     "name": "stdout",
     "output_type": "stream",
     "text": [
      "{19, 20, 22, 24, 25, 26}\n",
      "lenght of list of ages 12\n",
      "lenght of set of ages 6\n",
      "Compare length List is greater True\n"
     ]
    }
   ],
   "source": [
    "ages_set = set(ages)\n",
    "print(ages_set)\n",
    "len_of_list_ages = len(ages)\n",
    "print(\"lenght of list of ages\",len_of_list_ages)\n",
    "len_of_set_ages = len(ages_set)##comparison\n",
    "print(\"lenght of set of ages\",len_of_set_ages)\n",
    "print(\"Compare length List is greater\",len_of_list_ages > len_of_set_ages)"
   ]
  },
  {
   "cell_type": "markdown",
   "metadata": {
    "id": "_ADq-nqCmh9e"
   },
   "source": [
    "14. Explain the difference between the following data types: string, list, tuple and set??\n",
    "Answer:\n",
    "\n",
    " ##String: Python data type which is declared by single or double coats. they are mutable(changable)\n",
    "##List##:  Python data type which is declared by []. Can contain both heterogeneous and homogeneous data it is mutable\n",
    "\n",
    "##Tuple##: Python data type which is declared by ().It is immutable (do not change)\n",
    "\n",
    "##Set##: Python data type which is declared by {}.It is mutable data type but it cannot table any mutable datatype in it.it is unordered in nature.\n"
   ]
  }
 ],
 "metadata": {
  "colab": {
   "provenance": []
  },
  "kernelspec": {
   "display_name": "Python 3 (ipykernel)",
   "language": "python",
   "name": "python3"
  },
  "language_info": {
   "codemirror_mode": {
    "name": "ipython",
    "version": 3
   },
   "file_extension": ".py",
   "mimetype": "text/x-python",
   "name": "python",
   "nbconvert_exporter": "python",
   "pygments_lexer": "ipython3",
   "version": "3.12.4"
  }
 },
 "nbformat": 4,
 "nbformat_minor": 4
}
