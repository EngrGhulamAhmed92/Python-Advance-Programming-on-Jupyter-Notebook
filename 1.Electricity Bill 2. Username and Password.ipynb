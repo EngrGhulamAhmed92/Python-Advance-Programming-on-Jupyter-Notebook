{
 "cells": [
  {
   "cell_type": "code",
   "execution_count": null,
   "id": "5a56b776-831a-459e-925d-7c17dc003d4e",
   "metadata": {},
   "outputs": [],
   "source": [
    "result = 2 / 5 * 17 / 3 * 4 / 3\n",
    "print(result)  # Output: 1.53125"
   ]
  },
  {
   "cell_type": "code",
   "execution_count": 5,
   "id": "a9923e23-d49e-404b-85ca-9166ec57b793",
   "metadata": {},
   "outputs": [
    {
     "name": "stdout",
     "output_type": "stream",
     "text": [
      "Area of the circle with diameter 15 meters: 176.71 square meters\n",
      "Circumference of the circle with diameter 15 meters: 47.12 meters\n"
     ]
    },
    {
     "name": "stdin",
     "output_type": "stream",
     "text": [
      "Enter the diameter of the circle (in meters):  12\n"
     ]
    },
    {
     "name": "stdout",
     "output_type": "stream",
     "text": [
      "Area of the circle with diameter 12.0 meters: 113.10 square meters\n"
     ]
    }
   ],
   "source": [
    "import math\n",
    "\n",
    "# i) Calculate the area of the circle\n",
    "diameter = 15  # given diameter\n",
    "radius = diameter / 2  # calculate the radius from the diameter\n",
    "area_of_circle = math.pi * radius ** 2  # Area = π * r²\n",
    "print(f\"Area of the circle with diameter {diameter} meters: {area_of_circle:.2f} square meters\")\n",
    "\n",
    "# ii) Calculate the circumference of the circle\n",
    "circumference_of_circle = 2 * math.pi * radius  # Circumference = 2 * π * r\n",
    "print(f\"Circumference of the circle with diameter {diameter} meters: {circumference_of_circle:.2f} meters\")\n",
    "\n",
    "# iii) Take diameter as user input and calculate the area\n",
    "user_diameter = float(input(\"Enter the diameter of the circle (in meters): \"))\n",
    "user_radius = user_diameter / 2  # calculate radius from the user input\n",
    "user_area_of_circle = math.pi * user_radius ** 2  # calculate area using Area = π * r²\n",
    "print(f\"Area of the circle with diameter {user_diameter} meters: {user_area_of_circle:.2f} square meters\")"
   ]
  },
  {
   "cell_type": "code",
   "execution_count": 1,
   "id": "feaa9592-718a-4f39-bf58-4e7f99875f91",
   "metadata": {},
   "outputs": [
    {
     "name": "stdin",
     "output_type": "stream",
     "text": [
      "Input a number:  12\n"
     ]
    },
    {
     "name": "stdout",
     "output_type": "stream",
     "text": [
      "It is a positive number\n"
     ]
    }
   ],
   "source": [
    "num = float(input(\"Input a number: \"))\n",
    "\n",
    "# Check if the number is greater than zero.\n",
    "if num > 0:\n",
    "   # If true, print that it is a positive number.\n",
    "   print(\"It is a positive number\")\n",
    "# Check if the number is equal to zero.\n",
    "elif num == 0:\n",
    "   # If true, print that it is zero.\n",
    "   print(\"It is zero\")\n",
    "else:\n",
    "   # If the above conditions are not met, print that it is a negative number.\n",
    "   print(\"It is a negative number\")"
   ]
  },
  {
   "cell_type": "code",
   "execution_count": 13,
   "id": "64c6744f-02ee-45b2-8226-6a209f87c0dc",
   "metadata": {},
   "outputs": [
    {
     "name": "stdin",
     "output_type": "stream",
     "text": [
      "What is your name?  Ghulam Ahmed\n",
      "How old are you?  30\n"
     ]
    },
    {
     "name": "stdout",
     "output_type": "stream",
     "text": [
      "Hello Ghulam Ahmed, you are 30 years old.\n"
     ]
    }
   ],
   "source": [
    "# Ask the user for their name\n",
    "name = input(\"What is your name? \")\n",
    "\n",
    "# Ask the user for their age\n",
    "age = input(\"How old are you? \")\n",
    "\n",
    "# Convert age to an integer (since input() returns a string)\n",
    "age = int(age)\n",
    "\n",
    "# Print the greeting message\n",
    "print(f\"Hello {name}, you are {age} years old.\")"
   ]
  },
  {
   "cell_type": "code",
   "execution_count": 9,
   "id": "fc62cb2b-1a28-4f32-8069-5f5818f5495d",
   "metadata": {},
   "outputs": [
    {
     "name": "stdin",
     "output_type": "stream",
     "text": [
      "Enter a string:  aba\n"
     ]
    },
    {
     "name": "stdout",
     "output_type": "stream",
     "text": [
      "'aba' is a palindrome.\n"
     ]
    }
   ],
   "source": [
    "# Function to check if the string is a palindrome\n",
    "def is_palindrome(s):\n",
    "    # Remove spaces and convert to lowercase for case-insensitive comparison\n",
    "    s = s.replace(\" \", \"\").lower()\n",
    "    \n",
    "    # Check if the string is equal to its reverse\n",
    "    return s == s[::-1]\n",
    "\n",
    "# Take input from the user\n",
    "user_input = input(\"Enter a string: \")\n",
    "\n",
    "# Check if the input string is a palindrome\n",
    "if is_palindrome(user_input):\n",
    "    print(f\"'{user_input}' is a palindrome.\")\n",
    "else:\n",
    "    print(f\"'{user_input}' is not a palindrome.\")"
   ]
  },
  {
   "cell_type": "code",
   "execution_count": 11,
   "id": "5c5023a6-e69b-4e45-8b75-5a06517a5a25",
   "metadata": {},
   "outputs": [],
   "source": [
    "#  In Python, data types are categorized into mutable and immutable based on whether their values can be changed after they are created. Let's define both:\n",
    "\n",
    "# 1. Mutable Data Types:\n",
    "#  A mutable data type is one where the value or content of the object can be modified or changed after it is created.\n",
    "\n",
    "#Examples of mutable data types: list, dict, set"
   ]
  },
  {
   "cell_type": "code",
   "execution_count": 13,
   "id": "1d124123-4964-41f7-9f04-8ec7656944d3",
   "metadata": {},
   "outputs": [
    {
     "name": "stdout",
     "output_type": "stream",
     "text": [
      "Original List: [1, 2, 3]\n",
      "Modified List: [10, 2, 3]\n"
     ]
    }
   ],
   "source": [
    "# Mutable Example - List\n",
    "my_list = [1, 2, 3]\n",
    "print(\"Original List:\", my_list)\n",
    "\n",
    "# Modify the list (this is allowed because lists are mutable)\n",
    "my_list[0] = 10\n",
    "print(\"Modified List:\", my_list)"
   ]
  },
  {
   "cell_type": "code",
   "execution_count": 15,
   "id": "78e338ae-6525-4d57-abb7-9e4646b0d47b",
   "metadata": {},
   "outputs": [],
   "source": [
    "#Immutable Data Types:\n",
    "#An immutable data type is one where the value or content of the object cannot be changed after it is created.\n",
    "\n",
    "#Examples of immutable data types: int, float, str, tuple"
   ]
  },
  {
   "cell_type": "code",
   "execution_count": 17,
   "id": "f99722ff-e1ac-4771-b9bb-ffd898fdf36e",
   "metadata": {},
   "outputs": [
    {
     "name": "stdout",
     "output_type": "stream",
     "text": [
      "Original String: Hello\n",
      "Modified String: World\n"
     ]
    }
   ],
   "source": [
    "# Immutable Example - String\n",
    "my_string = \"Hello\"\n",
    "print(\"Original String:\", my_string)\n",
    "\n",
    "# Attempt to modify the string (this will not change the original string)\n",
    "# Strings are immutable, so we cannot modify the string directly.\n",
    "my_string = \"World\"  # Reassigning a new string to the variable\n",
    "print(\"Modified String:\", my_string)"
   ]
  },
  {
   "cell_type": "code",
   "execution_count": 5,
   "id": "36465e20-3d64-44b5-b7c7-5fe3f56b09e0",
   "metadata": {},
   "outputs": [
    {
     "name": "stdin",
     "output_type": "stream",
     "text": [
      "\n",
      "1-Addition\n",
      "2-Subtraction\n",
      "3-Multiplication\n",
      "4-Factorial\n",
      "5-Divison\n",
      "6-Power\n",
      "7-Squareroot\n",
      " 1\n",
      "Enter your desired number: 12\n",
      "Enter your desired number: 12\n"
     ]
    },
    {
     "name": "stdout",
     "output_type": "stream",
     "text": [
      "Addition of 12.0 and 12.0 is: 24.0\n"
     ]
    }
   ],
   "source": [
    "#menu driven program\n",
    "import math\n",
    "option=input('''\n",
    "1-Addition\n",
    "2-Subtraction\n",
    "3-Multiplication\n",
    "4-Factorial\n",
    "5-Divison\n",
    "6-Power\n",
    "7-Squareroot\n",
    "''')\n",
    "number1=float(input(\"Enter your desired number:\"))\n",
    "number2=float(input(\"Enter your desired number:\"))\n",
    "if option=='1':\n",
    "    print(\"Addition of\",number1,\"and\",number2,\"is:\",number1+number2)\n",
    "elif option=='2':\n",
    "    print(\"Subtraction of\",number1,\"and\",number2,\"is:\",number1-number2)\n",
    "elif option=='3':\n",
    "    print(\"Multiplication of\",number1,\"and\",number2,\"is:\",number1*number2)\n",
    "elif option=='4':\n",
    "    print(\"Factorial of\",number1,\"is:\",number1=math.factorial(number1))\n",
    "elif option=='5':\n",
    "    print(\"Division of\",number1,\"and\",number2,\"is:\",number1/number2)\n",
    "elif option=='6':\n",
    "    print(\"Power of\",number1,\"and\",number2,\"is:\",number1**number2)\n",
    "else :\n",
    "    print(\"Squareroot of\",number1,\"and\",number2,\"is:\",number1**0.5)\n",
    "    \n"
   ]
  },
  {
   "cell_type": "code",
   "execution_count": 7,
   "id": "b3b00ba0-c02a-4813-81dc-8b6c97028bde",
   "metadata": {},
   "outputs": [
    {
     "name": "stdout",
     "output_type": "stream",
     "text": [
      "The company makes of a profit of 800 dollars\n",
      "The company receives a total loss of -3400 dollars\n"
     ]
    }
   ],
   "source": [
    "cost_of_flying_plane = 5000\n",
    "number_of_passengers = 29\n",
    "price_of_ticket = 200\n",
    "returning_passengers = 12\n",
    "profit = (number_of_passengers * price_of_ticket) - cost_of_flying_plane\n",
    "print('The company makes of a profit of {} dollars'.format(profit))\n",
    "\n",
    "total_profit_loss = (returning_passengers * price_of_ticket) - cost_of_flying_plane - profit\n",
    "if total_profit_loss > 0:\n",
    "    print('The company makes of a total profit of {} dollars'.format(total_profit_loss))\n",
    "else:\n",
    "    print('The company receives a total loss of {} dollars'.format(total_profit_loss))"
   ]
  },
  {
   "cell_type": "code",
   "execution_count": 10,
   "id": "fb17919a-1323-4ba8-827c-a1f6e06674fe",
   "metadata": {},
   "outputs": [
    {
     "name": "stdout",
     "output_type": "stream",
     "text": [
      "Sum of all the elements in the list: 270\n"
     ]
    }
   ],
   "source": [
    "# Initial list\n",
    "numbers = [10, 20, 30, 40, 50]\n",
    "\n",
    "# i. Append the number 60 to the list\n",
    "numbers.append(60)\n",
    "\n",
    "# ii. Remove the number 20 from the list\n",
    "numbers.remove(20)\n",
    "\n",
    "# iii. Insert 80 at index 2\n",
    "numbers.insert(2, 80)\n",
    "\n",
    "# iv. Print the sum of all the elements in the list\n",
    "sum_of_elements = sum(numbers)\n",
    "print(\"Sum of all the elements in the list:\", sum_of_elements)"
   ]
  },
  {
   "cell_type": "code",
   "execution_count": 12,
   "id": "50b6edc9-f185-46eb-bde2-2e1cf1571b52",
   "metadata": {},
   "outputs": [
    {
     "name": "stdout",
     "output_type": "stream",
     "text": [
      "x = 12.5\n",
      "y = 45.8\n",
      "z = 33.1\n",
      "{'Ali': 85, 'Saima': 90, 'Kabeer': 78, 'Ahmed': 92}\n",
      "{'Ali': 85, 'Saima': 90, 'Kabeer': 82, 'Ahmed': 92}\n"
     ]
    }
   ],
   "source": [
    "# Given tuple\n",
    "coordinates = (12.5, 45.8, 33.1)\n",
    "\n",
    "# Unpacking the tuple into variables\n",
    "x, y, z = coordinates\n",
    "\n",
    "# Print the values of the variables\n",
    "print(\"x =\", x)\n",
    "print(\"y =\", y)\n",
    "print(\"z =\", z)\n",
    "# Given dictionary\n",
    "student_scores = {'Ali': 85, 'Saima': 90, 'Kabeer': 78}\n",
    "\n",
    "# Add a new student Ahmed with a score of 92\n",
    "student_scores['Ahmed'] = 92\n",
    "\n",
    "# Print the updated dictionary\n",
    "print(student_scores)\n",
    "# Update Kabeer's score to 82\n",
    "student_scores['Kabeer'] = 82\n",
    "\n",
    "# Print the updated dictionary\n",
    "print(student_scores)\n"
   ]
  },
  {
   "cell_type": "code",
   "execution_count": null,
   "id": "d1734dea-d9f8-473a-8b88-3af5386cfec0",
   "metadata": {},
   "outputs": [],
   "source": [
    "\n",
    "\n",
    "Immutability: Tuples are immutable, meaning once created, their values cannot be changed. This property ensures that the data is protected from accidental modification.\n",
    "\n",
    "Performance: Because tuples are immutable, they are generally more memory-efficient and faster for iteration compared to lists.\n",
    "\n",
    "Data Integrity: If you want to ensure that the dataremains unchanged throughout the program, tuples provide that guarantee. \n",
    "\n"
   ]
  },
  {
   "cell_type": "code",
   "execution_count": 16,
   "id": "1c76fafc-6fbf-40cb-bd20-201e06a115bb",
   "metadata": {},
   "outputs": [
    {
     "name": "stdin",
     "output_type": "stream",
     "text": [
      "Enter a number:  23\n"
     ]
    },
    {
     "name": "stdout",
     "output_type": "stream",
     "text": [
      "23 is odd.\n"
     ]
    }
   ],
   "source": [
    "# Get input from the user\n",
    "num = int(input(\"Enter a number: \"))\n",
    "\n",
    "# Check if the number is even or odd\n",
    "if num / 2 == 0:\n",
    "    print(f\"{num} is even.\")\n",
    "else:\n",
    "    print(f\"{num} is odd.\")"
   ]
  },
  {
   "cell_type": "code",
   "execution_count": 9,
   "id": "232134c9-2858-43e1-907e-a6637a6572a4",
   "metadata": {},
   "outputs": [
    {
     "name": "stdin",
     "output_type": "stream",
     "text": [
      "Enter your username: ghulamahmed@gmail.com\n",
      "Enter your password 1234\n"
     ]
    },
    {
     "name": "stdout",
     "output_type": "stream",
     "text": [
      "wellcome  Ghulam Ahmed\n"
     ]
    }
   ],
   "source": [
    "username=input(\"Enter your username:\")\n",
    "if \"@\" in username:\n",
    "    password=input(\"Enter your password\")\n",
    "    if username==\"ghulamahmed@gmail.com\" and password==\"1234\":\n",
    "        print(\"wellcome  Ghulam Ahmed\")\n",
    "    elif username==\"ghulamahmed@gmail.com\" and password!=\"1234\":\n",
    "        print(\"Password is incorrect.Re=Enter your password\")\n",
    "        password= input(\"Enter your password Again:\")\n",
    "        if password==\"1234\":\n",
    "            print(\"Now wellcome after one attempt:\")\n",
    "        else:\n",
    "            print(\"Your password is incorrect:\")\n",
    "    else:\n",
    "        print(\"Enter valid credentials:\")\n",
    "else:\n",
    "    print(\"Enter valid email\")\n"
   ]
  },
  {
   "cell_type": "code",
   "execution_count": 11,
   "id": "2026807e-addb-4d92-8aaf-878f30776bfb",
   "metadata": {},
   "outputs": [
    {
     "name": "stdin",
     "output_type": "stream",
     "text": [
      "Enter your username (email):  ghulamahmed@gmail.com\n",
      "Enter your password:  1234\n"
     ]
    },
    {
     "name": "stdout",
     "output_type": "stream",
     "text": [
      "Welcome Ahmed!\n"
     ]
    }
   ],
   "source": [
    "# Ask for the username (email)\n",
    "username = input(\"Enter your username (email): \")\n",
    "\n",
    "# Check if the username contains '@' (simple email check)\n",
    "if \"@\" in username:\n",
    "    # Ask for the password\n",
    "    password = input(\"Enter your password: \")\n",
    "\n",
    "    # Check if the username and password match the correct values\n",
    "    if username == \"ghulamahmed@gmail.com\" and password == \"1234\":\n",
    "        print(\"Welcome Ahmed!\")\n",
    "    elif username == \"ghulamahmed@gmail.com\" and password != \"1234\":\n",
    "        print(\"Password is incorrect. Please re-enter your password.\")\n",
    "        password = input(\"Enter your password again: \")\n",
    "        if password == \"1234\":\n",
    "            print(\"Now, welcome after one attempt!\")\n",
    "        else:\n",
    "            print(\"Your password is incorrect.\")\n",
    "    else:\n",
    "        print(\"Invalid username. Please enter valid credentials.\")\n",
    "else:\n",
    "    print(\"Enter a valid email address.\")"
   ]
  },
  {
   "cell_type": "code",
   "execution_count": 9,
   "id": "3aa0d39b-caf7-4d67-881a-277d50107f51",
   "metadata": {},
   "outputs": [
    {
     "name": "stdin",
     "output_type": "stream",
     "text": [
      "Enter the number of electricity unit consumed: 23\n"
     ]
    },
    {
     "name": "stdout",
     "output_type": "stream",
     "text": [
      "your electricity bill is 595\n"
     ]
    }
   ],
   "source": [
    "unit= int(input(\"Enter the number of electricity unit consumed:\"))\n",
    "if unit <150:\n",
    "    charge_per_unit=15\n",
    "    fixed_charges=250\n",
    "elif 150<= unit <250:\n",
    "    charge_per_unit=25\n",
    "    fixed_charges=350\n",
    "elif 250<= unit <350:\n",
    "    charge_per_unit=35\n",
    "    fixed_charges=450\n",
    "else: \n",
    "    charge_per_unit=45\n",
    "    fixed_charges=1000\n",
    "total_bill=(unit*charge_per_unit)+fixed_charges\n",
    "print(\"your electricity bill is\",total_bill)\n"
   ]
  },
  {
   "cell_type": "code",
   "execution_count": null,
   "id": "8b8d1fc4-df98-4af7-9897-eb32f8ece006",
   "metadata": {},
   "outputs": [],
   "source": []
  }
 ],
 "metadata": {
  "kernelspec": {
   "display_name": "Python 3 (ipykernel)",
   "language": "python",
   "name": "python3"
  },
  "language_info": {
   "codemirror_mode": {
    "name": "ipython",
    "version": 3
   },
   "file_extension": ".py",
   "mimetype": "text/x-python",
   "name": "python",
   "nbconvert_exporter": "python",
   "pygments_lexer": "ipython3",
   "version": "3.12.4"
  }
 },
 "nbformat": 4,
 "nbformat_minor": 5
}
