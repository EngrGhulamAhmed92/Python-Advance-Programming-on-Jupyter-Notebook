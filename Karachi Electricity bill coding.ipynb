{
 "cells": [
  {
   "cell_type": "markdown",
   "id": "3fe0f0ce-b9f2-4485-8ba2-5ec26eb551d4",
   "metadata": {},
   "source": [
    "Bill Generating Coding"
   ]
  },
  {
   "cell_type": "code",
   "execution_count": 1,
   "id": "b4d4a930-6500-4fef-8203-4492349b1682",
   "metadata": {},
   "outputs": [
    {
     "name": "stdin",
     "output_type": "stream",
     "text": [
      "Enter the number of electricity unit consumed: 200\n"
     ]
    },
    {
     "name": "stdout",
     "output_type": "stream",
     "text": [
      "your electricity bill is 5350\n"
     ]
    }
   ],
   "source": [
    "unit= int(input(\"Enter the number of electricity unit consumed:\"))\n",
    "if unit <150:\n",
    "    charge_per_unit=15\n",
    "    fixed_charges=250\n",
    "elif 150<= unit <250:\n",
    "    charge_per_unit=25\n",
    "    fixed_charges=350\n",
    "elif 250<= unit <350:\n",
    "    charge_per_unit=35\n",
    "    fixed_charges=450\n",
    "else: \n",
    "    charge_per_unit=45\n",
    "    fixed_charges=1000\n",
    "total_bill=(unit*charge_per_unit)+fixed_charges\n",
    "print(\"your electricity bill is\",total_bill)"
   ]
  },
  {
   "cell_type": "code",
   "execution_count": null,
   "id": "01bcff3d-0893-4e55-b22c-4f267f8e415a",
   "metadata": {},
   "outputs": [],
   "source": []
  }
 ],
 "metadata": {
  "kernelspec": {
   "display_name": "Python 3 (ipykernel)",
   "language": "python",
   "name": "python3"
  },
  "language_info": {
   "codemirror_mode": {
    "name": "ipython",
    "version": 3
   },
   "file_extension": ".py",
   "mimetype": "text/x-python",
   "name": "python",
   "nbconvert_exporter": "python",
   "pygments_lexer": "ipython3",
   "version": "3.12.4"
  }
 },
 "nbformat": 4,
 "nbformat_minor": 5
}
