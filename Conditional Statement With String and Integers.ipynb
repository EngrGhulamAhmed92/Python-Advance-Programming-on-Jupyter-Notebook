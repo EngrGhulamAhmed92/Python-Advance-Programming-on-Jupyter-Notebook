{
 "cells": [
  {
   "cell_type": "markdown",
   "id": "aeb544aa-4a19-4c19-8bf6-21be2f5219cd",
   "metadata": {},
   "source": [
    "Conditional Statement"
   ]
  },
  {
   "cell_type": "code",
   "execution_count": 1,
   "id": "a66f5e35-410f-483c-bad6-2dcbb1f60bbf",
   "metadata": {},
   "outputs": [
    {
     "name": "stdout",
     "output_type": "stream",
     "text": [
      "you are 18 year old\n",
      "congrations\n"
     ]
    }
   ],
   "source": [
    "#Conditional Statement\n",
    "# if ,else\n",
    "age=18\n",
    "if age>18:\n",
    "    print(\"you can cast a vote and your age is greater than 18\")\n",
    "elif age==18:\n",
    "    print(\"you are 18 year old\")\n",
    "else:\n",
    "    print (\"you are not 18 year old\")\n",
    "print (\"congrations\")"
   ]
  },
  {
   "cell_type": "markdown",
   "id": "41f3962f-cc02-4c49-b26a-1c9ecc9145f7",
   "metadata": {},
   "source": [
    "Enter the Name it will check lenght and also it compare it with 8 "
   ]
  },
  {
   "cell_type": "code",
   "execution_count": 6,
   "id": "72a57adc-a50b-47c9-ab99-484cafe20ce8",
   "metadata": {},
   "outputs": [
    {
     "name": "stdin",
     "output_type": "stream",
     "text": [
      "Enter your name shah\n"
     ]
    },
    {
     "name": "stdout",
     "output_type": "stream",
     "text": [
      "username is too long\n"
     ]
    }
   ],
   "source": [
    "user_name = input(\"Enter your name\")\n",
    "if len(user_name)>10:\n",
    "    print(\"user is too big\")\n",
    "elif len(user_name) ==8:\n",
    "    print(\"username length is good\")\n",
    "else:\n",
    "    print(\"username is too long\")"
   ]
  },
  {
   "cell_type": "code",
   "execution_count": 3,
   "id": "3e5ac81f-0028-41de-a4ec-e5b020983767",
   "metadata": {},
   "outputs": [
    {
     "name": "stdin",
     "output_type": "stream",
     "text": [
      "Enter number 1: 12\n",
      "Enter number 2: 12\n",
      "Enter number 3: 12\n"
     ]
    },
    {
     "name": "stdout",
     "output_type": "stream",
     "text": [
      "Number3 is Largest: 12\n"
     ]
    }
   ],
   "source": [
    "number1 =int(input(\"Enter number 1:\"))\n",
    "number2 =int(input(\"Enter number 2:\"))\n",
    "number3 =int(input(\"Enter number 3:\"))\n",
    "if number1>number2 and number1>number3:\n",
    "    print(\"Number1 is Largest\",number1)\n",
    "elif number2> number3:\n",
    "    print (\"Number2 is Largest\",number2)\n",
    "else: \n",
    "    print(\"Number3 is Largest:\",number3)\n"
   ]
  },
  {
   "cell_type": "code",
   "execution_count": 10,
   "id": "bf0b36da-d7f3-4fe9-85ce-9251a98ea2e5",
   "metadata": {},
   "outputs": [
    {
     "name": "stdin",
     "output_type": "stream",
     "text": [
      "Enter your username:  abc@gmail.com\n",
      "Enter your password:  12345\n"
     ]
    },
    {
     "name": "stdout",
     "output_type": "stream",
     "text": [
      "Login successful!\n"
     ]
    }
   ],
   "source": [
    "# Correct username and password\n",
    "correct_username = \"abc@gmail.com\"\n",
    "correct_password = \"12345\"\n",
    "\n",
    "# Input from user\n",
    "username = input(\"Enter your username: \")\n",
    "password = input(\"Enter your password: \")\n",
    "\n",
    "# Check if the username and password are correct\n",
    "if username == correct_username and password == correct_password:\n",
    "    print(\"Login successful!\")\n",
    "else:\n",
    "    print(\"Invalid username or password.\")\n"
   ]
  },
  {
   "cell_type": "markdown",
   "id": "bb241f65-6ea6-40f1-a966-2a299d0448c9",
   "metadata": {},
   "source": [
    "1.Check the voter age and taking an input of voter age"
   ]
  },
  {
   "cell_type": "code",
   "execution_count": 12,
   "id": "7d6b8b9b-6635-42cf-9748-f9b2913d406d",
   "metadata": {},
   "outputs": [
    {
     "name": "stdin",
     "output_type": "stream",
     "text": [
      "Enter your age:  12\n"
     ]
    },
    {
     "name": "stdout",
     "output_type": "stream",
     "text": [
      "You can not cast a vote\n"
     ]
    }
   ],
   "source": [
    "# Condtional statements\n",
    "# if ,else\n",
    "age=int(input(\"Enter your age: \"))\n",
    "if age>18:\n",
    "    print(\"you can cast a vote and your age is greater then 18\")\n",
    "elif age ==18:\n",
    "    print(\"you are 18 year old\")\n",
    "else:\n",
    "    print(\"You can not cast a vote\")"
   ]
  },
  {
   "cell_type": "markdown",
   "id": "1646ea8a-12d3-4797-8ed3-0322664c613c",
   "metadata": {},
   "source": [
    "2.Checking the lenght of input name and give review"
   ]
  },
  {
   "cell_type": "code",
   "execution_count": 14,
   "id": "4557b9e1-2d33-46b4-8548-dd63afe23709",
   "metadata": {},
   "outputs": [
    {
     "name": "stdin",
     "output_type": "stream",
     "text": [
      "Enter your Name:  ahmed\n"
     ]
    },
    {
     "name": "stdout",
     "output_type": "stream",
     "text": [
      "user name is Good\n"
     ]
    }
   ],
   "source": [
    "user_name = input(\"Enter your Name: \")\n",
    "if len(user_name) >10 :\n",
    "    print(\"username is too Big\")\n",
    "elif len(user_name) ==8:\n",
    "    print(\"username length is Good\")\n",
    "else:\n",
    "    print(\"user name is Good\")"
   ]
  },
  {
   "cell_type": "markdown",
   "id": "b4c17017-59d8-405c-9a61-6125d6bd50b0",
   "metadata": {},
   "source": [
    "3.Compare the Three numbers"
   ]
  },
  {
   "cell_type": "code",
   "execution_count": 16,
   "id": "bbc63627-a08c-46d9-883e-b6668a1bedb1",
   "metadata": {},
   "outputs": [
    {
     "name": "stdin",
     "output_type": "stream",
     "text": [
      "Enter Number1 : 12\n",
      "Enter Number2 : 13\n",
      "Enter Number3 : 14\n"
     ]
    },
    {
     "name": "stdout",
     "output_type": "stream",
     "text": [
      "Number3 is largest 14\n"
     ]
    }
   ],
   "source": [
    "number1 = int(input(\"Enter Number1 :\"))\n",
    "number2 = int(input(\"Enter Number2 :\"))\n",
    "number3 = int(input(\"Enter Number3 :\"))\n",
    "if number1>number2 and number1>number3:\n",
    "    print(\"Number1 is largest \",number1)\n",
    "elif number2> number3:\n",
    "    print(\"Number2 is largest\",number2)\n",
    "else:\n",
    "    print(\"Number3 is largest\",number3)"
   ]
  },
  {
   "cell_type": "markdown",
   "id": "b3ceb38c-ecec-4513-a4b7-24d4d0cb1876",
   "metadata": {},
   "source": [
    "4.take the number as an input and check the Validity,Positive and Negative"
   ]
  },
  {
   "cell_type": "code",
   "execution_count": 18,
   "id": "412164b5-e73d-43ca-a6a7-98e60c6b730f",
   "metadata": {},
   "outputs": [
    {
     "name": "stdin",
     "output_type": "stream",
     "text": [
      "Enter your Number:  .\n"
     ]
    },
    {
     "name": "stdout",
     "output_type": "stream",
     "text": [
      "Enter a valid number.\n"
     ]
    }
   ],
   "source": [
    "user_input = input(\"Enter your Number: \")\n",
    "\n",
    "# Try to convert the input to a float\n",
    "try:\n",
    "    num = float(user_input)\n",
    "    \n",
    "    # Check the sign of the number\n",
    "    if num > 0:\n",
    "        print(\"Number is Positive\")\n",
    "    elif num == 0:\n",
    "        print(\"Number is zero\")\n",
    "    else:\n",
    "        print(\"Number is Negative\")\n",
    "except ValueError:\n",
    "    print(\"Enter a valid number.\")"
   ]
  },
  {
   "cell_type": "code",
   "execution_count": 20,
   "id": "b3b7a52d-169f-4077-85b4-638b68e3ecb0",
   "metadata": {},
   "outputs": [
    {
     "name": "stdin",
     "output_type": "stream",
     "text": [
      "Enter your Number 12\n"
     ]
    },
    {
     "name": "stdout",
     "output_type": "stream",
     "text": [
      "Number is Positive\n"
     ]
    }
   ],
   "source": [
    "user_input = input(\"Enter your Number\")\n",
    "if user_input.replace(\".\",\"\").replace(\"-\",\"\").replace(\"+\",\"\").isdigit():\n",
    "  # Check if input is a digit\n",
    "    num = float(user_input)\n",
    "    if num>0:\n",
    "        print(\"Number is Positive\")\n",
    "    elif num==0:\n",
    "        print(\"Number is zero\")\n",
    "    else:\n",
    "        print(\"Number is Negetive\")\n",
    "else:\n",
    "    print(\"Enter a valid number.\")"
   ]
  },
  {
   "cell_type": "code",
   "execution_count": null,
   "id": "004687cc-a3c4-47f7-8f17-cb867fec716c",
   "metadata": {},
   "outputs": [],
   "source": []
  },
  {
   "cell_type": "code",
   "execution_count": null,
   "id": "65289aa2-0e8c-4173-978c-5e94fbb695b2",
   "metadata": {},
   "outputs": [],
   "source": []
  }
 ],
 "metadata": {
  "kernelspec": {
   "display_name": "Python 3 (ipykernel)",
   "language": "python",
   "name": "python3"
  },
  "language_info": {
   "codemirror_mode": {
    "name": "ipython",
    "version": 3
   },
   "file_extension": ".py",
   "mimetype": "text/x-python",
   "name": "python",
   "nbconvert_exporter": "python",
   "pygments_lexer": "ipython3",
   "version": "3.12.4"
  }
 },
 "nbformat": 4,
 "nbformat_minor": 5
}
