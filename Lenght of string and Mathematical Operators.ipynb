{
 "cells": [
  {
   "cell_type": "code",
   "execution_count": 60,
   "id": "fbe00559-d4ca-47b3-b189-825b66c4a8ec",
   "metadata": {},
   "outputs": [
    {
     "name": "stdout",
     "output_type": "stream",
     "text": [
      "Length of first name: 6\n",
      "Length of last name: 5\n",
      "Comparison result: 1\n"
     ]
    }
   ],
   "source": [
    "# Question.no.1\n",
    "first_name = \"Ghulam\"\n",
    "last_name = \"Ahmed\"\n",
    "\n",
    "# Calculate the lengths of the names\n",
    "first_name_length = len(first_name)\n",
    "last_name_length = len(last_name)\n",
    "\n",
    "# Print the lengths\n",
    "print(f\"Length of first name: {first_name_length}\")\n",
    "print(f\"Length of last name: {last_name_length}\")\n",
    "\n",
    "# Compare the lengths using len() and print the result\n",
    "print(\"Comparison result:\", len(first_name) - len(last_name))"
   ]
  },
  {
   "cell_type": "code",
   "execution_count": 66,
   "id": "78074012-59fb-414d-b7ec-387d69653f5d",
   "metadata": {},
   "outputs": [
    {
     "name": "stdin",
     "output_type": "stream",
     "text": [
      "Enter your first number 5\n",
      "Enter your second number 4\n"
     ]
    },
    {
     "name": "stdout",
     "output_type": "stream",
     "text": [
      "The sum of two number is 9.0\n"
     ]
    }
   ],
   "source": [
    "# The sum of two numbers with dynamic program\n",
    "num1=float(input(\"Enter your first number\"))\n",
    "num2=float(input(\"Enter your second number\"))\n",
    "sum=num1 + num2\n",
    "print (\"The sum of two number is\",sum)"
   ]
  },
  {
   "cell_type": "code",
   "execution_count": 70,
   "id": "9bf9c1f9-fea6-4a4b-a090-8a8c10a0c886",
   "metadata": {},
   "outputs": [
    {
     "name": "stdin",
     "output_type": "stream",
     "text": [
      "Enter your first number 5\n",
      "Enter your second number 4\n"
     ]
    },
    {
     "name": "stdout",
     "output_type": "stream",
     "text": [
      "The sub of two number is 1.0\n"
     ]
    }
   ],
   "source": [
    "# the subtraction of two numbers\n",
    "num1=float(input(\"Enter your first number\"))\n",
    "num2=float(input(\"Enter your second number\"))\n",
    "sub=num1 - num2\n",
    "print (\"The sub of two number is\",sub)"
   ]
  },
  {
   "cell_type": "code",
   "execution_count": 72,
   "id": "79df9179-9b6c-4edf-966a-6aa5a2d01a54",
   "metadata": {},
   "outputs": [
    {
     "name": "stdin",
     "output_type": "stream",
     "text": [
      "Enter your first number 5\n",
      "Enter your second number 4\n"
     ]
    },
    {
     "name": "stdout",
     "output_type": "stream",
     "text": [
      "The mul of two number is 20.0\n"
     ]
    }
   ],
   "source": [
    "# the multiplication of two numbers\n",
    "num1=float(input(\"Enter your first number\"))\n",
    "num2=float(input(\"Enter your second number\"))\n",
    "mul=num1 * num2\n",
    "print (\"The mul of two number is\",mul)"
   ]
  },
  {
   "cell_type": "code",
   "execution_count": 74,
   "id": "985a41a7-0866-419e-b0bc-6aff8c5325fe",
   "metadata": {},
   "outputs": [
    {
     "name": "stdin",
     "output_type": "stream",
     "text": [
      "Enter your first number 5\n",
      "Enter your second number 4\n"
     ]
    },
    {
     "name": "stdout",
     "output_type": "stream",
     "text": [
      "The div of two number is 1.25\n"
     ]
    }
   ],
   "source": [
    "#the division of two numbers\n",
    "num1=float(input(\"Enter your first number\"))\n",
    "num2=float(input(\"Enter your second number\"))\n",
    "div=num1 / num2\n",
    "print (\"The div of two number is\",div)"
   ]
  },
  {
   "cell_type": "code",
   "execution_count": 76,
   "id": "f5988056-ad7b-4a9a-b6c4-4d0ee0e51740",
   "metadata": {},
   "outputs": [
    {
     "name": "stdin",
     "output_type": "stream",
     "text": [
      "Enter your first number 5\n",
      "Enter your second number 4\n"
     ]
    },
    {
     "name": "stdout",
     "output_type": "stream",
     "text": [
      "The power of two number is 625.0\n"
     ]
    }
   ],
   "source": [
    "#the power of two numbers\n",
    "num1=float(input(\"Enter your first number\"))\n",
    "num2=float(input(\"Enter your second number\"))\n",
    "power=num1 ** num2 # for power ** is used\n",
    "print (\"The power of two number is\",power)"
   ]
  },
  {
   "cell_type": "code",
   "execution_count": 78,
   "id": "29ed4705-cdcd-47a1-b3be-df88d637db94",
   "metadata": {},
   "outputs": [
    {
     "name": "stdin",
     "output_type": "stream",
     "text": [
      "Enter your first number 5\n",
      "Enter your second number 4\n"
     ]
    },
    {
     "name": "stdout",
     "output_type": "stream",
     "text": [
      "The power of two number is 625.0\n"
     ]
    }
   ],
   "source": [
    "#the power of two numbers\n",
    "num1=float(input(\"Enter your first number\"))\n",
    "num2=float(input(\"Enter your second number\"))\n",
    "power=num1 ** num2 # for power ** is used\n",
    "print (\"The power of two number is\",power)"
   ]
  },
  {
   "cell_type": "code",
   "execution_count": 80,
   "id": "bc4a7864-90cd-433f-8606-cdb965607ccb",
   "metadata": {},
   "outputs": [
    {
     "name": "stdin",
     "output_type": "stream",
     "text": [
      "Enter your first number 5\n",
      "Enter your second number 4\n"
     ]
    },
    {
     "name": "stdout",
     "output_type": "stream",
     "text": [
      "the floor of number is  1.0\n"
     ]
    }
   ],
   "source": [
    "# floor operator // this operator is used \n",
    "# In celing we consider number less than 2.5 and its answere is 2\n",
    "# In floor we consider number is greater than 2.5 and its answere is 3\n",
    "num1=float(input(\"Enter your first number\"))\n",
    "num2=float(input(\"Enter your second number\"))\n",
    "floor=num1//num2\n",
    "print( \"the floor of number is \",floor)"
   ]
  },
  {
   "cell_type": "code",
   "execution_count": 82,
   "id": "d83ceba7-28d4-420f-8973-eb68c457da36",
   "metadata": {},
   "outputs": [
    {
     "name": "stdin",
     "output_type": "stream",
     "text": [
      "The radius of circle 30\n",
      "the value of constant PI 3.14\n"
     ]
    },
    {
     "name": "stdout",
     "output_type": "stream",
     "text": [
      "The Area of circle is 4.735808803229519e+53\n"
     ]
    }
   ],
   "source": [
    "#Question.no.3 Answere finding Area of circle taking radius as an input\n",
    "#Calculate the area,circumference,\n",
    "num1=float(input(\"The radius of circle\"))\n",
    "num2=float(input(\"the value of constant PI\"))\n",
    "area=num1 ** num2**num2 # for power ** is used\n",
    "print (\"The Area of circle is\",area)"
   ]
  },
  {
   "cell_type": "code",
   "execution_count": 92,
   "id": "7f753061-deab-4606-89eb-4b5d3a32b4c2",
   "metadata": {},
   "outputs": [
    {
     "name": "stdin",
     "output_type": "stream",
     "text": [
      "The radius of circle 30\n",
      "the value of constant PI 3.14\n",
      "how many times multiply 2\n"
     ]
    },
    {
     "name": "stdout",
     "output_type": "stream",
     "text": [
      "The circumference of circle is 366289713899352.94\n"
     ]
    }
   ],
   "source": [
    "#Question.no.3 Answere finding Circumference of circle taking radius as an input\n",
    "#Calculate the area,circumference,\n",
    "num1=float(input(\"The radius of circle\"))\n",
    "num2=float(input(\"the value of constant PI\"))\n",
    "num3=float(input(\"how many times multiply\"))\n",
    "circumference=num1 ** num2 **num3 # for power ** is used\n",
    "print (\"The circumference of circle is\",circumference)"
   ]
  },
  {
   "cell_type": "code",
   "execution_count": 98,
   "id": "65e875ac-25ef-4d96-ba53-1965607acfc0",
   "metadata": {},
   "outputs": [
    {
     "name": "stdout",
     "output_type": "stream",
     "text": [
      "125.0\n"
     ]
    }
   ],
   "source": [
    "#A grocery store sells a bag of ice for $1.25 and makes a 20% profit. If it sells 500 bags of ice, how much total profit does it make?\n",
    "#Cost of ice bag ($) = 1.25\n",
    "#Profit margin = 20% = .2\n",
    "#Profit per bag ($) = profit margin * cost of ice bag = .2 * 1.25\n",
    "#No. of bags = 500\n",
    "#Total profit = no. of bags * profit per bag = 500 * (.2 * 1.25)\n",
    "Cost_of_ice_bag=1.25\n",
    "Profit_Margin = 0.2\n",
    "number_of_Bags=500\n",
    "profit=(Profit_Margin* Cost_of_ice_bag)*number_of_Bags\n",
    "print(profit)"
   ]
  },
  {
   "cell_type": "code",
   "execution_count": 106,
   "id": "94e712d8-591a-47c1-8424-008ed582eba6",
   "metadata": {},
   "outputs": [
    {
     "name": "stdin",
     "output_type": "stream",
     "text": [
      "Enter the plan cost 5000\n",
      "Enter the number of people 29\n",
      "Enter the company charges 200\n"
     ]
    },
    {
     "name": "stdout",
     "output_type": "stream",
     "text": [
      "Total collection : $ 5800.0\n",
      "Profit made by the company: $ 800.0\n"
     ]
    }
   ],
   "source": [
    "#A travel company wants to fly a plane to the Bahamas. \n",
    "#Flying the plane costs 5000 dollars. So far, 29 people have signed up for the trip. \n",
    "#If the company charges 200 dollars per ticket, what is the profit made by the company?\n",
    "#Create variables for each numeric quantity and use appropriate arithmetic opera\n",
    "#cost = 5000\n",
    "#num = 29\n",
    "#charge = 200\n",
    "cost=float(input(\"Enter the plan cost\"))\n",
    "num=float(input(\"Enter the number of people\"))\n",
    "charge=float(input(\"Enter the company charges\"))\n",
    "revenue = num * charge\n",
    "print(\"Total collection : $\", revenue)\n",
    "profit = revenue - cost\n",
    "print(\"Profit made by the company: $\", profit)"
   ]
  },
  {
   "cell_type": "code",
   "execution_count": null,
   "id": "35738b2f-cc1c-4ab8-8487-ff23faee526f",
   "metadata": {},
   "outputs": [],
   "source": []
  }
 ],
 "metadata": {
  "kernelspec": {
   "display_name": "Python 3 (ipykernel)",
   "language": "python",
   "name": "python3"
  },
  "language_info": {
   "codemirror_mode": {
    "name": "ipython",
    "version": 3
   },
   "file_extension": ".py",
   "mimetype": "text/x-python",
   "name": "python",
   "nbconvert_exporter": "python",
   "pygments_lexer": "ipython3",
   "version": "3.12.4"
  }
 },
 "nbformat": 4,
 "nbformat_minor": 5
}
