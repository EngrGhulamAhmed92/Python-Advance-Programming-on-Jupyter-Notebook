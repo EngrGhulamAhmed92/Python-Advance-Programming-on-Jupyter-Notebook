{
 "cells": [
  {
   "cell_type": "markdown",
   "id": "14a14890-8a68-41c4-a24b-498418d0bfa4",
   "metadata": {},
   "source": [
    "A loop that makes seven calls to print(), so we get on the output the\n",
    "following triangle:"
   ]
  },
  {
   "cell_type": "code",
   "execution_count": 95,
   "id": "d50b45e5-3a28-4993-a1ec-6e77c52395e6",
   "metadata": {},
   "outputs": [
    {
     "name": "stdout",
     "output_type": "stream",
     "text": [
      "*\n",
      "**\n",
      "***\n",
      "****\n",
      "*****\n",
      "******\n",
      "*******\n"
     ]
    }
   ],
   "source": [
    "#Loop to print the triangle pattern\n",
    "for i in range(1, 8):\n",
    "    print('*' * i)"
   ]
  },
  {
   "cell_type": "markdown",
   "id": "7753e2ad-d21c-47a7-a6ec-08a83f46b938",
   "metadata": {},
   "source": [
    "A loop that makes seven calls to print(), so we get on the output the\n",
    "following triangle:"
   ]
  },
  {
   "cell_type": "code",
   "execution_count": 97,
   "id": "9209acba-39ab-4b58-832b-ecaaefc42339",
   "metadata": {},
   "outputs": [
    {
     "name": "stdout",
     "output_type": "stream",
     "text": [
      "#\n",
      "##\n",
      "###\n",
      "####\n",
      "#####\n",
      "######\n",
      "#######\n"
     ]
    }
   ],
   "source": [
    "# (b) Loop to print the triangle pattern\n",
    "for i in range(1, 8):\n",
    "    print('#' * i)"
   ]
  },
  {
   "cell_type": "markdown",
   "id": "62532a53-1247-4962-8219-04e9d8792cd5",
   "metadata": {},
   "source": [
    "2. Use nested loops to create the following:"
   ]
  },
  {
   "cell_type": "code",
   "execution_count": 99,
   "id": "91177e95-6da1-4325-b9d6-c4f46e04b0e9",
   "metadata": {},
   "outputs": [
    {
     "name": "stdout",
     "output_type": "stream",
     "text": [
      "# # # # # # # # \n",
      "# # # # # # # # \n",
      "# # # # # # # # \n",
      "# # # # # # # # \n",
      "# # # # # # # # \n",
      "# # # # # # # # \n",
      "# # # # # # # # \n",
      "# # # # # # # # \n"
     ]
    }
   ],
   "source": [
    "# Outer loop for rows\n",
    "for i in range(8):  # 8 rows\n",
    "    # Inner loop for printing '#' 8 times in each row\n",
    "    for j in range(8):  # 8 '#' in each row\n",
    "        print('#', end=' ')  # Print '#' without newline\n",
    "    print()  # Print a newline after each row"
   ]
  },
  {
   "cell_type": "markdown",
   "id": "124a5f77-5f8a-45cd-aa3d-816c661677c1",
   "metadata": {},
   "source": [
    "3. Iterate through the list, ['Python', 'Numpy','Pandas','Django', 'Flask'] using a for\r\n",
    "loop and print out the items."
   ]
  },
  {
   "cell_type": "code",
   "execution_count": 101,
   "id": "9870e43c-0fba-4823-964c-877c039c7916",
   "metadata": {},
   "outputs": [
    {
     "name": "stdout",
     "output_type": "stream",
     "text": [
      "Python\n",
      "Numpy\n",
      "Pandas\n",
      "Django\n",
      "Flask\n"
     ]
    }
   ],
   "source": [
    "# List of items\n",
    "technologies = ['Python', 'Numpy', 'Pandas', 'Django', 'Flask']\n",
    "\n",
    "# Using a for loop to iterate through the list and print each item\n",
    "for tech in technologies:\n",
    "    print(tech)"
   ]
  },
  {
   "cell_type": "markdown",
   "id": "3bd85bc6-743b-49e2-b1b8-3e7b953e685d",
   "metadata": {},
   "source": [
    "4. Use for loop to iterate from 0 to 100 and print the sum of all evens and the sum of\n",
    "all odds."
   ]
  },
  {
   "cell_type": "code",
   "execution_count": 107,
   "id": "992681c9-3859-459a-ba78-009ea74c64fc",
   "metadata": {},
   "outputs": [
    {
     "name": "stdout",
     "output_type": "stream",
     "text": [
      "Sum of all even numbers: 2550\n",
      "Sum of all odd numbers: 2500\n"
     ]
    }
   ],
   "source": [
    "# Initialize sums for even and odd numbers\n",
    "even_sum = 0\n",
    "odd_sum = 0\n",
    "\n",
    "# Iterate through the numbers from 0 to 100\n",
    "for num in range(101):  # range(101) gives numbers from 0 to 100\n",
    "    if num % 2 == 0:\n",
    "        even_sum += num  # Add to even_sum if the number is even\n",
    "    else:\n",
    "        odd_sum += num   # Add to odd_sum if the number is odd\n",
    "\n",
    "# Print the sums\n",
    "print(\"Sum of all even numbers:\", even_sum)\n",
    "print(\"Sum of all odd numbers:\", odd_sum)"
   ]
  },
  {
   "cell_type": "markdown",
   "id": "c1cede26-ce0b-4ef1-8f77-ad6825ec85c6",
   "metadata": {},
   "source": [
    "5. Calculate the cube of all numbers from 1 to a given number"
   ]
  },
  {
   "cell_type": "code",
   "execution_count": 109,
   "id": "b9bdff96-c7b6-4431-a660-dd307e1706c4",
   "metadata": {},
   "outputs": [
    {
     "name": "stdin",
     "output_type": "stream",
     "text": [
      "Enter a number:  2\n"
     ]
    },
    {
     "name": "stdout",
     "output_type": "stream",
     "text": [
      "The cube of 1 is 1\n",
      "The cube of 2 is 8\n"
     ]
    }
   ],
   "source": [
    "# Take input from the user for the upper limit\n",
    "num = int(input(\"Enter a number: \"))\n",
    "\n",
    "# Iterate through numbers from 1 to n and calculate the cube of each\n",
    "for i in range(1, num + 1):\n",
    "    cube = i ** 3  # Cube of the number\n",
    "    print(\"The cube of\", i, \"is\", cube)"
   ]
  },
  {
   "cell_type": "markdown",
   "id": "d2c3dd20-7ac1-497d-9673-cc47c7246ff1",
   "metadata": {},
   "source": [
    "6. Declare a function add_two_numbers. It takes two parameters and it returns a\n",
    "sum."
   ]
  },
  {
   "cell_type": "code",
   "execution_count": 111,
   "id": "eef35c8a-3d85-4018-89e0-c9cd461817b9",
   "metadata": {},
   "outputs": [
    {
     "name": "stdout",
     "output_type": "stream",
     "text": [
      "The sum is: 8\n"
     ]
    }
   ],
   "source": [
    "# Function to add two numbers\n",
    "def add_two_numbers (a, b):\n",
    "    return a + b\n",
    "\n",
    "# Example usage of the function\n",
    "result = add_two_numbers(5, 3)\n",
    "print(\"The sum is:\", result)"
   ]
  },
  {
   "cell_type": "markdown",
   "id": "c1bd7bdd-2ad5-4fff-ba62-5a32ec1977eb",
   "metadata": {},
   "source": [
    "7. Area of a circle is calculated as follows: area = π x r x r. Write a function that\n",
    "calculates area_of_circle."
   ]
  },
  {
   "cell_type": "code",
   "execution_count": 113,
   "id": "bdc6821f-e57b-42cb-82dc-a74882b6093b",
   "metadata": {},
   "outputs": [
    {
     "name": "stdin",
     "output_type": "stream",
     "text": [
      "Enter the radius of the circle:  23\n"
     ]
    },
    {
     "name": "stdout",
     "output_type": "stream",
     "text": [
      "The area of the circle with radius 23.0 is: 1661.9025137490005\n"
     ]
    }
   ],
   "source": [
    "\n",
    "import math\n",
    "\n",
    "# Function to calculate the area of a circle\n",
    "def calculate_area_of_circle(radius):\n",
    "    area = math.pi * radius * radius  # Formula for area: π * r^2\n",
    "    return area\n",
    "\n",
    "# Take the radius as input from the user\n",
    "radius = float(input(\"Enter the radius of the circle: \"))\n",
    "\n",
    "# Call the function and calculate the area\n",
    "area = calculate_area_of_circle(radius)\n",
    "\n",
    "# Print the result\n",
    "print(\"The area of the circle with radius\", radius, \"is:\", area)"
   ]
  },
  {
   "cell_type": "markdown",
   "id": "1022d101-502b-4750-8c79-33e30d47bc16",
   "metadata": {},
   "source": [
    "8. Write a function called add_all_nums which takes an arbitrary number of\r\n",
    "arguments and sums all the arguments. Check if all the list items are number\r\n",
    "types. If not, do give reasonable feedback."
   ]
  },
  {
   "cell_type": "code",
   "execution_count": 115,
   "id": "beef5f99-12eb-478c-af82-9155199808d8",
   "metadata": {},
   "outputs": [
    {
     "name": "stdout",
     "output_type": "stream",
     "text": [
      "The sum is: 10.5\n",
      "All arguments must be numbers.\n"
     ]
    }
   ],
   "source": [
    "\n",
    "def add_all_nums(*args):\n",
    "    # Check if all arguments are numbers (int or float)\n",
    "    if all(isinstance(arg, (int, float)) for arg in args):\n",
    "        # Sum all the arguments if they are numbers\n",
    "        total = sum(args)\n",
    "        return total\n",
    "    else:\n",
    "        # Provide feedback if any argument is not a number\n",
    "        return \"All arguments must be numbers.\"\n",
    "\n",
    "# Example usage\n",
    "result = add_all_nums(1, 2, 3, 4.5)\n",
    "print(\"The sum is:\", result)\n",
    "\n",
    "# Example with a non-number\n",
    "result = add_all_nums(1, 2, \"three\", 4)\n",
    "print(result)"
   ]
  },
  {
   "cell_type": "markdown",
   "id": "16cd2006-4af3-4e26-b4d4-df669e00bf56",
   "metadata": {},
   "source": [
    "9. Temperature in °C can be converted to °F using this formula: °F = (°C x 9/5) +32.\n",
    "10. Write a function which converts °C to °F, convert_celsius_to-fahrenheit."
   ]
  },
  {
   "cell_type": "code",
   "execution_count": 31,
   "id": "8ef6585b-27af-4788-b1b7-600b0d431a8a",
   "metadata": {},
   "outputs": [
    {
     "name": "stdin",
     "output_type": "stream",
     "text": [
      "Enter temperature in Celsius:  100\n"
     ]
    },
    {
     "name": "stdout",
     "output_type": "stream",
     "text": [
      "The temperature in Fahrenheit is: 212.0\n"
     ]
    }
   ],
   "source": [
    "# Function to convert Celsius to Fahrenheit\n",
    "def convert_celsius_to_fahrenheit(celsius):\n",
    "    fahrenheit = (celsius * 9/5) + 32\n",
    "    return fahrenheit\n",
    "\n",
    "# Example usage\n",
    "celsius = float(input(\"Enter temperature in Celsius: \"))\n",
    "fahrenheit = convert_celsius_to_fahrenheit(celsius)\n",
    "print(\"The temperature in Fahrenheit is:\", fahrenheit)"
   ]
  },
  {
   "cell_type": "markdown",
   "id": "75465724-554a-45cd-917e-561ec5e0ab2f",
   "metadata": {},
   "source": [
    "10.Write a function called check-season, it takes a month parameter and returns the\n",
    "season: Autumn, Winter, Spring or Summer."
   ]
  },
  {
   "cell_type": "code",
   "execution_count": 117,
   "id": "a4ac410a-0aa6-4b82-b4a9-886af01a48b6",
   "metadata": {},
   "outputs": [
    {
     "name": "stdin",
     "output_type": "stream",
     "text": [
      "Enter the name of the month:  january\n"
     ]
    },
    {
     "name": "stdout",
     "output_type": "stream",
     "text": [
      "The season is: Winter\n"
     ]
    }
   ],
   "source": [
    "# Function to check the season based on the month\n",
    "def check_season(month):\n",
    "    # Convert month to lowercase for consistency (case insensitive)\n",
    "    month = month.lower()\n",
    "\n",
    "    # Define the season based on the month\n",
    "    if month in ['december', 'january', 'february']:\n",
    "        return 'Winter'\n",
    "    elif month in ['march', 'april', 'may']:\n",
    "        return 'Spring'\n",
    "    elif month in ['june', 'july', 'august']:\n",
    "        return 'Summer'\n",
    "    elif month in ['september', 'october', 'november']:\n",
    "        return 'Autumn'\n",
    "    else:\n",
    "        return 'Invalid month'\n",
    "\n",
    "# Example usage\n",
    "month = input(\"Enter the name of the month: \")\n",
    "season = check_season(month)\n",
    "print(\"The season is:\", season)"
   ]
  },
  {
   "cell_type": "markdown",
   "id": "44d5471b-b347-4f78-b494-c852759050bf",
   "metadata": {},
   "source": [
    "11.Write a function called calculate_slope which return the slope of a linear equation"
   ]
  },
  {
   "cell_type": "code",
   "execution_count": 129,
   "id": "9a71e8a2-ee38-43e3-9b90-b3db0020eb7c",
   "metadata": {},
   "outputs": [
    {
     "name": "stdin",
     "output_type": "stream",
     "text": [
      "Enter the coordinates of the first point (x1, y1):  2 3\n",
      "Enter the coordinates of the second point (x2, y2):  4 5\n"
     ]
    },
    {
     "name": "stdout",
     "output_type": "stream",
     "text": [
      "The slope of the line is: 1.0\n"
     ]
    }
   ],
   "source": [
    "#Function to calculate the slope of a line given two points (x1, y1) and (x2, y2)\n",
    "def calculate_slope(x1, y1, x2, y2):\n",
    "    # Check if the points have the same x-coordinate (to avoid division by zero)\n",
    "    if x1 == x2:\n",
    "        return \"Slope is undefined (vertical line)\"\n",
    "    \n",
    "    # Calculate the slope using the formula\n",
    "    slope = (y2 - y1) / (x2 - x1)\n",
    "    return slope\n",
    "\n",
    "# Example usage\n",
    "x1, y1 = map(float, input(\"Enter the coordinates of the first point (x1, y1): \").split())\n",
    "x2, y2 = map(float, input(\"Enter the coordinates of the second point (x2, y2): \").split())\n",
    "\n",
    "slope = calculate_slope(x1, y1, x2, y2)\n",
    "print(\"The slope of the line is:\", slope) # note put input coordinates values like 2 space 3 and 4 space 5 "
   ]
  },
  {
   "cell_type": "markdown",
   "id": "152a78f4-63ae-4b30-bc4d-f748d085940a",
   "metadata": {},
   "source": [
    "12.Quadratic equation is calculated as follows: ax2 + bx + c = 0. Write a function\n",
    "which calculates the solution set of a quadratic equation, solve_quadratic_eqn."
   ]
  },
  {
   "cell_type": "code",
   "execution_count": 131,
   "id": "d2814392-ac27-41fb-8d50-8f5cfebf19fe",
   "metadata": {},
   "outputs": [
    {
     "name": "stdin",
     "output_type": "stream",
     "text": [
      "Enter coefficient a:  2\n",
      "Enter coefficient b:  3\n",
      "Enter coefficient c:  4\n"
     ]
    },
    {
     "name": "stdout",
     "output_type": "stream",
     "text": [
      "The solutions are: (-0.75+1.1989578808281798j) and (-0.75-1.1989578808281798j)\n"
     ]
    }
   ],
   "source": [
    "\n",
    "import cmath  # For handling complex square roots\n",
    "\n",
    "# Function to solve the quadratic equation ax^2 + bx + c = 0\n",
    "def solve_quadratic_eqn(a, b, c):\n",
    "    # Calculate the discriminant (D)\n",
    "    discriminant = b**2 - 4*a*c\n",
    "\n",
    "    # Calculate the two solutions using the quadratic formula\n",
    "    solution1 = (-b + cmath.sqrt(discriminant)) / (2 * a)\n",
    "    solution2 = (-b - cmath.sqrt(discriminant)) / (2 * a)\n",
    "\n",
    "    # Return the solutions as a tuple\n",
    "    return solution1, solution2\n",
    "\n",
    "# Example usage\n",
    "a = float(input(\"Enter coefficient a: \"))\n",
    "b = float(input(\"Enter coefficient b: \"))\n",
    "c = float(input(\"Enter coefficient c: \"))\n",
    "\n",
    "# Get the solutions\n",
    "solution1, solution2 = solve_quadratic_eqn(a, b, c)\n",
    "\n",
    "# Print the solutions\n",
    "print(\"The solutions are:\", solution1, \"and\", solution2)"
   ]
  },
  {
   "cell_type": "markdown",
   "id": "efd84536-76c5-40fc-b5d8-bbd520a4b672",
   "metadata": {},
   "source": [
    "13.Declare a function named print_list. It takes a list as a parameter and it prints out\n",
    "each element of the list."
   ]
  },
  {
   "cell_type": "code",
   "execution_count": 133,
   "id": "991282be-b829-43ca-8fc2-e46330fb4086",
   "metadata": {},
   "outputs": [
    {
     "name": "stdout",
     "output_type": "stream",
     "text": [
      "6\n",
      "7\n",
      "8\n",
      "9\n",
      "10\n"
     ]
    }
   ],
   "source": [
    "# Function to print each element of the list\n",
    "def print_list(lst):\n",
    "    for element in lst:\n",
    "        print(element)\n",
    "\n",
    "# Example usage\n",
    "my_list = [6, 7, 8, 9, 10]\n",
    "print_list(my_list)"
   ]
  },
  {
   "cell_type": "markdown",
   "id": "06a38fd1-1a6f-4bcb-938e-e82496c0b8ef",
   "metadata": {},
   "source": [
    "14.Declare a function named reverse_list. It takes an array as a parameter and it\n",
    "returns the reverse of the array (use loops).print(reverse_list([1, 2, 3, 4, 5]))\r\n",
    "[5, 4, 3, 2, 1]"
   ]
  },
  {
   "cell_type": "code",
   "execution_count": 135,
   "id": "0f2f7c4c-2ca8-4263-b6fb-5eb2507faa6c",
   "metadata": {},
   "outputs": [
    {
     "name": "stdout",
     "output_type": "stream",
     "text": [
      "Reversed list: [5, 4, 3, 2, 1]\n"
     ]
    }
   ],
   "source": [
    "# Function to reverse the list using loops\n",
    "def reverse_list(arr):\n",
    "    reversed_arr = []  # Create an empty list to store the reversed elements\n",
    "    \n",
    "    # Loop through the original list in reverse order and add each element to the new list\n",
    "    for i in range(len(arr) - 1, -1, -1):\n",
    "        reversed_arr.append(arr[i])\n",
    "    \n",
    "    return reversed_arr\n",
    "\n",
    "# Example usage\n",
    "my_list = [1, 2, 3, 4, 5]\n",
    "reversed_list = reverse_list(my_list)\n",
    "print(\"Reversed list:\", reversed_list)"
   ]
  },
  {
   "cell_type": "markdown",
   "id": "d72a86bf-daba-40df-912d-950c7c8db64f",
   "metadata": {},
   "source": [
    "14(b).Declare a function named reverse_list. It takes an array as a parameter and it\n",
    "returns the reverse of the array (use loops).print(reverse_list1([\"A\", \"B\", \"C\"]))\n",
    "[\"C\", \"B\", \"A\"]"
   ]
  },
  {
   "cell_type": "code",
   "execution_count": 137,
   "id": "b1d3294d-e216-4c19-9e16-c0c39de71fb9",
   "metadata": {},
   "outputs": [
    {
     "name": "stdout",
     "output_type": "stream",
     "text": [
      "Reversed list: ['E', 'D', 'C', 'B', 'A']\n"
     ]
    }
   ],
   "source": [
    "# Function to reverse the list using loops\n",
    "def reverse_list(arr):\n",
    "    reversed_arr = []  # Create an empty list to store the reversed elements\n",
    "    \n",
    "    # Loop through the original list in reverse order and add each element to the new list\n",
    "    for i in range(len(arr) - 1, -1, -1):\n",
    "        reversed_arr.append(arr[i])\n",
    "    \n",
    "    return reversed_arr\n",
    "\n",
    "# Example usage\n",
    "my_list = [\"A\", \"B\", \"C\", \"D\", \"E\"]\n",
    "reversed_list = reverse_list(my_list)\n",
    "print(\"Reversed list:\", reversed_list)"
   ]
  },
  {
   "cell_type": "markdown",
   "id": "367f523a-8658-44e6-abba-058cc115428a",
   "metadata": {},
   "source": [
    "15.Declare a function named evens_and_odds . It takes a positive integer as a\n",
    "parameter and it counts the number of events and odds in the number."
   ]
  },
  {
   "cell_type": "code",
   "execution_count": 141,
   "id": "fc2fab42-516d-4545-98f0-95377b303eed",
   "metadata": {},
   "outputs": [
    {
     "name": "stdin",
     "output_type": "stream",
     "text": [
      "Enter a positive integer:  23\n"
     ]
    },
    {
     "name": "stdout",
     "output_type": "stream",
     "text": [
      "Even digits: 1\n",
      "Odd digits: 1\n"
     ]
    }
   ],
   "source": [
    "# Function to count even and odd digits in a number\n",
    "def evens_and_odds(number):\n",
    "    # The number is positive\n",
    "    if number <= 0:\n",
    "        return \"Please enter a positive integer.\"\n",
    "    \n",
    "    # Initialize counters for even and odd digits\n",
    "    even_count = 0\n",
    "    odd_count = 0\n",
    "    \n",
    "    # Loop through each digit in the number\n",
    "    while number > 0:\n",
    "        digit = number % 10  # Get the last digit of the number\n",
    "        if digit % 2 == 0:   # Check if the digit is even\n",
    "            even_count += 1\n",
    "        else:  # If the digit is odd\n",
    "            odd_count += 1\n",
    "        number = number // 10  # Remove the last digit from the number\n",
    "    \n",
    "    # Return the counts of even and odd digits\n",
    "    return even_count, odd_count\n",
    "\n",
    "# Example usage\n",
    "number = int(input(\"Enter a positive integer: \"))\n",
    "result = evens_and_odds(number)\n",
    "\n",
    "# Display the result\n",
    "if isinstance(result, tuple):\n",
    "    even_count, odd_count = result\n",
    "    print(\"Even digits:\", even_count)\n",
    "    print(\"Odd digits:\", odd_count)\n",
    "else:\n",
    "    print(result)  # If the input wasnot valid"
   ]
  },
  {
   "cell_type": "markdown",
   "id": "1baf0aa0-1dfa-4d7a-872a-f0dad4ddbb74",
   "metadata": {},
   "source": [
    "16.Write different functions which take lists. They should calculate_mean,\n",
    "calculate_median, calculate_mode, calculate_range, calculate_variance,\n",
    "calculate_std (standard deviation)."
   ]
  },
  {
   "cell_type": "code",
   "execution_count": 143,
   "id": "b4ddc1e2-507f-405f-a72f-ffd387c24a94",
   "metadata": {},
   "outputs": [
    {
     "name": "stdout",
     "output_type": "stream",
     "text": [
      "Mean: 5.0\n",
      "Median: 5.0\n",
      "Mode: [5]\n",
      "Range: 8\n",
      "Variance: 6.0\n",
      "Standard Deviation: 2.449489742783178\n"
     ]
    }
   ],
   "source": [
    "\n",
    "import math\n",
    "from collections import Counter\n",
    "\n",
    "# Function to calculate the mean\n",
    "def calculate_mean(lst):\n",
    "    return sum(lst) / len(lst) if lst else 0\n",
    "\n",
    "# Function to calculate the median\n",
    "def calculate_median(lst):\n",
    "    lst.sort()\n",
    "    n = len(lst)\n",
    "    if n % 2 == 1:\n",
    "        return lst[n // 2]\n",
    "    else:\n",
    "        return (lst[n // 2 - 1] + lst[n // 2]) / 2\n",
    "\n",
    "# Function to calculate the mode\n",
    "def calculate_mode(lst):\n",
    "    count = Counter(lst)\n",
    "    mode_data = count.most_common()\n",
    "    max_count = mode_data[0][1]\n",
    "    modes = [k for k, v in mode_data if v == max_count]\n",
    "    return modes\n",
    "\n",
    "# Function to calculate the range\n",
    "def calculate_range(lst):\n",
    "    return max(lst) - min(lst) if lst else 0\n",
    "\n",
    "# Function to calculate the variance\n",
    "def calculate_variance(lst):\n",
    "    mean = calculate_mean(lst)\n",
    "    return sum((x - mean) ** 2 for x in lst) / len(lst) if lst else 0\n",
    "\n",
    "# Function to calculate the standard deviation\n",
    "def calculate_std(lst):\n",
    "    return math.sqrt(calculate_variance(lst)) if lst else 0\n",
    "\n",
    "\n",
    "# Example Usage\n",
    "numbers = [1, 2, 3, 4, 5, 5, 6, 7, 8, 9]\n",
    "\n",
    "print(\"Mean:\", calculate_mean(numbers))\n",
    "print(\"Median:\", calculate_median(numbers))\n",
    "print(\"Mode:\", calculate_mode(numbers))\n",
    "print(\"Range:\", calculate_range(numbers))\n",
    "print(\"Variance:\", calculate_variance(numbers))\n",
    "print(\"Standard Deviation:\", calculate_std(numbers))"
   ]
  },
  {
   "cell_type": "markdown",
   "id": "3c10f0c6-288b-4189-8dee-c3d6a2677844",
   "metadata": {},
   "source": [
    "17.Write a function which checks if all items are unique in the list."
   ]
  },
  {
   "cell_type": "code",
   "execution_count": 145,
   "id": "e288c85d-442e-4924-accd-d6ef212f1ac8",
   "metadata": {},
   "outputs": [
    {
     "name": "stdout",
     "output_type": "stream",
     "text": [
      "All items are unique: True\n",
      "All items are unique: False\n"
     ]
    }
   ],
   "source": [
    "\n",
    "def are_all_unique(lst):\n",
    "    # Convert the list to a set and compare its length with the original list\n",
    "    return len(lst) == len(set(lst))\n",
    "\n",
    "# Example usage list one\n",
    "my_list = [1, 2, 3, 4, 5]\n",
    "result = are_all_unique(my_list)\n",
    "print(\"All items are unique:\", result)\n",
    "# Example usage list two\n",
    "my_list_with_duplicates = [1, 2, 3, 3, 4, 5]\n",
    "result = are_all_unique(my_list_with_duplicates)\n",
    "print(\"All items are unique:\", result)"
   ]
  },
  {
   "cell_type": "markdown",
   "id": "3b6d74c6-b400-4404-8426-1fa09368f810",
   "metadata": {},
   "source": [
    "18.Write a function which checks if all the items of the list are of the same data type."
   ]
  },
  {
   "cell_type": "code",
   "execution_count": 147,
   "id": "613b61de-d2dd-4d13-a6b4-815c9f48d6dc",
   "metadata": {},
   "outputs": [
    {
     "name": "stdout",
     "output_type": "stream",
     "text": [
      "All items are of the same type: True\n",
      "All items are of the same type: False\n",
      "All items are of the same type: True\n"
     ]
    }
   ],
   "source": [
    "\n",
    "def are_all_same_type(lst):\n",
    "    # Check if the list is empty, in which case it returns True (all items, nothing to compare)\n",
    "    if not lst:\n",
    "        return True\n",
    "    \n",
    "    # Get the type of the first item\n",
    "    first_type = type(lst[0])\n",
    "    \n",
    "    # Iterate through the list and check if the type of each item matches the first item's type\n",
    "    for item in lst:\n",
    "        if type(item) != first_type:\n",
    "            return False  # Return False if any item is of a different type\n",
    "    \n",
    "    return True  # All items have the same type\n",
    "\n",
    "# Example \n",
    "my_list = [1, 2, 3, 4]\n",
    "result = are_all_same_type(my_list)\n",
    "print(\"All items are of the same type:\", result)\n",
    "\n",
    "#Mixed\n",
    "my_list_mixed = [1, \"hello\", 3.5]\n",
    "result = are_all_same_type(my_list_mixed)\n",
    "print(\"All items are of the same type:\", result)\n",
    "\n",
    "my_list_empty = []\n",
    "result = are_all_same_type(my_list_empty)\n",
    "print(\"All items are of the same type:\", result)"
   ]
  },
  {
   "cell_type": "markdown",
   "id": "9adf6229-684f-4bba-b6b8-cbc7546263ae",
   "metadata": {},
   "source": [
    "19.Write a function which check if provided variable is a valid python variable"
   ]
  },
  {
   "cell_type": "code",
   "execution_count": 149,
   "id": "f4e946c1-2f32-47ab-8d46-1891d1c97483",
   "metadata": {},
   "outputs": [
    {
     "name": "stdout",
     "output_type": "stream",
     "text": [
      "True\n",
      "False\n",
      "False\n",
      "False\n",
      "True\n"
     ]
    }
   ],
   "source": [
    "\n",
    "import keyword\n",
    "\n",
    "def is_valid_python_variable(var_name):\n",
    "    # Check if the string is a valid identifier and not a reserved keyword\n",
    "    return var_name.isidentifier() and not keyword.iskeyword(var_name)\n",
    "\n",
    "# Example usage\n",
    "print(is_valid_python_variable(\"valid_var\"))  # True\n",
    "print(is_valid_python_variable(\"2invalid\"))   # False (starts with a number)\n",
    "print(is_valid_python_variable(\"var_with_space \"))  # False (contains space)\n",
    "print(is_valid_python_variable(\"for\"))         # False (reserved keyword)\n",
    "print(is_valid_python_variable(\"valid_variable_123\"))  # True"
   ]
  },
  {
   "cell_type": "markdown",
   "id": "acf94f06-667a-43ad-a640-3b2ce9aacd96",
   "metadata": {},
   "source": [
    "20.Write a Python program to detect the number of local variables declared in\n",
    "a function."
   ]
  },
  {
   "cell_type": "code",
   "execution_count": 153,
   "id": "075e55df-5eac-4cd3-8301-0655975e13c3",
   "metadata": {},
   "outputs": [
    {
     "name": "stdout",
     "output_type": "stream",
     "text": [
      "Number of local variables in 'example_function': 6\n"
     ]
    }
   ],
   "source": [
    "\n",
    "def example_function():\n",
    "    x = 10\n",
    "    y = 20\n",
    "    z =  10\n",
    "    name = \"Ghulam\"\n",
    "    name2 = \"Ahmed\"\n",
    "    name3 =\"Sir Sajid Majeed My Favourite Teacher\"\n",
    "    return locals()  # Return the dictionary of local variables\n",
    "\n",
    "def count_local_variables(func):\n",
    "    local_vars = func()  # Call the function and get local variables\n",
    "    return len(local_vars)  # Return the number of local variables\n",
    "\n",
    "# Example usage\n",
    "print(\"Number of local variables in 'example_function':\", count_local_variables(example_function))"
   ]
  },
  {
   "cell_type": "code",
   "execution_count": null,
   "id": "2f2534b4-5d1a-40cf-9f44-646fbac75902",
   "metadata": {},
   "outputs": [],
   "source": []
  }
 ],
 "metadata": {
  "kernelspec": {
   "display_name": "Python 3 (ipykernel)",
   "language": "python",
   "name": "python3"
  },
  "language_info": {
   "codemirror_mode": {
    "name": "ipython",
    "version": 3
   },
   "file_extension": ".py",
   "mimetype": "text/x-python",
   "name": "python",
   "nbconvert_exporter": "python",
   "pygments_lexer": "ipython3",
   "version": "3.12.4"
  }
 },
 "nbformat": 4,
 "nbformat_minor": 5
}
