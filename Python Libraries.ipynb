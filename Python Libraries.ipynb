{
 "cells": [
  {
   "cell_type": "markdown",
   "id": "32d856dc-acaa-4cab-b358-88be3d568d7a",
   "metadata": {},
   "source": [
    "Import Math library"
   ]
  },
  {
   "cell_type": "markdown",
   "id": "34b69b12-5fc2-4002-bfd7-67073f4173f3",
   "metadata": {},
   "source": [
    "Area od circle"
   ]
  },
  {
   "cell_type": "code",
   "execution_count": 11,
   "id": "abd6df07-7312-4991-91d8-242219041e1a",
   "metadata": {},
   "outputs": [
    {
     "name": "stdout",
     "output_type": "stream",
     "text": [
      "Area of the circle with diameter 15 meters: 176.71 square meters\n"
     ]
    }
   ],
   "source": [
    "\n",
    "import math\n",
    "\n",
    "# i) Calculate the area of the circle\n",
    "diameter = 15  # given diameter\n",
    "radius = diameter / 2  # calculate radius from the diameter\n",
    "area_of_circle = math.pi * radius ** 2  # calculate area using the formula Area = π * r²\n",
    "\n",
    "# Printing the result\n",
    "print(\"Area of the circle with diameter\", diameter, \"meters:\", round(area_of_circle, 2), \"square meters\")"
   ]
  },
  {
   "cell_type": "code",
   "execution_count": 3,
   "id": "2326279d-2015-4406-8ae1-cdbed2353b3d",
   "metadata": {},
   "outputs": [
    {
     "name": "stdin",
     "output_type": "stream",
     "text": [
      "Input a number:  12\n"
     ]
    },
    {
     "name": "stdout",
     "output_type": "stream",
     "text": [
      "It is a positive number\n"
     ]
    }
   ],
   "source": [
    "num = float(input(\"Input a number: \"))\n",
    "\n",
    "# Check if the number is greater than zero.\n",
    "if num > 0:\n",
    "   # If true, print that it is a positive number.\n",
    "   print(\"It is a positive number\")\n",
    "# Check if the number is equal to zero.\n",
    "elif num == 0:\n",
    "   # If true, print that it is zero.\n",
    "   print(\"It is zero\")\n",
    "else:\n",
    "   # If the above conditions are not met, print that it is a negative number.\n",
    "   print(\"It is a negative number\")"
   ]
  },
  {
   "cell_type": "code",
   "execution_count": null,
   "id": "45e0de02-7eab-4a1f-a10e-e3ca7f7de5bf",
   "metadata": {},
   "outputs": [
    {
     "name": "stdout",
     "output_type": "stream",
     "text": [
      "Area of the circle with diameter 15 meters: 176.71 square meters\n",
      "Circumference of the circle with diameter 15 meters: 47.12 meters\n"
     ]
    }
   ],
   "source": [
    "import math\n",
    "\n",
    "# i) Calculate the area of the circle\n",
    "diameter = 15  # given diameter\n",
    "radius = diameter / 2  # calculate the radius from the diameter\n",
    "area_of_circle = math.pi * radius ** 2  # Area = π * r²\n",
    "print(f\"Area of the circle with diameter {diameter} meters: {area_of_circle:.2f} square meters\")\n",
    "\n",
    "# ii) Calculate the circumference of the circle\n",
    "circumference_of_circle = 2 * math.pi * radius  # Circumference = 2 * π * r\n",
    "print(f\"Circumference of the circle with diameter {diameter} meters: {circumference_of_circle:.2f} meters\")\n",
    "\n",
    "# iii) Take diameter as user input and calculate the area\n",
    "user_diameter = float(input(\"Enter the diameter of the circle (in meters): \"))\n",
    "user_radius = user_diameter / 2  # calculate radius from the user input\n",
    "user_area_of_circle = math.pi * user_radius ** 2  # calculate area using Area = π * r²\n",
    "print(f\"Area of the circle with diameter {user_diameter} meters: {user_area_of_circle:.2f} square meters\")\n"
   ]
  },
  {
   "cell_type": "code",
   "execution_count": 37,
   "id": "16a31a1d-542a-4e35-b370-dd31bbce1d19",
   "metadata": {},
   "outputs": [
    {
     "name": "stdin",
     "output_type": "stream",
     "text": [
      "Enter a string:  aba\n"
     ]
    },
    {
     "name": "stdout",
     "output_type": "stream",
     "text": [
      "'aba' is a palindrome.\n"
     ]
    }
   ],
   "source": [
    "# Function to check if the string is a palindrome\n",
    "def is_palindrome(s):\n",
    "    # Remove spaces and convert to lowercase for case-insensitive comparison\n",
    "    s = s.replace(\" \", \"\").lower()\n",
    "    \n",
    "    # Check if the string is equal to its reverse\n",
    "    return s == s[::-1]\n",
    "\n",
    "# Take input from the user\n",
    "user_input = input(\"Enter a string: \")\n",
    "\n",
    "# Check if the input string is a palindrome\n",
    "if is_palindrome(user_input):\n",
    "    print(f\"'{user_input}' is a palindrome.\")\n",
    "else:\n",
    "    print(f\"'{user_input}' is not a palindrome.\")"
   ]
  },
  {
   "cell_type": "code",
   "execution_count": 41,
   "id": "1be5272f-aa5a-4b7c-aa54-d401ff7d6e08",
   "metadata": {},
   "outputs": [],
   "source": [
    "#In Python, data types are categorized into mutable and immutable based on whether their values can be changed after they are created. Let's define both:\n",
    "\n",
    "#1. Mutable Data Types:\n",
    "#A mutable data type is one where the value or content of the object can be modified or changed after it is created.\n",
    "\n",
    "#Examples of mutable data types: list, dict, set"
   ]
  },
  {
   "cell_type": "code",
   "execution_count": 45,
   "id": "3d1e142c-7806-4740-b7e0-72a7cd215c1a",
   "metadata": {},
   "outputs": [
    {
     "name": "stdout",
     "output_type": "stream",
     "text": [
      "Original List: [1, 2, 3]\n",
      "Modified List: [10, 2, 3]\n"
     ]
    }
   ],
   "source": [
    "# Mutable Example - List\n",
    "my_list = [1, 2, 3]\n",
    "print(\"Original List:\", my_list)\n",
    "\n",
    "# Modify the list (this is allowed because lists are mutable)\n",
    "my_list[0] = 10\n",
    "print(\"Modified List:\", my_list)"
   ]
  },
  {
   "cell_type": "code",
   "execution_count": 47,
   "id": "bc957b54-3380-4fbb-b1af-5e824faa5ae1",
   "metadata": {},
   "outputs": [],
   "source": [
    "#Immutable Data Types:\n",
    "#An immutable data type is one where the value or content of the object cannot be changed after it is created.\n",
    "\n",
    "#Examples of immutable data types: int, float, str, tuple"
   ]
  },
  {
   "cell_type": "code",
   "execution_count": 49,
   "id": "61d87be4-8479-4892-8643-6ebf27f3afc9",
   "metadata": {},
   "outputs": [
    {
     "name": "stdout",
     "output_type": "stream",
     "text": [
      "Original String: Hello\n",
      "Modified String: World\n"
     ]
    }
   ],
   "source": [
    "# Immutable Example - String\n",
    "my_string = \"Hello\"\n",
    "print(\"Original String:\", my_string)\n",
    "\n",
    "# Attempt to modify the string (this will not change the original string)\n",
    "# Strings are immutable, so we cannot modify the string directly.\n",
    "my_string = \"World\"  # Reassigning a new string to the variable\n",
    "print(\"Modified String:\", my_string)"
   ]
  },
  {
   "cell_type": "code",
   "execution_count": 51,
   "id": "af19ad87-9453-43a5-936e-9da3ccf6acc4",
   "metadata": {},
   "outputs": [
    {
     "name": "stdout",
     "output_type": "stream",
     "text": [
      "Original List: [1, 2, 3]\n",
      "Modified List: [10, 2, 3]\n",
      "\n",
      "Original String: Hello\n",
      "Modified String: World\n"
     ]
    }
   ],
   "source": [
    "# Mutable data type example (List)\n",
    "my_list = [1, 2, 3]\n",
    "print(\"Original List:\", my_list)\n",
    "\n",
    "# Modify the list (mutating it)\n",
    "my_list[0] = 10\n",
    "print(\"Modified List:\", my_list)\n",
    "\n",
    "# Immutable data type example (String)\n",
    "my_string = \"Hello\"\n",
    "print(\"\\nOriginal String:\", my_string)\n",
    "\n",
    "# Attempt to modify the string (this doesn't mutate the original string)\n",
    "my_string = \"World\"  # Strings are immutable, so we create a new one\n",
    "print(\"Modified String:\", my_string)"
   ]
  },
  {
   "cell_type": "code",
   "execution_count": 1,
   "id": "e7fec449-4d92-4658-9f7d-c5fc041bde88",
   "metadata": {},
   "outputs": [
    {
     "name": "stdin",
     "output_type": "stream",
     "text": [
      "Enter your username: ghulamahmed@gmail.com\n",
      "Enter your password 1234\n"
     ]
    },
    {
     "name": "stdout",
     "output_type": "stream",
     "text": [
      "wellcome ahmed\n"
     ]
    }
   ],
   "source": [
    "username=input(\"Enter your username:\")\n",
    "if \"@\" in username:\n",
    "    password=input(\"Enter your password\")\n",
    "    if username==\"ghulamahmed@gmail.com\" and password==\"1234\":\n",
    "        print(\"wellcome ahmed\")\n",
    "    elif username==\"ghulamahmed@gmail.com\" and password!=\"1234\":\n",
    "        print(\"Password is incorrect.Re=Enter your password\")\n",
    "        password= input(\"Enter your password Again:\")\n",
    "        if password==\"1234\":\n",
    "            print(\"Now wellcome after one attempt:\")\n",
    "        else:\n",
    "            print(\"Your password is incorrect:\")\n",
    "    else:\n",
    "        print(\"Enter valid credentials:\")\n",
    "else:\n",
    "    print(\"Enter valid email\")\n"
   ]
  },
  {
   "cell_type": "code",
   "execution_count": null,
   "id": "696e5d85-2a5d-4de4-9702-3fbc2e58b427",
   "metadata": {},
   "outputs": [],
   "source": []
  }
 ],
 "metadata": {
  "kernelspec": {
   "display_name": "Python 3 (ipykernel)",
   "language": "python",
   "name": "python3"
  },
  "language_info": {
   "codemirror_mode": {
    "name": "ipython",
    "version": 3
   },
   "file_extension": ".py",
   "mimetype": "text/x-python",
   "name": "python",
   "nbconvert_exporter": "python",
   "pygments_lexer": "ipython3",
   "version": "3.12.4"
  }
 },
 "nbformat": 4,
 "nbformat_minor": 5
}
