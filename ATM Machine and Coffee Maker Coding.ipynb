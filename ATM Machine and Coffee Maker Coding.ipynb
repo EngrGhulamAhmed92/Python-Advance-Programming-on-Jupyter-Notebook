{
 "cells": [
  {
   "cell_type": "code",
   "execution_count": 7,
   "id": "0c16fa34-c6fb-4e22-857d-a054e28cea15",
   "metadata": {},
   "outputs": [
    {
     "name": "stdout",
     "output_type": "stream",
     "text": [
      "Welcome to the ATM\n"
     ]
    },
    {
     "name": "stdin",
     "output_type": "stream",
     "text": [
      "Enter your 4-digit PIN:  1234\n"
     ]
    },
    {
     "name": "stdout",
     "output_type": "stream",
     "text": [
      "\n",
      "ATM Menu:\n",
      "1. Check Balance\n",
      "2. Deposit Money\n",
      "3. Withdraw Money\n",
      "4. Exit\n"
     ]
    },
    {
     "name": "stdin",
     "output_type": "stream",
     "text": [
      "Select an option (1-4):  1\n"
     ]
    },
    {
     "name": "stdout",
     "output_type": "stream",
     "text": [
      "Your balance is: $1000\n",
      "\n",
      "ATM Menu:\n",
      "1. Check Balance\n",
      "2. Deposit Money\n",
      "3. Withdraw Money\n",
      "4. Exit\n"
     ]
    },
    {
     "name": "stdin",
     "output_type": "stream",
     "text": [
      "Select an option (1-4):  4\n"
     ]
    },
    {
     "name": "stdout",
     "output_type": "stream",
     "text": [
      "Thank you for using the ATM Mr Ghulam Ahmed. Goodbye have a nice journey!\n"
     ]
    }
   ],
   "source": [
    "def atm_machine():\n",
    "    balance = 1000  # Initial balance\n",
    "    pin = \"1234\"    # Default PIN\n",
    "    \n",
    "    print(\"Welcome to the ATM MR.Ghulam Ahmed\")\n",
    "    \n",
    "    # Ask user to enter their PIN\n",
    "    entered_pin = input(\"Enter your 4-digit PIN: \")\n",
    "    \n",
    "    # Check if the PIN is correct \n",
    "    if entered_pin != pin:\n",
    "        print(\"Incorrect PIN. Access denied.\")\n",
    "        return\n",
    "    \n",
    "    # Start ATM operations \n",
    "    while True:\n",
    "        print(\"\\nATM Menu:\")\n",
    "        print(\"1. Check Balance\")\n",
    "        print(\"2. Deposit Money\")\n",
    "        print(\"3. Withdraw Money\")\n",
    "        print(\"4. Exit\")\n",
    "\n",
    "        choice = input(\"Select an option (1-4): \")\n",
    "\n",
    "        if choice == '1':\n",
    "            # Display the balance\n",
    "            print(f\"Your balance is: ${balance}\")\n",
    "        elif choice == '2':\n",
    "            # Deposit money\n",
    "            try:\n",
    "                deposit = float(input(\"Enter amount to deposit: $\"))\n",
    "                if deposit > 0:\n",
    "                    balance += deposit\n",
    "                    print(f\"Deposited ${deposit}. New balance: ${balance}\")\n",
    "                else:\n",
    "                    print(\"Amount must be greater than 0.\")\n",
    "            except Value_Error:\n",
    "                print(\"Please enter a valid number.\")\n",
    "        elif choice == '3':\n",
    "            # Withdraw money\n",
    "            try:\n",
    "                withdraw = float(input(\"Enter amount to withdraw: $\"))\n",
    "                if withdraw <= balance and withdraw > 0:\n",
    "                    balance -= withdraw\n",
    "                    print(f\"Withdrew ${withdraw}. New balance: ${balance}\")\n",
    "                else:\n",
    "                    print(\"Insufficient funds or invalid amount.\")\n",
    "            except ValueError:\n",
    "                print(\"Please enter a valid number.\")\n",
    "        elif choice == '4':\n",
    "            print(\"Thank you for using the ATM Mr Ghulam Ahmed. Goodbye have a nice journey!\")\n",
    "            break\n",
    "        else:\n",
    "            print(\"Invalid option, please try again.\")\n",
    "\n",
    "# Start the ATM program\n",
    "atm_machine()"
   ]
  },
  {
   "cell_type": "code",
   "execution_count": null,
   "id": "72ba07de-cdf3-4eeb-b1fc-ebf2a157b3e5",
   "metadata": {},
   "outputs": [
    {
     "name": "stdout",
     "output_type": "stream",
     "text": [
      "\n",
      "Choose your coffee:\n",
      "1. Espresso\n",
      "2. Cappuccino\n",
      "3. Latte\n",
      "4. Exit\n"
     ]
    },
    {
     "name": "stdin",
     "output_type": "stream",
     "text": [
      "Enter choice (1/2/3/4):  1\n"
     ]
    },
    {
     "name": "stdout",
     "output_type": "stream",
     "text": [
      "Brewing Espresso...\n",
      "Espresso is ready! Enjoy your coffee!\n",
      "\n",
      "Choose your coffee:\n",
      "1. Espresso\n",
      "2. Cappuccino\n",
      "3. Latte\n",
      "4. Exit\n"
     ]
    },
    {
     "name": "stdin",
     "output_type": "stream",
     "text": [
      "Enter choice (1/2/3/4):  1\n"
     ]
    },
    {
     "name": "stdout",
     "output_type": "stream",
     "text": [
      "Brewing Espresso...\n",
      "Espresso is ready! Enjoy your coffee!\n",
      "\n",
      "Choose your coffee:\n",
      "1. Espresso\n",
      "2. Cappuccino\n",
      "3. Latte\n",
      "4. Exit\n"
     ]
    },
    {
     "name": "stdin",
     "output_type": "stream",
     "text": [
      "Enter choice (1/2/3/4):  2\n"
     ]
    },
    {
     "name": "stdout",
     "output_type": "stream",
     "text": [
      "Brewing Cappuccino...\n",
      "Cappuccino is ready! Enjoy your coffee!\n",
      "\n",
      "Choose your coffee:\n",
      "1. Espresso\n",
      "2. Cappuccino\n",
      "3. Latte\n",
      "4. Exit\n"
     ]
    },
    {
     "name": "stdin",
     "output_type": "stream",
     "text": [
      "Enter choice (1/2/3/4):  3\n"
     ]
    },
    {
     "name": "stdout",
     "output_type": "stream",
     "text": [
      "Brewing Latte...\n",
      "Latte is ready! Enjoy your coffee!\n",
      "\n",
      "Choose your coffee:\n",
      "1. Espresso\n",
      "2. Cappuccino\n",
      "3. Latte\n",
      "4. Exit\n"
     ]
    }
   ],
   "source": [
    "class CoffeeMaker:\n",
    "    def __init__(self):\n",
    "        self.water = 1000  # in ml\n",
    "        self.milk = 500    # in ml\n",
    "        self.coffee_beans = 200  # in grams\n",
    "    \n",
    "    def check_resources(self, coffee_type):\n",
    "        if coffee_type == 'Espresso':\n",
    "            water_required = 30\n",
    "            milk_required = 0\n",
    "            beans_required = 10\n",
    "        elif coffee_type == 'Cappuccino':\n",
    "            water_required = 60\n",
    "            milk_required = 100\n",
    "            beans_required = 12\n",
    "        elif coffee_type == 'Latte':\n",
    "            water_required = 70\n",
    "            milk_required = 150\n",
    "            beans_required = 12\n",
    "        else:\n",
    "            print(\"Invalid coffee type!\")\n",
    "            return False\n",
    "\n",
    "        if self.water < water_required:\n",
    "            print(\"Sorry, not enough water.\")\n",
    "            return False\n",
    "        if self.milk < milk_required:\n",
    "            print(\"Sorry, not enough milk.\")\n",
    "            return False\n",
    "        if self.coffee_beans < beans_required:\n",
    "            print(\"Sorry, not enough coffee beans.\")\n",
    "            return False\n",
    "        \n",
    "        return True\n",
    "\n",
    "    def make_coffee(self, coffee_type):\n",
    "        if self.check_resources(coffee_type):\n",
    "            if coffee_type == 'Espresso':\n",
    "                print(\"Brewing Espresso...\")\n",
    "            elif coffee_type == 'Cappuccino':\n",
    "                print(\"Brewing Cappuccino...\")\n",
    "            elif coffee_type == 'Latte':\n",
    "                print(\"Brewing Latte...\")\n",
    "            \n",
    "            self.water -= 30\n",
    "            self.milk -= 100 if coffee_type != 'Espresso' else 0\n",
    "            self.coffee_beans -= 10\n",
    "\n",
    "            print(f\"{coffee_type} is ready! Enjoy your coffee!\")\n",
    "\n",
    "def main():\n",
    "    coffee_maker = CoffeeMaker()\n",
    "    \n",
    "    while True:\n",
    "        print(\"\\nChoose your coffee:\")\n",
    "        print(\"1. Espresso\")\n",
    "        print(\"2. Cappuccino\")\n",
    "        print(\"3. Latte\")\n",
    "        print(\"4. Exit\")\n",
    "        \n",
    "        choice = input(\"Enter choice (1/2/3/4): \")\n",
    "\n",
    "        if choice == '1':\n",
    "            coffee_maker.make_coffee(\"Espresso\")\n",
    "        elif choice == '2':\n",
    "            coffee_maker.make_coffee(\"Cappuccino\")\n",
    "        elif choice == '3':\n",
    "            coffee_maker.make_coffee(\"Latte\")\n",
    "        elif choice == '4':\n",
    "            print(\"Goodbye!\")\n",
    "            break\n",
    "        else:\n",
    "            print(\"Invalid choice, please try again.\")\n",
    "\n",
    "if __name__ == \"__main__\":\n",
    "    main()"
   ]
  },
  {
   "cell_type": "markdown",
   "id": "6c837957-f936-4a2d-9155-c973b828efcd",
   "metadata": {},
   "source": []
  }
 ],
 "metadata": {
  "kernelspec": {
   "display_name": "Python 3 (ipykernel)",
   "language": "python",
   "name": "python3"
  },
  "language_info": {
   "codemirror_mode": {
    "name": "ipython",
    "version": 3
   },
   "file_extension": ".py",
   "mimetype": "text/x-python",
   "name": "python",
   "nbconvert_exporter": "python",
   "pygments_lexer": "ipython3",
   "version": "3.12.4"
  }
 },
 "nbformat": 4,
 "nbformat_minor": 5
}
