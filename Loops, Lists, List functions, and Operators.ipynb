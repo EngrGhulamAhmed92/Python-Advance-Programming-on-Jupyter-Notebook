{
 "cells": [
  {
   "cell_type": "markdown",
   "id": "d2209145-86e7-4efd-9bc3-1b13685efb41",
   "metadata": {},
   "source": [
    "1. Write a Python program to print the numbers from 1 to 10 using a for loop."
   ]
  },
  {
   "cell_type": "code",
   "execution_count": 43,
   "id": "7f271e37-8877-4adc-b827-b3e0786a2cde",
   "metadata": {},
   "outputs": [
    {
     "name": "stdout",
     "output_type": "stream",
     "text": [
      "1\n",
      "2\n",
      "3\n",
      "4\n",
      "5\n",
      "6\n",
      "7\n",
      "8\n",
      "9\n",
      "10\n"
     ]
    }
   ],
   "source": [
    "#Python code to print numbers from 1 to 10 using a for loop\n",
    "\n",
    "for i in range(1, 11):\n",
    "    print(i)"
   ]
  },
  {
   "cell_type": "markdown",
   "id": "50c05371-5dca-458b-9ba5-1e9c71108a5a",
   "metadata": {},
   "source": [
    "2. Create a list containing the numbers 1 to 5. Then, using a for loop, print each element of the list."
   ]
  },
  {
   "cell_type": "code",
   "execution_count": 45,
   "id": "904539bf-3a47-4aea-8ec7-71bc1d01d9c6",
   "metadata": {},
   "outputs": [
    {
     "name": "stdout",
     "output_type": "stream",
     "text": [
      "1\n",
      "2\n",
      "3\n",
      "4\n",
      "5\n"
     ]
    }
   ],
   "source": [
    "#Create a list containing the numbers 1 to 5\n",
    "numbers = [1, 2, 3, 4, 5]\n",
    "\n",
    "# Using a for loop to print each element of the list\n",
    "for number in numbers:\n",
    "    print(number)"
   ]
  },
  {
   "cell_type": "markdown",
   "id": "e421d9ab-b7c2-43b1-b9fd-0bcd9dcf02bf",
   "metadata": {},
   "source": [
    "3. Write a program that takes a list of numbers and returns the sum of all the numbers in the list."
   ]
  },
  {
   "cell_type": "code",
   "execution_count": 47,
   "id": "4554166c-f0c3-4246-a236-05a4efe95e0f",
   "metadata": {},
   "outputs": [
    {
     "name": "stdout",
     "output_type": "stream",
     "text": [
      "The sum of the numbers in the list is: 20\n"
     ]
    }
   ],
   "source": [
    "#Function to calculate the sum of a list of numbers\n",
    "def sum_of_numbers(numbers):\n",
    "    total = sum(numbers)  # Using the built-in sum() function to get the sum\n",
    "    return total\n",
    "#  list of numbers\n",
    "numbers_list = [2, 3, 4, 5, 6]\n",
    "\n",
    "# Call the function\n",
    "result = sum_of_numbers(numbers_list)\n",
    "print(\"The sum of the numbers in the list is:\", result)"
   ]
  },
  {
   "cell_type": "markdown",
   "id": "628d0523-bc0a-43f1-8b7b-33df58624200",
   "metadata": {},
   "source": [
    "4. Given a list of strings, write a program to concatenate all the strings into one."
   ]
  },
  {
   "cell_type": "code",
   "execution_count": 49,
   "id": "8e5a51e9-9f35-443c-b8ac-87fcc1d1f02f",
   "metadata": {},
   "outputs": [
    {
     "name": "stdout",
     "output_type": "stream",
     "text": [
      "The concatenated string is: NED  University  Of  Engineering and  Technology\n"
     ]
    }
   ],
   "source": [
    " #List of strings\n",
    "strings = [\"N\", \"E\", \"D\", \"  University\",\"  Of\" , \"  Engineering\",\" and \" \" Technology\"]\n",
    "\n",
    "# Concatenating all strings into one\n",
    "concatenate_string = ''.join(strings)\n",
    "\n",
    "print(\"The concatenated string is:\", concatenate_string)"
   ]
  },
  {
   "cell_type": "code",
   "execution_count": null,
   "id": "f1112247-e49e-4998-9598-f18079fb199b",
   "metadata": {},
   "outputs": [],
   "source": [
    "5. Write a program that takes a list of numbers and returns the largest number in the list."
   ]
  },
  {
   "cell_type": "code",
   "execution_count": 53,
   "id": "2ebe2065-cf94-4b19-9311-010fb8a18ea1",
   "metadata": {},
   "outputs": [
    {
     "name": "stdout",
     "output_type": "stream",
     "text": [
      "The largest number in the list is: 22\n"
     ]
    }
   ],
   "source": [
    "#List of numbers\n",
    "numbers = [10, 12, 13, 9, 22]\n",
    "\n",
    "# Find the largest number using the max() function\n",
    "largest_number = max(numbers)\n",
    "\n",
    "print(\"The largest number in the list is:\", largest_number)"
   ]
  },
  {
   "cell_type": "markdown",
   "id": "355f63ce-6849-4b56-97ed-c828b7ea8fb5",
   "metadata": {},
   "source": [
    "6. Create a list containing the numbers 1 to 10. Using a for loop, square each number in the list and print the result."
   ]
  },
  {
   "cell_type": "code",
   "execution_count": 57,
   "id": "75e49074-ac41-4300-9093-0ec20c479839",
   "metadata": {},
   "outputs": [
    {
     "name": "stdout",
     "output_type": "stream",
     "text": [
      "The square of 1 is 1\n",
      "The square of 2 is 4\n",
      "The square of 3 is 9\n",
      "The square of 4 is 16\n",
      "The square of 5 is 25\n",
      "The square of 6 is 36\n",
      "The square of 7 is 49\n",
      "The square of 8 is 64\n",
      "The square of 9 is 81\n",
      "The square of 10 is 100\n"
     ]
    }
   ],
   "source": [
    "# Create a list containing the numbers 1 to 10\n",
    "number_in_list = [1, 2, 3, 4, 5, 6, 7, 8, 9, 10]\n",
    "\n",
    "# Using a for loop to square each number and print the result\n",
    "for number in number_in_list:\n",
    "    squared = number ** 2 \n",
    "    print(\"The square of\", number, \"is\", squared)"
   ]
  },
  {
   "cell_type": "markdown",
   "id": "88b5666b-5d27-4897-96c6-eb6e9525abe1",
   "metadata": {},
   "source": [
    "7. Write a program that takes a list of numbers and returns a new list containing only the even numbers from the original list."
   ]
  },
  {
   "cell_type": "code",
   "execution_count": 59,
   "id": "ce71f25d-10c2-4948-b208-09406f55cd98",
   "metadata": {},
   "outputs": [
    {
     "name": "stdout",
     "output_type": "stream",
     "text": [
      "Even numbers in the list: [2, 4, 6, 8, 10]\n"
     ]
    }
   ],
   "source": [
    "# We define Function to filter even numbers from a list\n",
    "def get_even_numbers(numbers):\n",
    "    even_numbers = []  # Empty list to store even numbers\n",
    "    for number in numbers:\n",
    "        if number % 2 == 0:  # Check if the number is even\n",
    "            even_numbers.append(number)  # Add even number to the list\n",
    "    return even_numbers\n",
    "\n",
    "# Example list of numbers\n",
    "numbers_list = [1, 2, 3, 4, 5, 6, 7, 8, 9, 10]\n",
    "\n",
    "# Calling the function and printing the result\n",
    "even_list = get_even_numbers(numbers_list)\n",
    "print(\"Even numbers in the list:\", even_list)"
   ]
  },
  {
   "cell_type": "markdown",
   "id": "55475c86-6c0f-4d5d-a32d-53297251c4ae",
   "metadata": {},
   "source": [
    "8. Given two lists of numbers, write a program to combine the lists element-wise (i.e., element-wise addition)."
   ]
  },
  {
   "cell_type": "code",
   "execution_count": 63,
   "id": "e713f277-514d-4d1e-a0be-bf2508643764",
   "metadata": {},
   "outputs": [
    {
     "name": "stdout",
     "output_type": "stream",
     "text": [
      "Element-wise addition of the two lists: [11, 22, 33, 44, 55]\n"
     ]
    }
   ],
   "source": [
    "# Two lists of numbers\n",
    "list1 = [1, 2, 3, 4, 5]\n",
    "list2 = [10, 20, 30, 40, 50]\n",
    "\n",
    "# Create a new list by adding corresponding elements from both lists\n",
    "combine_list = [list1[i] + list2[i] for i in range(len(list1))]\n",
    "\n",
    "print(\"Element-wise addition of the two lists:\", combine_list)"
   ]
  },
  {
   "cell_type": "markdown",
   "id": "380ff507-03f1-4483-bbd7-3387cbcba878",
   "metadata": {},
   "source": [
    "9. Write a program that takes a list of strings and returns a new list containing the lengths of each string."
   ]
  },
  {
   "cell_type": "code",
   "execution_count": 67,
   "id": "a4b2c9c1-44e3-4112-9e4d-26ed39ba9977",
   "metadata": {},
   "outputs": [
    {
     "name": "stdout",
     "output_type": "stream",
     "text": [
      "Lengths of each string: [5, 6, 6, 4]\n"
     ]
    }
   ],
   "source": [
    "# List of strings fruits\n",
    "strings = [\"apple\", \"banana\", \"cherry\", \"date\"]\n",
    "\n",
    "# Create a new list containing the lengths of each string\n",
    "lengths = [len(string) for string in strings]\n",
    "\n",
    "print(\"Lengths of each string:\", lengths)"
   ]
  },
  {
   "cell_type": "markdown",
   "id": "91e5f968-96d8-4659-933f-39ef99e3f308",
   "metadata": {},
   "source": [
    "10. Create a list of numbers from 1 to 10. Using list slicing and a for loop, print every second element of the list."
   ]
  },
  {
   "cell_type": "code",
   "execution_count": 71,
   "id": "38d21116-1085-4f69-9346-60412132e5ca",
   "metadata": {},
   "outputs": [
    {
     "name": "stdout",
     "output_type": "stream",
     "text": [
      "1\n",
      "3\n",
      "5\n",
      "7\n",
      "9\n"
     ]
    }
   ],
   "source": [
    "# Create a list of numbers from 1 to 10\n",
    "numbers = [1, 2, 3, 4, 5, 6, 7, 8, 9, 10]\n",
    "\n",
    "# Print every second element using a for loop and slicing\n",
    "for i in numbers[::2]:# for 3rd number write 3 and 4th write 5\n",
    "    print(i)"
   ]
  },
  {
   "cell_type": "code",
   "execution_count": null,
   "id": "ef4f681d-9a07-4a61-a5a4-2164366038f1",
   "metadata": {},
   "outputs": [],
   "source": []
  }
 ],
 "metadata": {
  "kernelspec": {
   "display_name": "Python 3 (ipykernel)",
   "language": "python",
   "name": "python3"
  },
  "language_info": {
   "codemirror_mode": {
    "name": "ipython",
    "version": 3
   },
   "file_extension": ".py",
   "mimetype": "text/x-python",
   "name": "python",
   "nbconvert_exporter": "python",
   "pygments_lexer": "ipython3",
   "version": "3.12.4"
  }
 },
 "nbformat": 4,
 "nbformat_minor": 5
}
