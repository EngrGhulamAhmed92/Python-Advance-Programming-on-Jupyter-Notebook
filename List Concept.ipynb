{
 "cells": [
  {
   "cell_type": "code",
   "execution_count": 7,
   "id": "8db9f211-9f25-4554-8aea-654457a647ed",
   "metadata": {},
   "outputs": [
    {
     "name": "stdout",
     "output_type": "stream",
     "text": [
      "[]\n",
      "<class 'list'>\n"
     ]
    }
   ],
   "source": [
    "fruit=[]\n",
    "print(fruit)\n",
    "print(type(fruit))"
   ]
  },
  {
   "cell_type": "code",
   "execution_count": 9,
   "id": "fbaaa826-8bf5-4e10-b16f-30ca186b43dd",
   "metadata": {},
   "outputs": [
    {
     "name": "stdout",
     "output_type": "stream",
     "text": [
      "['mango', 'banana', 'grapes', 'avacado', 'berry']\n",
      "<class 'list'>\n"
     ]
    }
   ],
   "source": [
    "#Create list of atoms\n",
    "fruit=[\"mango\", \"banana\", \"grapes\", \"avacado\" ,\"berry\"]\n",
    "print(fruit)\n",
    "print(type(fruit))"
   ]
  },
  {
   "cell_type": "code",
   "execution_count": 11,
   "id": "f193d6da-04a0-43fb-8b3a-d4c57a9d020a",
   "metadata": {},
   "outputs": [
    {
     "name": "stdout",
     "output_type": "stream",
     "text": [
      "['mango', 'banana', 'grapes', 'avacado', 'berry', 'apple']\n",
      "<class 'list'>\n"
     ]
    }
   ],
   "source": [
    "#Append function is used for adding some thing in list\n",
    "fruit.append(\"apple\")\n",
    "print(fruit)\n",
    "print(type(fruit))"
   ]
  },
  {
   "cell_type": "code",
   "execution_count": 13,
   "id": "1c308a61-ba9a-402d-b714-3f5da4294585",
   "metadata": {},
   "outputs": [
    {
     "name": "stdout",
     "output_type": "stream",
     "text": [
      "6\n"
     ]
    }
   ],
   "source": [
    "#How to findlenght of fruits \n",
    "print(len(fruit))"
   ]
  },
  {
   "cell_type": "code",
   "execution_count": 15,
   "id": "15b993a6-2f72-4a26-9851-e238de0d346f",
   "metadata": {},
   "outputs": [
    {
     "name": "stdout",
     "output_type": "stream",
     "text": [
      "mango\n"
     ]
    }
   ],
   "source": [
    "# Indexing in indexing we use [0,1,2,3,4,5]\n",
    "print(fruit[0])"
   ]
  },
  {
   "cell_type": "code",
   "execution_count": 17,
   "id": "8289fc53-220c-4442-8762-25fecd553830",
   "metadata": {},
   "outputs": [
    {
     "name": "stdout",
     "output_type": "stream",
     "text": [
      "avacado\n"
     ]
    }
   ],
   "source": [
    "# indexing a number\n",
    "print(fruit[3])"
   ]
  },
  {
   "cell_type": "code",
   "execution_count": 7,
   "id": "ddc2c553-bf38-4054-8e3f-83973a8d334b",
   "metadata": {},
   "outputs": [
    {
     "data": {
      "text/plain": [
       "['mango', 'banana', 'grapes', 'avacado', 'berry', 'apple']"
      ]
     },
     "execution_count": 7,
     "metadata": {},
     "output_type": "execute_result"
    }
   ],
   "source": [
    "#inclusive and exclusive\n",
    "fruit[:]"
   ]
  },
  {
   "cell_type": "code",
   "execution_count": 19,
   "id": "ca1de661-ff98-4c88-9afc-11387824a1cd",
   "metadata": {},
   "outputs": [
    {
     "data": {
      "text/plain": [
       "['mango', 'banana', 'grapes', 'avacado']"
      ]
     },
     "execution_count": 19,
     "metadata": {},
     "output_type": "execute_result"
    }
   ],
   "source": [
    "#include fruits 0 to 4 (the 4th fruit is not included)\n",
    "fruit[0:4]"
   ]
  },
  {
   "cell_type": "code",
   "execution_count": 21,
   "id": "cf28daa4-4484-46b7-b756-a77eb03b5e5d",
   "metadata": {},
   "outputs": [
    {
     "data": {
      "text/plain": [
       "['banana', 'grapes', 'avacado', 'berry', 'apple']"
      ]
     },
     "execution_count": 21,
     "metadata": {},
     "output_type": "execute_result"
    }
   ],
   "source": [
    "fruit[1:6]"
   ]
  },
  {
   "cell_type": "code",
   "execution_count": 23,
   "id": "2b8e5df0-782d-48a0-b161-ddf69b5c0cc6",
   "metadata": {},
   "outputs": [
    {
     "data": {
      "text/plain": [
       "['mango', 'banana', 'grapes', 'avacado', 'berry', 'apple']"
      ]
     },
     "execution_count": 23,
     "metadata": {},
     "output_type": "execute_result"
    }
   ],
   "source": [
    "fruit[:]"
   ]
  },
  {
   "cell_type": "code",
   "execution_count": 25,
   "id": "165062d5-e81a-4f72-ade5-de90475e30b7",
   "metadata": {},
   "outputs": [
    {
     "data": {
      "text/plain": [
       "['mango', 'grapes', 'berry']"
      ]
     },
     "execution_count": 25,
     "metadata": {},
     "output_type": "execute_result"
    }
   ],
   "source": [
    "#step function start no End no and step\n",
    "fruit[0:7:2]"
   ]
  },
  {
   "cell_type": "code",
   "execution_count": 12,
   "id": "8f53a790-1f55-40f7-a7af-287a8b30db4b",
   "metadata": {},
   "outputs": [
    {
     "name": "stdout",
     "output_type": "stream",
     "text": [
      "['mango', 'banana', 'grapes', 'avacado', 'berry', 'apple']\n"
     ]
    }
   ],
   "source": [
    "#print a list of fruit again\n",
    "print(fruit)"
   ]
  },
  {
   "cell_type": "code",
   "execution_count": 13,
   "id": "be369265-ba28-463a-be27-88777675cf6e",
   "metadata": {},
   "outputs": [
    {
     "data": {
      "text/plain": [
       "['banana', 'avacado', 'apple']"
      ]
     },
     "execution_count": 13,
     "metadata": {},
     "output_type": "execute_result"
    }
   ],
   "source": [
    "fruit[1:7:2]"
   ]
  },
  {
   "cell_type": "code",
   "execution_count": 27,
   "id": "e8f83428-0344-4259-a7ec-cd2ebfefc093",
   "metadata": {},
   "outputs": [
    {
     "data": {
      "text/plain": [
       "['mango', 'banana', 'grapes', 'avacado', 'berry', 'apple']"
      ]
     },
     "execution_count": 27,
     "metadata": {},
     "output_type": "execute_result"
    }
   ],
   "source": [
    "fruit"
   ]
  },
  {
   "cell_type": "code",
   "execution_count": 29,
   "id": "57477153-0063-4a97-99a4-884ad5ef0f15",
   "metadata": {},
   "outputs": [
    {
     "data": {
      "text/plain": [
       "['mango', 'banana', 'grapes', 'avacado', 'berry', 'apple']"
      ]
     },
     "execution_count": 29,
     "metadata": {},
     "output_type": "execute_result"
    }
   ],
   "source": [
    "#Reset kernel for al set\n",
    "fruit"
   ]
  },
  {
   "cell_type": "code",
   "execution_count": 31,
   "id": "f385703a-9841-4d5a-bfd3-0702f0570285",
   "metadata": {},
   "outputs": [
    {
     "name": "stdout",
     "output_type": "stream",
     "text": [
      "['mango', 'banana', 'grapes', 'avacado', 'berry', 'apple']\n"
     ]
    }
   ],
   "source": [
    "print(fruit)"
   ]
  },
  {
   "cell_type": "code",
   "execution_count": 33,
   "id": "89d93899-d59d-4a0d-a5c0-87a7d7ce3b46",
   "metadata": {},
   "outputs": [
    {
     "data": {
      "text/plain": [
       "['mango', 'banana', 'grapes', 'avacado', 'berry', 'apple']"
      ]
     },
     "execution_count": 33,
     "metadata": {},
     "output_type": "execute_result"
    }
   ],
   "source": [
    "fruit"
   ]
  },
  {
   "cell_type": "code",
   "execution_count": 35,
   "id": "23c8044e-4447-4861-a9f2-4046a4b257c8",
   "metadata": {},
   "outputs": [
    {
     "name": "stdout",
     "output_type": "stream",
     "text": [
      "[19, 19, 20, 22, 24, 24, 24, 25, 25, 26]\n",
      "min 19\n",
      "max 26\n",
      "added min and maximum [19, 19, 20, 22, 24, 24, 24, 25, 25, 26, 19, 26]\n",
      "median is 12.0\n",
      "average is 22.75\n",
      "range is 7\n"
     ]
    }
   ],
   "source": [
    "ages = [19, 22, 19, 24, 20, 25, 26, 24, 25, 24]\n",
    "# list sorting\n",
    "ages.sort()\n",
    "print(ages)\n",
    "# min and max in the age list\n",
    "print(\"min\",min(ages))\n",
    "print(\"max\",max(ages))\n",
    "# adding min and max again to the list\n",
    "min_item = min(ages)\n",
    "max_item = max(ages)\n",
    "ages.append(min_item)\n",
    "ages.append(max_item)\n",
    "print(\"added min and maximum\",ages)\n",
    "# finding median\n",
    "middle_index = len(ages) / 2\n",
    "middle_item = ages[int(middle_index)]\n",
    "print(\"median is\",middle_item/2)\n",
    "# finding average age\n",
    "sum_of_all_item= sum(ages)\n",
    "length_of_ages = len(ages)\n",
    "print(\"average is\",sum_of_all_item/length_of_ages)\n",
    "# finding range\n",
    "print(\"range is\",max_item - min_item)"
   ]
  },
  {
   "cell_type": "code",
   "execution_count": 37,
   "id": "a6c1f523-2794-43a1-9598-63f31e1ab4cb",
   "metadata": {},
   "outputs": [
    {
     "name": "stdout",
     "output_type": "stream",
     "text": [
      "[19, 22, 19, 24, 20, 25, 26, 24, 25, 24]\n"
     ]
    }
   ],
   "source": [
    "ages = [19, 22, 19, 24, 20, 25, 26, 24, 25, 24]\n",
    "print(ages)"
   ]
  },
  {
   "cell_type": "code",
   "execution_count": 39,
   "id": "7471e250-a638-4337-b1ec-b256f57a13d5",
   "metadata": {},
   "outputs": [
    {
     "name": "stdout",
     "output_type": "stream",
     "text": [
      "[19, 19, 20, 22, 24, 24, 24, 25, 25, 26]\n"
     ]
    }
   ],
   "source": [
    "ages.sort()\n",
    "print(ages)"
   ]
  },
  {
   "cell_type": "code",
   "execution_count": 41,
   "id": "522917f1-ebb7-4c9e-a227-d8d6ed15fb23",
   "metadata": {},
   "outputs": [
    {
     "name": "stdout",
     "output_type": "stream",
     "text": [
      "min 19\n",
      "max 26\n"
     ]
    }
   ],
   "source": [
    "# min and max in the age list\n",
    "print(\"min\",min(ages))\n",
    "print(\"max\",max(ages))"
   ]
  },
  {
   "cell_type": "code",
   "execution_count": null,
   "id": "001e9dd1-a527-4af6-a076-4b5af6f6222a",
   "metadata": {},
   "outputs": [],
   "source": []
  }
 ],
 "metadata": {
  "kernelspec": {
   "display_name": "Python 3 (ipykernel)",
   "language": "python",
   "name": "python3"
  },
  "language_info": {
   "codemirror_mode": {
    "name": "ipython",
    "version": 3
   },
   "file_extension": ".py",
   "mimetype": "text/x-python",
   "name": "python",
   "nbconvert_exporter": "python",
   "pygments_lexer": "ipython3",
   "version": "3.12.4"
  }
 },
 "nbformat": 4,
 "nbformat_minor": 5
}
